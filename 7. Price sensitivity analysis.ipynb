{
 "cells": [
  {
   "cell_type": "code",
   "execution_count": 1,
   "metadata": {},
   "outputs": [],
   "source": [
    "import numpy as np\n",
    "import pandas as pd\n",
    "import seaborn as sns"
   ]
  },
  {
   "cell_type": "code",
   "execution_count": 2,
   "metadata": {},
   "outputs": [],
   "source": [
    "sns.set(style = 'white')\n",
    "sns.set (style= 'whitegrid', color_codes = True)"
   ]
  },
  {
   "cell_type": "code",
   "execution_count": 3,
   "metadata": {},
   "outputs": [],
   "source": [
    "data = pd.read_csv(\"Wayfair-Babson_HackathonData 2019.csv\")"
   ]
  },
  {
   "cell_type": "code",
   "execution_count": 4,
   "metadata": {},
   "outputs": [
    {
     "data": {
      "text/html": [
       "<div>\n",
       "<style scoped>\n",
       "    .dataframe tbody tr th:only-of-type {\n",
       "        vertical-align: middle;\n",
       "    }\n",
       "\n",
       "    .dataframe tbody tr th {\n",
       "        vertical-align: top;\n",
       "    }\n",
       "\n",
       "    .dataframe thead th {\n",
       "        text-align: right;\n",
       "    }\n",
       "</style>\n",
       "<table border=\"1\" class=\"dataframe\">\n",
       "  <thead>\n",
       "    <tr style=\"text-align: right;\">\n",
       "      <th></th>\n",
       "      <th>Purchased</th>\n",
       "      <th>VisitorGroup</th>\n",
       "      <th>PlatformUsed</th>\n",
       "      <th>VisitSource</th>\n",
       "      <th>BrowserName</th>\n",
       "      <th>OSName</th>\n",
       "      <th>Gender</th>\n",
       "      <th>IncomeRange</th>\n",
       "      <th>ViewedProductInVisit</th>\n",
       "      <th>ViewedSaleInVisit</th>\n",
       "      <th>TotalPageViews</th>\n",
       "      <th>PlacedSearch</th>\n",
       "      <th>SecondsOnSite</th>\n",
       "      <th>ClickedBanner</th>\n",
       "      <th>AddedToBasket</th>\n",
       "    </tr>\n",
       "  </thead>\n",
       "  <tbody>\n",
       "    <tr>\n",
       "      <th>0</th>\n",
       "      <td>0</td>\n",
       "      <td>Prior Visitor with Purchase</td>\n",
       "      <td>Web</td>\n",
       "      <td>ThirdPartyAds</td>\n",
       "      <td>Chrome</td>\n",
       "      <td>Mac OS X</td>\n",
       "      <td>Female</td>\n",
       "      <td>100to250k</td>\n",
       "      <td>0</td>\n",
       "      <td>0</td>\n",
       "      <td>1</td>\n",
       "      <td>0</td>\n",
       "      <td>0</td>\n",
       "      <td>0</td>\n",
       "      <td>0</td>\n",
       "    </tr>\n",
       "    <tr>\n",
       "      <th>1</th>\n",
       "      <td>0</td>\n",
       "      <td>New Visitor</td>\n",
       "      <td>Phone</td>\n",
       "      <td>WebSearch</td>\n",
       "      <td>Safari</td>\n",
       "      <td>iOS</td>\n",
       "      <td>NaN</td>\n",
       "      <td>NaN</td>\n",
       "      <td>1</td>\n",
       "      <td>0</td>\n",
       "      <td>9</td>\n",
       "      <td>0</td>\n",
       "      <td>230</td>\n",
       "      <td>0</td>\n",
       "      <td>0</td>\n",
       "    </tr>\n",
       "    <tr>\n",
       "      <th>2</th>\n",
       "      <td>0</td>\n",
       "      <td>New Visitor</td>\n",
       "      <td>Web</td>\n",
       "      <td>WebSearch</td>\n",
       "      <td>Chrome</td>\n",
       "      <td>Windows</td>\n",
       "      <td>NaN</td>\n",
       "      <td>NaN</td>\n",
       "      <td>0</td>\n",
       "      <td>0</td>\n",
       "      <td>28</td>\n",
       "      <td>0</td>\n",
       "      <td>10412</td>\n",
       "      <td>0</td>\n",
       "      <td>0</td>\n",
       "    </tr>\n",
       "    <tr>\n",
       "      <th>3</th>\n",
       "      <td>0</td>\n",
       "      <td>Prior Visitor with Purchase</td>\n",
       "      <td>Phone</td>\n",
       "      <td>EmailFromWayfair</td>\n",
       "      <td>Safari</td>\n",
       "      <td>iOS</td>\n",
       "      <td>Female</td>\n",
       "      <td>100to250k</td>\n",
       "      <td>1</td>\n",
       "      <td>1</td>\n",
       "      <td>8</td>\n",
       "      <td>1</td>\n",
       "      <td>430</td>\n",
       "      <td>0</td>\n",
       "      <td>0</td>\n",
       "    </tr>\n",
       "    <tr>\n",
       "      <th>4</th>\n",
       "      <td>0</td>\n",
       "      <td>New Visitor</td>\n",
       "      <td>Phone</td>\n",
       "      <td>ThirdPartyAds</td>\n",
       "      <td>Safari</td>\n",
       "      <td>iOS</td>\n",
       "      <td>NaN</td>\n",
       "      <td>NaN</td>\n",
       "      <td>1</td>\n",
       "      <td>1</td>\n",
       "      <td>9</td>\n",
       "      <td>0</td>\n",
       "      <td>1158</td>\n",
       "      <td>0</td>\n",
       "      <td>0</td>\n",
       "    </tr>\n",
       "  </tbody>\n",
       "</table>\n",
       "</div>"
      ],
      "text/plain": [
       "   Purchased                 VisitorGroup PlatformUsed       VisitSource  \\\n",
       "0          0  Prior Visitor with Purchase          Web     ThirdPartyAds   \n",
       "1          0                  New Visitor        Phone         WebSearch   \n",
       "2          0                  New Visitor          Web         WebSearch   \n",
       "3          0  Prior Visitor with Purchase        Phone  EmailFromWayfair   \n",
       "4          0                  New Visitor        Phone     ThirdPartyAds   \n",
       "\n",
       "  BrowserName    OSName  Gender IncomeRange  ViewedProductInVisit  \\\n",
       "0      Chrome  Mac OS X  Female   100to250k                     0   \n",
       "1      Safari       iOS     NaN         NaN                     1   \n",
       "2      Chrome   Windows     NaN         NaN                     0   \n",
       "3      Safari       iOS  Female   100to250k                     1   \n",
       "4      Safari       iOS     NaN         NaN                     1   \n",
       "\n",
       "   ViewedSaleInVisit  TotalPageViews  PlacedSearch  SecondsOnSite  \\\n",
       "0                  0               1             0              0   \n",
       "1                  0               9             0            230   \n",
       "2                  0              28             0          10412   \n",
       "3                  1               8             1            430   \n",
       "4                  1               9             0           1158   \n",
       "\n",
       "   ClickedBanner  AddedToBasket  \n",
       "0              0              0  \n",
       "1              0              0  \n",
       "2              0              0  \n",
       "3              0              0  \n",
       "4              0              0  "
      ]
     },
     "execution_count": 4,
     "metadata": {},
     "output_type": "execute_result"
    }
   ],
   "source": [
    "data_deleted = data.drop(['State','UniqueVisitID','VisitDate'],axis = 1)\n",
    "data_deleted.head()"
   ]
  },
  {
   "cell_type": "code",
   "execution_count": 5,
   "metadata": {},
   "outputs": [],
   "source": [
    "data_fillnan = data_deleted.fillna(method = 'ffill') # fill in the NaN using the row before the row with null value\n",
    "data_fillasunknown = data_deleted.fillna(\"Unknown\") # fill in the NaN using \"Unknown\"\n",
    "data_fillall = data_deleted.replace(\"Unknown\",np.nan).fillna(method = 'ffill') # replace \"Unknown\" using NaN, and fill in the NaN\n",
    "data_deletenan = data_deleted.dropna(axis = 0,how = 'any') # drop all rows with null value\n",
    "data_deleteall = data_deleted.replace(\"Unknown\",np.nan).dropna(axis = 0,how = 'any') # drop all rows with null value or \"Unknown\" value\n",
    "data_deleteage = data_deleted.drop(['Gender'],axis = 1) # drop Gender"
   ]
  },
  {
   "cell_type": "code",
   "execution_count": 6,
   "metadata": {},
   "outputs": [],
   "source": [
    "data_fill_as_unknown = data_deleted.fillna(\"Unknown\") # fill in the NaN using \"Unknown\""
   ]
  },
  {
   "cell_type": "code",
   "execution_count": 7,
   "metadata": {},
   "outputs": [
    {
     "data": {
      "text/html": [
       "<div>\n",
       "<style scoped>\n",
       "    .dataframe tbody tr th:only-of-type {\n",
       "        vertical-align: middle;\n",
       "    }\n",
       "\n",
       "    .dataframe tbody tr th {\n",
       "        vertical-align: top;\n",
       "    }\n",
       "\n",
       "    .dataframe thead th {\n",
       "        text-align: right;\n",
       "    }\n",
       "</style>\n",
       "<table border=\"1\" class=\"dataframe\">\n",
       "  <thead>\n",
       "    <tr style=\"text-align: right;\">\n",
       "      <th></th>\n",
       "      <th>Purchased</th>\n",
       "      <th>VisitorGroup</th>\n",
       "      <th>PlatformUsed</th>\n",
       "      <th>VisitSource</th>\n",
       "      <th>BrowserName</th>\n",
       "      <th>OSName</th>\n",
       "      <th>Gender</th>\n",
       "      <th>IncomeRange</th>\n",
       "      <th>ViewedProductInVisit</th>\n",
       "      <th>ViewedSaleInVisit</th>\n",
       "      <th>TotalPageViews</th>\n",
       "      <th>PlacedSearch</th>\n",
       "      <th>SecondsOnSite</th>\n",
       "      <th>ClickedBanner</th>\n",
       "      <th>AddedToBasket</th>\n",
       "    </tr>\n",
       "  </thead>\n",
       "  <tbody>\n",
       "    <tr>\n",
       "      <th>0</th>\n",
       "      <td>0</td>\n",
       "      <td>Prior Visitor with Purchase</td>\n",
       "      <td>Web</td>\n",
       "      <td>ThirdPartyAds</td>\n",
       "      <td>Chrome</td>\n",
       "      <td>Mac OS X</td>\n",
       "      <td>Female</td>\n",
       "      <td>100to250k</td>\n",
       "      <td>0</td>\n",
       "      <td>0</td>\n",
       "      <td>1</td>\n",
       "      <td>0</td>\n",
       "      <td>0</td>\n",
       "      <td>0</td>\n",
       "      <td>0</td>\n",
       "    </tr>\n",
       "    <tr>\n",
       "      <th>1</th>\n",
       "      <td>0</td>\n",
       "      <td>New Visitor</td>\n",
       "      <td>Phone</td>\n",
       "      <td>WebSearch</td>\n",
       "      <td>Safari</td>\n",
       "      <td>iOS</td>\n",
       "      <td>Unknown</td>\n",
       "      <td>Unknown</td>\n",
       "      <td>1</td>\n",
       "      <td>0</td>\n",
       "      <td>9</td>\n",
       "      <td>0</td>\n",
       "      <td>230</td>\n",
       "      <td>0</td>\n",
       "      <td>0</td>\n",
       "    </tr>\n",
       "    <tr>\n",
       "      <th>2</th>\n",
       "      <td>0</td>\n",
       "      <td>New Visitor</td>\n",
       "      <td>Web</td>\n",
       "      <td>WebSearch</td>\n",
       "      <td>Chrome</td>\n",
       "      <td>Windows</td>\n",
       "      <td>Unknown</td>\n",
       "      <td>Unknown</td>\n",
       "      <td>0</td>\n",
       "      <td>0</td>\n",
       "      <td>28</td>\n",
       "      <td>0</td>\n",
       "      <td>10412</td>\n",
       "      <td>0</td>\n",
       "      <td>0</td>\n",
       "    </tr>\n",
       "    <tr>\n",
       "      <th>3</th>\n",
       "      <td>0</td>\n",
       "      <td>Prior Visitor with Purchase</td>\n",
       "      <td>Phone</td>\n",
       "      <td>EmailFromWayfair</td>\n",
       "      <td>Safari</td>\n",
       "      <td>iOS</td>\n",
       "      <td>Female</td>\n",
       "      <td>100to250k</td>\n",
       "      <td>1</td>\n",
       "      <td>1</td>\n",
       "      <td>8</td>\n",
       "      <td>1</td>\n",
       "      <td>430</td>\n",
       "      <td>0</td>\n",
       "      <td>0</td>\n",
       "    </tr>\n",
       "    <tr>\n",
       "      <th>4</th>\n",
       "      <td>0</td>\n",
       "      <td>New Visitor</td>\n",
       "      <td>Phone</td>\n",
       "      <td>ThirdPartyAds</td>\n",
       "      <td>Safari</td>\n",
       "      <td>iOS</td>\n",
       "      <td>Unknown</td>\n",
       "      <td>Unknown</td>\n",
       "      <td>1</td>\n",
       "      <td>1</td>\n",
       "      <td>9</td>\n",
       "      <td>0</td>\n",
       "      <td>1158</td>\n",
       "      <td>0</td>\n",
       "      <td>0</td>\n",
       "    </tr>\n",
       "  </tbody>\n",
       "</table>\n",
       "</div>"
      ],
      "text/plain": [
       "   Purchased                 VisitorGroup PlatformUsed       VisitSource  \\\n",
       "0          0  Prior Visitor with Purchase          Web     ThirdPartyAds   \n",
       "1          0                  New Visitor        Phone         WebSearch   \n",
       "2          0                  New Visitor          Web         WebSearch   \n",
       "3          0  Prior Visitor with Purchase        Phone  EmailFromWayfair   \n",
       "4          0                  New Visitor        Phone     ThirdPartyAds   \n",
       "\n",
       "  BrowserName    OSName   Gender IncomeRange  ViewedProductInVisit  \\\n",
       "0      Chrome  Mac OS X   Female   100to250k                     0   \n",
       "1      Safari       iOS  Unknown     Unknown                     1   \n",
       "2      Chrome   Windows  Unknown     Unknown                     0   \n",
       "3      Safari       iOS   Female   100to250k                     1   \n",
       "4      Safari       iOS  Unknown     Unknown                     1   \n",
       "\n",
       "   ViewedSaleInVisit  TotalPageViews  PlacedSearch  SecondsOnSite  \\\n",
       "0                  0               1             0              0   \n",
       "1                  0               9             0            230   \n",
       "2                  0              28             0          10412   \n",
       "3                  1               8             1            430   \n",
       "4                  1               9             0           1158   \n",
       "\n",
       "   ClickedBanner  AddedToBasket  \n",
       "0              0              0  \n",
       "1              0              0  \n",
       "2              0              0  \n",
       "3              0              0  \n",
       "4              0              0  "
      ]
     },
     "execution_count": 7,
     "metadata": {},
     "output_type": "execute_result"
    }
   ],
   "source": [
    "data = data_fill_as_unknown\n",
    "data.head()"
   ]
  },
  {
   "cell_type": "code",
   "execution_count": 8,
   "metadata": {},
   "outputs": [],
   "source": [
    "#data.isnull().sum()"
   ]
  },
  {
   "cell_type": "code",
   "execution_count": 9,
   "metadata": {},
   "outputs": [],
   "source": [
    "data_income = data.dropna(axis = 0, subset=['IncomeRange'])"
   ]
  },
  {
   "cell_type": "code",
   "execution_count": 10,
   "metadata": {},
   "outputs": [],
   "source": [
    "#sns.countplot( x = 'IncomeRange', data = data_income, palette = 'hls')"
   ]
  },
  {
   "cell_type": "code",
   "execution_count": 11,
   "metadata": {},
   "outputs": [],
   "source": [
    "# Divide data set into 3 groups\n",
    "income_group = ['High_income','Med_income','Low_income']\n",
    "\n",
    "High_income = data_income[data_income['IncomeRange'] == '100to250k'].drop(['IncomeRange'],axis = 1)\n",
    "Med_income = data_income[data_income['IncomeRange'] == '50to100k'].drop(['IncomeRange'],axis = 1)\n",
    "Low_income = data_income[data_income['IncomeRange'] == 'Under50k'].drop(['IncomeRange'],axis = 1)"
   ]
  },
  {
   "cell_type": "code",
   "execution_count": 12,
   "metadata": {},
   "outputs": [],
   "source": [
    "#  Analyze price sensitivity of each data set"
   ]
  },
  {
   "cell_type": "code",
   "execution_count": 13,
   "metadata": {},
   "outputs": [],
   "source": [
    "from sklearn.model_selection import train_test_split\n",
    "from sklearn.linear_model import LogisticRegression\n",
    "import statsmodels.api as sm"
   ]
  },
  {
   "cell_type": "code",
   "execution_count": 14,
   "metadata": {},
   "outputs": [],
   "source": [
    "# Create dummy variables  \n",
    "def create_dummy_income(df):\n",
    "    category_vars= ['VisitorGroup', 'PlatformUsed', 'VisitSource',\n",
    "       'BrowserName', 'OSName', 'Gender']\n",
    "    df = pd.get_dummies(df, columns = category_vars, drop_first = True)\n",
    "    return df\n",
    "   \n",
    "def logistic_model(df):    \n",
    "    df = create_dummy_income(df)\n",
    "    print(df.columns)\n",
    "    logr = LogisticRegression()\n",
    "    X = df.iloc[:,1:].values\n",
    "    y = df.iloc[:,0].values\n",
    "    X_train, X_test, y_train, y_test = train_test_split(X, y, test_size = .3, random_state = 30)\n",
    "    logr.fit(X_train,y_train)\n",
    "    log_reg = sm.Logit(y_train, X_train)\n",
    "    clf = log_reg.fit()\n",
    "    column_names = list(df.columns)\n",
    "    summary = clf.summary(xname = column_names[1:])\n",
    "    #odd ratios only  \n",
    "    print(summary)\n",
    "    print(np.exp(clf.params))\n",
    "\n",
    "#logistic_model(High_income)\n",
    "# Clicked Banner 6\n",
    "# Addded to Basket 7"
   ]
  },
  {
   "cell_type": "code",
   "execution_count": 15,
   "metadata": {},
   "outputs": [],
   "source": [
    "# With High-income people, Clicked to Banner increase the odd of purchase by 0.828 ( decrease)\n",
    "# Among high-income people, if you are male, the odd that purchase is 1.06 higher than a woman\n",
    "# Among High income people, if you are using Web, the odd that you purchase is 1.334 higher compared to using phone \n",
    "# Among High income people, if come from Email, the odd that you purchase is 1.869 higher compared to from Thirparty, \n",
    "# and 2.38 higher compared to Web search  \n",
    "# Profile of the money maker: Male, use Web, come from Email, High Income"
   ]
  },
  {
   "cell_type": "code",
   "execution_count": 16,
   "metadata": {
    "scrolled": true
   },
   "outputs": [],
   "source": [
    "#logistic_model(Med_income)"
   ]
  },
  {
   "cell_type": "code",
   "execution_count": 17,
   "metadata": {},
   "outputs": [],
   "source": [
    "# With Med income people, the Clicked to Banner rate increased the odd of purchase by 0.742\n",
    "# Among Med income people, if you are male, the odd that you purchase is 1.03 higher than women \n",
    "# Among Med income people, if you are using Web, the odd that you purchase is 1.370 compared to using phone "
   ]
  },
  {
   "cell_type": "code",
   "execution_count": 18,
   "metadata": {},
   "outputs": [],
   "source": [
    "#logistic_model(Low_income)"
   ]
  },
  {
   "cell_type": "code",
   "execution_count": 19,
   "metadata": {},
   "outputs": [],
   "source": [
    "# With low income people, the Clicked Banner rate increase the odd of purchase by 0.695 ( decrease)\n",
    "# Among Low income people, if you are male, the odd that you purchase is 0.956 compared to women ( lower than women) \n",
    "# Among Low income people, if you are using Web, the odd that you purchase is 1.334 compared to using phone "
   ]
  },
  {
   "cell_type": "code",
   "execution_count": 20,
   "metadata": {},
   "outputs": [],
   "source": [
    "# Assume Viewed Sales meaning more interested in Sales\n",
    "#sns.countplot(x = 'ViewedSaleInVisit', data = data_income, hue = 'IncomeRange', palette = 'hls')"
   ]
  },
  {
   "cell_type": "code",
   "execution_count": 21,
   "metadata": {},
   "outputs": [],
   "source": [
    "# sns.barplot( x = 'IncomeRange', y = 'ViewedSaleInVisit',data = data_income, palette = 'hls')\n",
    "# Low income people are more intested in Sales"
   ]
  },
  {
   "cell_type": "code",
   "execution_count": 22,
   "metadata": {},
   "outputs": [],
   "source": [
    "# sns.barplot( x = 'IncomeRange', y = 'ClickedBanner',data = data_income, palette = 'hls')\n",
    "# Low income people are more likely to Click on the Banner\n",
    "# This means the Banner will work better with low income people"
   ]
  },
  {
   "cell_type": "code",
   "execution_count": 23,
   "metadata": {
    "scrolled": true
   },
   "outputs": [],
   "source": [
    "#sns.barplot( x = 'PlatformUsed', y = 'ClickedBanner',data = data, palette = 'hls')\n",
    "# People Click more when they are on the Web ( 6% vs. 5%)"
   ]
  },
  {
   "cell_type": "code",
   "execution_count": 24,
   "metadata": {
    "scrolled": true
   },
   "outputs": [],
   "source": [
    "# sns.barplot( x = 'PlatformUsed', y = 'AddedToBasket',data = data, palette = 'hls')\n",
    "# Among all people, people Add to Basket almost at the same rate when they are on the phone and on the web, both 14.2 %"
   ]
  },
  {
   "cell_type": "code",
   "execution_count": 25,
   "metadata": {},
   "outputs": [
    {
     "data": {
      "text/plain": [
       "<matplotlib.axes._subplots.AxesSubplot at 0x131312828>"
      ]
     },
     "execution_count": 25,
     "metadata": {},
     "output_type": "execute_result"
    },
    {
     "data": {
      "image/png": "[encoded data removed]",
      "text/plain": [
       "<Figure size 432x288 with 1 Axes>"
      ]
     },
     "metadata": {},
     "output_type": "display_data"
    }
   ],
   "source": [
    "sns.barplot( x = 'PlatformUsed', y = 'Purchased',data = data, palette = 'hls')\n",
    "# Among all people, people buy a lot more (3.2 %) when they are on the Web( 3.2 %) compared to when they are on the phone (1.9%)\n",
    "# same add to basket rate, but much lower purchase rate"
   ]
  },
  {
   "cell_type": "code",
   "execution_count": 26,
   "metadata": {},
   "outputs": [],
   "source": [
    "#sns.barplot( x = 'Gender', y = 'Purchased',data = data, palette = 'hls')\n",
    "# Among all, people purchase more when they are Male, 0.055 vs 0.07 ( 5.5% vs 7.1%)"
   ]
  },
  {
   "cell_type": "code",
   "execution_count": 27,
   "metadata": {},
   "outputs": [
    {
     "data": {
      "text/plain": [
       "Index(['Purchased', 'VisitorGroup', 'PlatformUsed', 'VisitSource',\n",
       "       'BrowserName', 'OSName', 'Gender', 'IncomeRange',\n",
       "       'ViewedProductInVisit', 'ViewedSaleInVisit', 'TotalPageViews',\n",
       "       'PlacedSearch', 'SecondsOnSite', 'ClickedBanner', 'AddedToBasket'],\n",
       "      dtype='object')"
      ]
     },
     "execution_count": 27,
     "metadata": {},
     "output_type": "execute_result"
    }
   ],
   "source": [
    "data_income.columns"
   ]
  },
  {
   "cell_type": "code",
   "execution_count": 28,
   "metadata": {},
   "outputs": [],
   "source": [
    "# Split data set into phone user and web user\n",
    "phone_user = data[data['PlatformUsed'] == 'Phone']\n",
    "web_user = data[data['PlatformUsed'] == 'Web']"
   ]
  },
  {
   "cell_type": "code",
   "execution_count": 29,
   "metadata": {},
   "outputs": [],
   "source": [
    "#sns.barplot( x = 'Gender', y = 'Purchased',data = phone_user , palette = 'hls')\n",
    "# Among all phone users, male purchase slightly more than women (0.054 vs. 0.047) or 5.4% vs 4.7%"
   ]
  },
  {
   "cell_type": "code",
   "execution_count": 30,
   "metadata": {},
   "outputs": [
    {
     "data": {
      "text/plain": [
       "<matplotlib.axes._subplots.AxesSubplot at 0x12a5545c0>"
      ]
     },
     "execution_count": 30,
     "metadata": {},
     "output_type": "execute_result"
    },
    {
     "data": {
      "image/png": "[encoded data removed]",
      "text/plain": [
       "<Figure size 432x288 with 1 Axes>"
      ]
     },
     "metadata": {},
     "output_type": "display_data"
    }
   ],
   "source": [
    "sns.barplot( x = 'Gender', y = 'ClickedBanner',data = phone_user , palette = 'hls')\n",
    "# Among all phone users, male have the same click banner rate as women, 5%\n",
    "# Male purchase more if they are using phone, they have the same rate of clicking like women on the banner."
   ]
  },
  {
   "cell_type": "code",
   "execution_count": 31,
   "metadata": {},
   "outputs": [],
   "source": [
    "#sns.barplot( x = 'Gender', y = 'ClickedBanner',data = web_user , palette = 'hls')\n",
    "# Among all web users, women click to banner more( 6.1%) while men click on banner less 5.1%\n",
    "# Male purchase more if they are using web, but they don't click Banner on the webas much as women.\n"
   ]
  },
  {
   "cell_type": "code",
   "execution_count": 32,
   "metadata": {},
   "outputs": [],
   "source": [
    "# If you are Female, Clicked to Banner does explain whether you purchase or not.\n",
    "# But clicked to Banner reduces the odd that you will purchase by 0.799\n"
   ]
  }
 ],
 "metadata": {
  "kernelspec": {
   "display_name": "Python 3",
   "language": "python",
   "name": "python3"
  },
  "language_info": {
   "codemirror_mode": {
    "name": "ipython",
    "version": 3
   },
   "file_extension": ".py",
   "mimetype": "text/x-python",
   "name": "python",
   "nbconvert_exporter": "python",
   "pygments_lexer": "ipython3",
   "version": "3.6.8"
  },
  "pycharm": {
   "stem_cell": {
    "cell_type": "raw",
    "metadata": {
     "collapsed": false
    },
    "source": []
   }
  }
 },
 "nbformat": 4,
 "nbformat_minor": 2
}

{
 "cells": [
  {
   "cell_type": "code",
   "execution_count": 1,
   "metadata": {},
   "outputs": [],
   "source": [
    "import numpy as np\n",
    "import pandas as pd\n",
    "import seaborn as sns\n",
    "sns.set(style = 'white')\n",
    "sns.set(style = 'whitegrid', color_codes = True)\n",
    "from sklearn.model_selection import train_test_split\n",
    "from sklearn.linear_model import LogisticRegression\n",
    "import statsmodels.api as sm"
   ]
  },
  {
   "cell_type": "code",
   "execution_count": 2,
   "metadata": {},
   "outputs": [],
   "source": [
    "data = pd.read_csv(\"Wayfair-Babson_HackathonData 2019.csv\")"
   ]
  },
  {
   "cell_type": "code",
   "execution_count": 3,
   "metadata": {},
   "outputs": [
    {
     "data": {
      "text/html": [
       "<div>\n",
       "<style scoped>\n",
       "    .dataframe tbody tr th:only-of-type {\n",
       "        vertical-align: middle;\n",
       "    }\n",
       "\n",
       "    .dataframe tbody tr th {\n",
       "        vertical-align: top;\n",
       "    }\n",
       "\n",
       "    .dataframe thead th {\n",
       "        text-align: right;\n",
       "    }\n",
       "</style>\n",
       "<table border=\"1\" class=\"dataframe\">\n",
       "  <thead>\n",
       "    <tr style=\"text-align: right;\">\n",
       "      <th></th>\n",
       "      <th>Purchased</th>\n",
       "      <th>VisitDate</th>\n",
       "      <th>UniqueVisitID</th>\n",
       "      <th>VisitorGroup</th>\n",
       "      <th>PlatformUsed</th>\n",
       "      <th>VisitSource</th>\n",
       "      <th>BrowserName</th>\n",
       "      <th>OSName</th>\n",
       "      <th>State</th>\n",
       "      <th>Gender</th>\n",
       "      <th>IncomeRange</th>\n",
       "      <th>ViewedProductInVisit</th>\n",
       "      <th>ViewedSaleInVisit</th>\n",
       "      <th>TotalPageViews</th>\n",
       "      <th>PlacedSearch</th>\n",
       "      <th>SecondsOnSite</th>\n",
       "      <th>ClickedBanner</th>\n",
       "      <th>AddedToBasket</th>\n",
       "    </tr>\n",
       "  </thead>\n",
       "  <tbody>\n",
       "    <tr>\n",
       "      <th>0</th>\n",
       "      <td>0</td>\n",
       "      <td>7/1/2017</td>\n",
       "      <td>2.014240e+15</td>\n",
       "      <td>Prior Visitor with Purchase</td>\n",
       "      <td>Web</td>\n",
       "      <td>ThirdPartyAds</td>\n",
       "      <td>Chrome</td>\n",
       "      <td>Mac OS X</td>\n",
       "      <td>NY</td>\n",
       "      <td>Female</td>\n",
       "      <td>100to250k</td>\n",
       "      <td>0</td>\n",
       "      <td>0</td>\n",
       "      <td>1</td>\n",
       "      <td>0</td>\n",
       "      <td>0</td>\n",
       "      <td>0</td>\n",
       "      <td>0</td>\n",
       "    </tr>\n",
       "    <tr>\n",
       "      <th>1</th>\n",
       "      <td>0</td>\n",
       "      <td>7/1/2017</td>\n",
       "      <td>2.909700e+15</td>\n",
       "      <td>New Visitor</td>\n",
       "      <td>Phone</td>\n",
       "      <td>WebSearch</td>\n",
       "      <td>Safari</td>\n",
       "      <td>iOS</td>\n",
       "      <td>NaN</td>\n",
       "      <td>NaN</td>\n",
       "      <td>NaN</td>\n",
       "      <td>1</td>\n",
       "      <td>0</td>\n",
       "      <td>9</td>\n",
       "      <td>0</td>\n",
       "      <td>230</td>\n",
       "      <td>0</td>\n",
       "      <td>0</td>\n",
       "    </tr>\n",
       "    <tr>\n",
       "      <th>2</th>\n",
       "      <td>0</td>\n",
       "      <td>7/1/2017</td>\n",
       "      <td>2.987400e+15</td>\n",
       "      <td>New Visitor</td>\n",
       "      <td>Web</td>\n",
       "      <td>WebSearch</td>\n",
       "      <td>Chrome</td>\n",
       "      <td>Windows</td>\n",
       "      <td>NaN</td>\n",
       "      <td>NaN</td>\n",
       "      <td>NaN</td>\n",
       "      <td>0</td>\n",
       "      <td>0</td>\n",
       "      <td>28</td>\n",
       "      <td>0</td>\n",
       "      <td>10412</td>\n",
       "      <td>0</td>\n",
       "      <td>0</td>\n",
       "    </tr>\n",
       "    <tr>\n",
       "      <th>3</th>\n",
       "      <td>0</td>\n",
       "      <td>7/1/2017</td>\n",
       "      <td>6.875970e+15</td>\n",
       "      <td>Prior Visitor with Purchase</td>\n",
       "      <td>Phone</td>\n",
       "      <td>EmailFromWayfair</td>\n",
       "      <td>Safari</td>\n",
       "      <td>iOS</td>\n",
       "      <td>WA</td>\n",
       "      <td>Female</td>\n",
       "      <td>100to250k</td>\n",
       "      <td>1</td>\n",
       "      <td>1</td>\n",
       "      <td>8</td>\n",
       "      <td>1</td>\n",
       "      <td>430</td>\n",
       "      <td>0</td>\n",
       "      <td>0</td>\n",
       "    </tr>\n",
       "    <tr>\n",
       "      <th>4</th>\n",
       "      <td>0</td>\n",
       "      <td>7/1/2017</td>\n",
       "      <td>1.153490e+16</td>\n",
       "      <td>New Visitor</td>\n",
       "      <td>Phone</td>\n",
       "      <td>ThirdPartyAds</td>\n",
       "      <td>Safari</td>\n",
       "      <td>iOS</td>\n",
       "      <td>NaN</td>\n",
       "      <td>NaN</td>\n",
       "      <td>NaN</td>\n",
       "      <td>1</td>\n",
       "      <td>1</td>\n",
       "      <td>9</td>\n",
       "      <td>0</td>\n",
       "      <td>1158</td>\n",
       "      <td>0</td>\n",
       "      <td>0</td>\n",
       "    </tr>\n",
       "  </tbody>\n",
       "</table>\n",
       "</div>"
      ],
      "text/plain": [
       "   Purchased VisitDate  UniqueVisitID                 VisitorGroup  \\\n",
       "0          0  7/1/2017   2.014240e+15  Prior Visitor with Purchase   \n",
       "1          0  7/1/2017   2.909700e+15                  New Visitor   \n",
       "2          0  7/1/2017   2.987400e+15                  New Visitor   \n",
       "3          0  7/1/2017   6.875970e+15  Prior Visitor with Purchase   \n",
       "4          0  7/1/2017   1.153490e+16                  New Visitor   \n",
       "\n",
       "  PlatformUsed       VisitSource BrowserName    OSName State  Gender  \\\n",
       "0          Web     ThirdPartyAds      Chrome  Mac OS X    NY  Female   \n",
       "1        Phone         WebSearch      Safari       iOS   NaN     NaN   \n",
       "2          Web         WebSearch      Chrome   Windows   NaN     NaN   \n",
       "3        Phone  EmailFromWayfair      Safari       iOS    WA  Female   \n",
       "4        Phone     ThirdPartyAds      Safari       iOS   NaN     NaN   \n",
       "\n",
       "  IncomeRange  ViewedProductInVisit  ViewedSaleInVisit  TotalPageViews  \\\n",
       "0   100to250k                     0                  0               1   \n",
       "1         NaN                     1                  0               9   \n",
       "2         NaN                     0                  0              28   \n",
       "3   100to250k                     1                  1               8   \n",
       "4         NaN                     1                  1               9   \n",
       "\n",
       "   PlacedSearch  SecondsOnSite  ClickedBanner  AddedToBasket  \n",
       "0             0              0              0              0  \n",
       "1             0            230              0              0  \n",
       "2             0          10412              0              0  \n",
       "3             1            430              0              0  \n",
       "4             0           1158              0              0  "
      ]
     },
     "execution_count": 3,
     "metadata": {},
     "output_type": "execute_result"
    }
   ],
   "source": [
    "data.head()"
   ]
  },
  {
   "cell_type": "code",
   "execution_count": 4,
   "metadata": {},
   "outputs": [
    {
     "data": {
      "text/html": [
       "<div>\n",
       "<style scoped>\n",
       "    .dataframe tbody tr th:only-of-type {\n",
       "        vertical-align: middle;\n",
       "    }\n",
       "\n",
       "    .dataframe tbody tr th {\n",
       "        vertical-align: top;\n",
       "    }\n",
       "\n",
       "    .dataframe thead th {\n",
       "        text-align: right;\n",
       "    }\n",
       "</style>\n",
       "<table border=\"1\" class=\"dataframe\">\n",
       "  <thead>\n",
       "    <tr style=\"text-align: right;\">\n",
       "      <th></th>\n",
       "      <th>Purchased</th>\n",
       "      <th>UniqueVisitID</th>\n",
       "      <th>ViewedProductInVisit</th>\n",
       "      <th>ViewedSaleInVisit</th>\n",
       "      <th>TotalPageViews</th>\n",
       "      <th>PlacedSearch</th>\n",
       "      <th>SecondsOnSite</th>\n",
       "      <th>ClickedBanner</th>\n",
       "      <th>AddedToBasket</th>\n",
       "    </tr>\n",
       "  </thead>\n",
       "  <tbody>\n",
       "    <tr>\n",
       "      <th>count</th>\n",
       "      <td>992977.000000</td>\n",
       "      <td>9.929770e+05</td>\n",
       "      <td>992977.000000</td>\n",
       "      <td>992977.000000</td>\n",
       "      <td>992977.000000</td>\n",
       "      <td>992977.000000</td>\n",
       "      <td>992977.000000</td>\n",
       "      <td>992977.000000</td>\n",
       "      <td>992977.000000</td>\n",
       "    </tr>\n",
       "    <tr>\n",
       "      <th>mean</th>\n",
       "      <td>0.025445</td>\n",
       "      <td>4.608987e+18</td>\n",
       "      <td>0.509052</td>\n",
       "      <td>0.139695</td>\n",
       "      <td>13.975567</td>\n",
       "      <td>0.366073</td>\n",
       "      <td>1436.925027</td>\n",
       "      <td>0.046510</td>\n",
       "      <td>0.106376</td>\n",
       "    </tr>\n",
       "    <tr>\n",
       "      <th>std</th>\n",
       "      <td>0.157472</td>\n",
       "      <td>2.661529e+18</td>\n",
       "      <td>0.499918</td>\n",
       "      <td>0.346671</td>\n",
       "      <td>23.037259</td>\n",
       "      <td>0.481730</td>\n",
       "      <td>3216.872703</td>\n",
       "      <td>0.210586</td>\n",
       "      <td>0.308319</td>\n",
       "    </tr>\n",
       "    <tr>\n",
       "      <th>min</th>\n",
       "      <td>0.000000</td>\n",
       "      <td>1.328640e+13</td>\n",
       "      <td>0.000000</td>\n",
       "      <td>0.000000</td>\n",
       "      <td>1.000000</td>\n",
       "      <td>0.000000</td>\n",
       "      <td>0.000000</td>\n",
       "      <td>0.000000</td>\n",
       "      <td>0.000000</td>\n",
       "    </tr>\n",
       "    <tr>\n",
       "      <th>25%</th>\n",
       "      <td>0.000000</td>\n",
       "      <td>2.304610e+18</td>\n",
       "      <td>0.000000</td>\n",
       "      <td>0.000000</td>\n",
       "      <td>3.000000</td>\n",
       "      <td>0.000000</td>\n",
       "      <td>38.000000</td>\n",
       "      <td>0.000000</td>\n",
       "      <td>0.000000</td>\n",
       "    </tr>\n",
       "    <tr>\n",
       "      <th>50%</th>\n",
       "      <td>0.000000</td>\n",
       "      <td>4.607860e+18</td>\n",
       "      <td>1.000000</td>\n",
       "      <td>0.000000</td>\n",
       "      <td>7.000000</td>\n",
       "      <td>0.000000</td>\n",
       "      <td>237.000000</td>\n",
       "      <td>0.000000</td>\n",
       "      <td>0.000000</td>\n",
       "    </tr>\n",
       "    <tr>\n",
       "      <th>75%</th>\n",
       "      <td>0.000000</td>\n",
       "      <td>6.913870e+18</td>\n",
       "      <td>1.000000</td>\n",
       "      <td>0.000000</td>\n",
       "      <td>16.000000</td>\n",
       "      <td>1.000000</td>\n",
       "      <td>1071.000000</td>\n",
       "      <td>0.000000</td>\n",
       "      <td>0.000000</td>\n",
       "    </tr>\n",
       "    <tr>\n",
       "      <th>max</th>\n",
       "      <td>1.000000</td>\n",
       "      <td>9.223330e+18</td>\n",
       "      <td>1.000000</td>\n",
       "      <td>1.000000</td>\n",
       "      <td>1217.000000</td>\n",
       "      <td>1.000000</td>\n",
       "      <td>86896.000000</td>\n",
       "      <td>1.000000</td>\n",
       "      <td>1.000000</td>\n",
       "    </tr>\n",
       "  </tbody>\n",
       "</table>\n",
       "</div>"
      ],
      "text/plain": [
       "           Purchased  UniqueVisitID  ViewedProductInVisit  ViewedSaleInVisit  \\\n",
       "count  992977.000000   9.929770e+05         992977.000000      992977.000000   \n",
       "mean        0.025445   4.608987e+18              0.509052           0.139695   \n",
       "std         0.157472   2.661529e+18              0.499918           0.346671   \n",
       "min         0.000000   1.328640e+13              0.000000           0.000000   \n",
       "25%         0.000000   2.304610e+18              0.000000           0.000000   \n",
       "50%         0.000000   4.607860e+18              1.000000           0.000000   \n",
       "75%         0.000000   6.913870e+18              1.000000           0.000000   \n",
       "max         1.000000   9.223330e+18              1.000000           1.000000   \n",
       "\n",
       "       TotalPageViews   PlacedSearch  SecondsOnSite  ClickedBanner  \\\n",
       "count   992977.000000  992977.000000  992977.000000  992977.000000   \n",
       "mean        13.975567       0.366073    1436.925027       0.046510   \n",
       "std         23.037259       0.481730    3216.872703       0.210586   \n",
       "min          1.000000       0.000000       0.000000       0.000000   \n",
       "25%          3.000000       0.000000      38.000000       0.000000   \n",
       "50%          7.000000       0.000000     237.000000       0.000000   \n",
       "75%         16.000000       1.000000    1071.000000       0.000000   \n",
       "max       1217.000000       1.000000   86896.000000       1.000000   \n",
       "\n",
       "       AddedToBasket  \n",
       "count  992977.000000  \n",
       "mean        0.106376  \n",
       "std         0.308319  \n",
       "min         0.000000  \n",
       "25%         0.000000  \n",
       "50%         0.000000  \n",
       "75%         0.000000  \n",
       "max         1.000000  "
      ]
     },
     "execution_count": 4,
     "metadata": {},
     "output_type": "execute_result"
    }
   ],
   "source": [
    "data.describe()"
   ]
  },
  {
   "cell_type": "code",
   "execution_count": 5,
   "metadata": {},
   "outputs": [
    {
     "name": "stdout",
     "output_type": "stream",
     "text": [
      "<class 'pandas.core.frame.DataFrame'>\n",
      "RangeIndex: 992977 entries, 0 to 992976\n",
      "Data columns (total 18 columns):\n",
      "Purchased               992977 non-null int64\n",
      "VisitDate               992977 non-null object\n",
      "UniqueVisitID           992977 non-null float64\n",
      "VisitorGroup            992977 non-null object\n",
      "PlatformUsed            992977 non-null object\n",
      "VisitSource             992977 non-null object\n",
      "BrowserName             992977 non-null object\n",
      "OSName                  992977 non-null object\n",
      "State                   408261 non-null object\n",
      "Gender                  639596 non-null object\n",
      "IncomeRange             383272 non-null object\n",
      "ViewedProductInVisit    992977 non-null int64\n",
      "ViewedSaleInVisit       992977 non-null int64\n",
      "TotalPageViews          992977 non-null int64\n",
      "PlacedSearch            992977 non-null int64\n",
      "SecondsOnSite           992977 non-null int64\n",
      "ClickedBanner           992977 non-null int64\n",
      "AddedToBasket           992977 non-null int64\n",
      "dtypes: float64(1), int64(8), object(9)\n",
      "memory usage: 136.4+ MB\n"
     ]
    }
   ],
   "source": [
    "data.info()"
   ]
  },
  {
   "cell_type": "code",
   "execution_count": 6,
   "metadata": {},
   "outputs": [
    {
     "data": {
      "text/plain": [
       "Index(['Purchased', 'VisitDate', 'UniqueVisitID', 'VisitorGroup',\n",
       "       'PlatformUsed', 'VisitSource', 'BrowserName', 'OSName', 'State',\n",
       "       'Gender', 'IncomeRange', 'ViewedProductInVisit', 'ViewedSaleInVisit',\n",
       "       'TotalPageViews', 'PlacedSearch', 'SecondsOnSite', 'ClickedBanner',\n",
       "       'AddedToBasket'],\n",
       "      dtype='object')"
      ]
     },
     "execution_count": 6,
     "metadata": {},
     "output_type": "execute_result"
    }
   ],
   "source": [
    "data.columns"
   ]
  },
  {
   "cell_type": "code",
   "execution_count": 7,
   "metadata": {},
   "outputs": [],
   "source": [
    "data = data.drop(['VisitDate', 'State'], axis = 1)"
   ]
  },
  {
   "cell_type": "code",
   "execution_count": 8,
   "metadata": {},
   "outputs": [
    {
     "data": {
      "text/html": [
       "<div>\n",
       "<style scoped>\n",
       "    .dataframe tbody tr th:only-of-type {\n",
       "        vertical-align: middle;\n",
       "    }\n",
       "\n",
       "    .dataframe tbody tr th {\n",
       "        vertical-align: top;\n",
       "    }\n",
       "\n",
       "    .dataframe thead th {\n",
       "        text-align: right;\n",
       "    }\n",
       "</style>\n",
       "<table border=\"1\" class=\"dataframe\">\n",
       "  <thead>\n",
       "    <tr style=\"text-align: right;\">\n",
       "      <th></th>\n",
       "      <th>Purchased</th>\n",
       "      <th>UniqueVisitID</th>\n",
       "      <th>VisitorGroup</th>\n",
       "      <th>PlatformUsed</th>\n",
       "      <th>VisitSource</th>\n",
       "      <th>BrowserName</th>\n",
       "      <th>OSName</th>\n",
       "      <th>Gender</th>\n",
       "      <th>IncomeRange</th>\n",
       "      <th>ViewedProductInVisit</th>\n",
       "      <th>ViewedSaleInVisit</th>\n",
       "      <th>TotalPageViews</th>\n",
       "      <th>PlacedSearch</th>\n",
       "      <th>SecondsOnSite</th>\n",
       "      <th>ClickedBanner</th>\n",
       "      <th>AddedToBasket</th>\n",
       "    </tr>\n",
       "  </thead>\n",
       "  <tbody>\n",
       "    <tr>\n",
       "      <th>992972</th>\n",
       "      <td>0</td>\n",
       "      <td>9.203610e+18</td>\n",
       "      <td>New Visitor</td>\n",
       "      <td>Phone</td>\n",
       "      <td>ThirdPartyAds</td>\n",
       "      <td>Safari</td>\n",
       "      <td>iOS</td>\n",
       "      <td>NaN</td>\n",
       "      <td>NaN</td>\n",
       "      <td>1</td>\n",
       "      <td>0</td>\n",
       "      <td>8</td>\n",
       "      <td>0</td>\n",
       "      <td>993</td>\n",
       "      <td>0</td>\n",
       "      <td>0</td>\n",
       "    </tr>\n",
       "    <tr>\n",
       "      <th>992973</th>\n",
       "      <td>0</td>\n",
       "      <td>9.208420e+18</td>\n",
       "      <td>New Visitor</td>\n",
       "      <td>Web</td>\n",
       "      <td>WebSearch</td>\n",
       "      <td>Safari</td>\n",
       "      <td>iOS</td>\n",
       "      <td>NaN</td>\n",
       "      <td>NaN</td>\n",
       "      <td>0</td>\n",
       "      <td>1</td>\n",
       "      <td>3</td>\n",
       "      <td>0</td>\n",
       "      <td>254</td>\n",
       "      <td>0</td>\n",
       "      <td>0</td>\n",
       "    </tr>\n",
       "    <tr>\n",
       "      <th>992974</th>\n",
       "      <td>0</td>\n",
       "      <td>9.209280e+18</td>\n",
       "      <td>New Visitor</td>\n",
       "      <td>Phone</td>\n",
       "      <td>WebSearch</td>\n",
       "      <td>Safari</td>\n",
       "      <td>iOS</td>\n",
       "      <td>NaN</td>\n",
       "      <td>NaN</td>\n",
       "      <td>0</td>\n",
       "      <td>0</td>\n",
       "      <td>1</td>\n",
       "      <td>0</td>\n",
       "      <td>0</td>\n",
       "      <td>0</td>\n",
       "      <td>0</td>\n",
       "    </tr>\n",
       "    <tr>\n",
       "      <th>992975</th>\n",
       "      <td>0</td>\n",
       "      <td>9.213680e+18</td>\n",
       "      <td>Prior Visitor</td>\n",
       "      <td>Phone</td>\n",
       "      <td>WebSearch</td>\n",
       "      <td>Safari</td>\n",
       "      <td>iOS</td>\n",
       "      <td>Male</td>\n",
       "      <td>100to250k</td>\n",
       "      <td>1</td>\n",
       "      <td>0</td>\n",
       "      <td>24</td>\n",
       "      <td>1</td>\n",
       "      <td>2077</td>\n",
       "      <td>0</td>\n",
       "      <td>1</td>\n",
       "    </tr>\n",
       "    <tr>\n",
       "      <th>992976</th>\n",
       "      <td>0</td>\n",
       "      <td>9.219090e+18</td>\n",
       "      <td>Prior Visitor</td>\n",
       "      <td>Phone</td>\n",
       "      <td>ThirdPartyAds</td>\n",
       "      <td>Chrome</td>\n",
       "      <td>Android</td>\n",
       "      <td>Unknown</td>\n",
       "      <td>NaN</td>\n",
       "      <td>1</td>\n",
       "      <td>0</td>\n",
       "      <td>20</td>\n",
       "      <td>0</td>\n",
       "      <td>8730</td>\n",
       "      <td>0</td>\n",
       "      <td>0</td>\n",
       "    </tr>\n",
       "  </tbody>\n",
       "</table>\n",
       "</div>"
      ],
      "text/plain": [
       "        Purchased  UniqueVisitID   VisitorGroup PlatformUsed    VisitSource  \\\n",
       "992972          0   9.203610e+18    New Visitor        Phone  ThirdPartyAds   \n",
       "992973          0   9.208420e+18    New Visitor          Web      WebSearch   \n",
       "992974          0   9.209280e+18    New Visitor        Phone      WebSearch   \n",
       "992975          0   9.213680e+18  Prior Visitor        Phone      WebSearch   \n",
       "992976          0   9.219090e+18  Prior Visitor        Phone  ThirdPartyAds   \n",
       "\n",
       "       BrowserName   OSName   Gender IncomeRange  ViewedProductInVisit  \\\n",
       "992972      Safari      iOS      NaN         NaN                     1   \n",
       "992973      Safari      iOS      NaN         NaN                     0   \n",
       "992974      Safari      iOS      NaN         NaN                     0   \n",
       "992975      Safari      iOS     Male   100to250k                     1   \n",
       "992976      Chrome  Android  Unknown         NaN                     1   \n",
       "\n",
       "        ViewedSaleInVisit  TotalPageViews  PlacedSearch  SecondsOnSite  \\\n",
       "992972                  0               8             0            993   \n",
       "992973                  1               3             0            254   \n",
       "992974                  0               1             0              0   \n",
       "992975                  0              24             1           2077   \n",
       "992976                  0              20             0           8730   \n",
       "\n",
       "        ClickedBanner  AddedToBasket  \n",
       "992972              0              0  \n",
       "992973              0              0  \n",
       "992974              0              0  \n",
       "992975              0              1  \n",
       "992976              0              0  "
      ]
     },
     "execution_count": 8,
     "metadata": {},
     "output_type": "execute_result"
    }
   ],
   "source": [
    "data.tail()"
   ]
  },
  {
   "cell_type": "code",
   "execution_count": 9,
   "metadata": {},
   "outputs": [],
   "source": [
    "# Drop rows where income data is not available\n",
    "data_income = data.dropna(axis = 0, subset=['IncomeRange']) "
   ]
  },
  {
   "cell_type": "code",
   "execution_count": 10,
   "metadata": {},
   "outputs": [
    {
     "data": {
      "text/plain": [
       "<matplotlib.axes._subplots.AxesSubplot at 0x124d46668>"
      ]
     },
     "execution_count": 10,
     "metadata": {},
     "output_type": "execute_result"
    },
    {
     "data": {
      "image/png": "[encoded data removed]",
      "text/plain": [
       "<Figure size 432x288 with 1 Axes>"
      ]
     },
     "metadata": {},
     "output_type": "display_data"
    }
   ],
   "source": [
    "sns.countplot(x = 'IncomeRange', data = data_income, palette = 'hls')\n",
    "# There are more high and med income people in the platform compared to low income people"
   ]
  },
  {
   "cell_type": "code",
   "execution_count": 11,
   "metadata": {},
   "outputs": [],
   "source": [
    "# Divide data set into 3 groups\n",
    "income_group = ['High_income', 'Med_income','Low_income']\n",
    "High_income = data_income[data_income['IncomeRange'] == '100to250k'].drop(['IncomeRange'],axis = 1)\n",
    "Med_income = data_income[data_income['IncomeRange'] == '50to100k'].drop(['IncomeRange'],axis = 1)\n",
    "Low_income = data_income[data_income['IncomeRange'] == 'Under50k'].drop(['IncomeRange'],axis = 1)"
   ]
  },
  {
   "cell_type": "code",
   "execution_count": 12,
   "metadata": {},
   "outputs": [],
   "source": [
    "#  Analyze price sensitivity of each data set"
   ]
  },
  {
   "cell_type": "code",
   "execution_count": 13,
   "metadata": {},
   "outputs": [
    {
     "data": {
      "text/html": [
       "<div>\n",
       "<style scoped>\n",
       "    .dataframe tbody tr th:only-of-type {\n",
       "        vertical-align: middle;\n",
       "    }\n",
       "\n",
       "    .dataframe tbody tr th {\n",
       "        vertical-align: top;\n",
       "    }\n",
       "\n",
       "    .dataframe thead th {\n",
       "        text-align: right;\n",
       "    }\n",
       "</style>\n",
       "<table border=\"1\" class=\"dataframe\">\n",
       "  <thead>\n",
       "    <tr style=\"text-align: right;\">\n",
       "      <th></th>\n",
       "      <th>Purchased</th>\n",
       "      <th>UniqueVisitID</th>\n",
       "      <th>VisitorGroup</th>\n",
       "      <th>PlatformUsed</th>\n",
       "      <th>VisitSource</th>\n",
       "      <th>BrowserName</th>\n",
       "      <th>OSName</th>\n",
       "      <th>Gender</th>\n",
       "      <th>ViewedProductInVisit</th>\n",
       "      <th>ViewedSaleInVisit</th>\n",
       "      <th>TotalPageViews</th>\n",
       "      <th>PlacedSearch</th>\n",
       "      <th>SecondsOnSite</th>\n",
       "      <th>ClickedBanner</th>\n",
       "      <th>AddedToBasket</th>\n",
       "    </tr>\n",
       "  </thead>\n",
       "  <tbody>\n",
       "    <tr>\n",
       "      <th>0</th>\n",
       "      <td>0</td>\n",
       "      <td>2.014240e+15</td>\n",
       "      <td>Prior Visitor with Purchase</td>\n",
       "      <td>Web</td>\n",
       "      <td>ThirdPartyAds</td>\n",
       "      <td>Chrome</td>\n",
       "      <td>Mac OS X</td>\n",
       "      <td>Female</td>\n",
       "      <td>0</td>\n",
       "      <td>0</td>\n",
       "      <td>1</td>\n",
       "      <td>0</td>\n",
       "      <td>0</td>\n",
       "      <td>0</td>\n",
       "      <td>0</td>\n",
       "    </tr>\n",
       "    <tr>\n",
       "      <th>3</th>\n",
       "      <td>0</td>\n",
       "      <td>6.875970e+15</td>\n",
       "      <td>Prior Visitor with Purchase</td>\n",
       "      <td>Phone</td>\n",
       "      <td>EmailFromWayfair</td>\n",
       "      <td>Safari</td>\n",
       "      <td>iOS</td>\n",
       "      <td>Female</td>\n",
       "      <td>1</td>\n",
       "      <td>1</td>\n",
       "      <td>8</td>\n",
       "      <td>1</td>\n",
       "      <td>430</td>\n",
       "      <td>0</td>\n",
       "      <td>0</td>\n",
       "    </tr>\n",
       "    <tr>\n",
       "      <th>12</th>\n",
       "      <td>0</td>\n",
       "      <td>4.360120e+16</td>\n",
       "      <td>Prior Visitor</td>\n",
       "      <td>Web</td>\n",
       "      <td>WebSearch</td>\n",
       "      <td>Safari</td>\n",
       "      <td>iOS</td>\n",
       "      <td>Female</td>\n",
       "      <td>1</td>\n",
       "      <td>0</td>\n",
       "      <td>26</td>\n",
       "      <td>1</td>\n",
       "      <td>2785</td>\n",
       "      <td>0</td>\n",
       "      <td>1</td>\n",
       "    </tr>\n",
       "    <tr>\n",
       "      <th>27</th>\n",
       "      <td>0</td>\n",
       "      <td>1.081290e+17</td>\n",
       "      <td>Prior Visitor with Purchase</td>\n",
       "      <td>Web</td>\n",
       "      <td>ThirdPartyAds</td>\n",
       "      <td>Chrome</td>\n",
       "      <td>Windows</td>\n",
       "      <td>Unknown</td>\n",
       "      <td>0</td>\n",
       "      <td>0</td>\n",
       "      <td>1</td>\n",
       "      <td>0</td>\n",
       "      <td>117</td>\n",
       "      <td>0</td>\n",
       "      <td>0</td>\n",
       "    </tr>\n",
       "    <tr>\n",
       "      <th>29</th>\n",
       "      <td>0</td>\n",
       "      <td>1.165150e+17</td>\n",
       "      <td>Prior Visitor with Purchase</td>\n",
       "      <td>Phone</td>\n",
       "      <td>WebSearch</td>\n",
       "      <td>Safari</td>\n",
       "      <td>iOS</td>\n",
       "      <td>Female</td>\n",
       "      <td>1</td>\n",
       "      <td>0</td>\n",
       "      <td>78</td>\n",
       "      <td>0</td>\n",
       "      <td>5813</td>\n",
       "      <td>0</td>\n",
       "      <td>0</td>\n",
       "    </tr>\n",
       "  </tbody>\n",
       "</table>\n",
       "</div>"
      ],
      "text/plain": [
       "    Purchased  UniqueVisitID                 VisitorGroup PlatformUsed  \\\n",
       "0           0   2.014240e+15  Prior Visitor with Purchase          Web   \n",
       "3           0   6.875970e+15  Prior Visitor with Purchase        Phone   \n",
       "12          0   4.360120e+16                Prior Visitor          Web   \n",
       "27          0   1.081290e+17  Prior Visitor with Purchase          Web   \n",
       "29          0   1.165150e+17  Prior Visitor with Purchase        Phone   \n",
       "\n",
       "         VisitSource BrowserName    OSName   Gender  ViewedProductInVisit  \\\n",
       "0      ThirdPartyAds      Chrome  Mac OS X   Female                     0   \n",
       "3   EmailFromWayfair      Safari       iOS   Female                     1   \n",
       "12         WebSearch      Safari       iOS   Female                     1   \n",
       "27     ThirdPartyAds      Chrome   Windows  Unknown                     0   \n",
       "29         WebSearch      Safari       iOS   Female                     1   \n",
       "\n",
       "    ViewedSaleInVisit  TotalPageViews  PlacedSearch  SecondsOnSite  \\\n",
       "0                   0               1             0              0   \n",
       "3                   1               8             1            430   \n",
       "12                  0              26             1           2785   \n",
       "27                  0               1             0            117   \n",
       "29                  0              78             0           5813   \n",
       "\n",
       "    ClickedBanner  AddedToBasket  \n",
       "0               0              0  \n",
       "3               0              0  \n",
       "12              0              1  \n",
       "27              0              0  \n",
       "29              0              0  "
      ]
     },
     "execution_count": 13,
     "metadata": {},
     "output_type": "execute_result"
    }
   ],
   "source": [
    "High_income.head()"
   ]
  },
  {
   "cell_type": "code",
   "execution_count": 14,
   "metadata": {},
   "outputs": [],
   "source": [
    "# Create dummy variables  \n",
    "def create_dummy_income(df):\n",
    "    category_vars= ['VisitorGroup', 'PlatformUsed', 'VisitSource',\n",
    "       'BrowserName', 'OSName', 'Gender']\n",
    "    df = pd.get_dummies(df, columns = category_vars, drop_first = True)\n",
    "    return df\n",
    "   \n",
    "def logistic_model(df):    \n",
    "    df = create_dummy_income(df)\n",
    "    print(df.columns)\n",
    "    logr = LogisticRegression()\n",
    "    X = df.iloc[:,1:].values\n",
    "    y = df.iloc[:,0].values\n",
    "    X_train, X_test, y_train, y_test = train_test_split(X, y, test_size = .3, random_state = 30)\n",
    "    logr.fit(X_train,y_train)\n",
    "    log_reg = sm.Logit(y_train, X_train)\n",
    "    clf = log_reg.fit()\n",
    "    column_names = list(df.columns)\n",
    "    summary = clf.summary(xname = column_names[1:])\n",
    "    #odd ratios only  \n",
    "    print(summary)\n",
    "    print(np.exp(clf.params))\n"
   ]
  },
  {
   "cell_type": "code",
   "execution_count": 15,
   "metadata": {},
   "outputs": [
    {
     "name": "stdout",
     "output_type": "stream",
     "text": [
      "Index(['Purchased', 'UniqueVisitID', 'ViewedProductInVisit',\n",
      "       'ViewedSaleInVisit', 'TotalPageViews', 'PlacedSearch', 'SecondsOnSite',\n",
      "       'ClickedBanner', 'AddedToBasket', 'VisitorGroup_Prior Visitor',\n",
      "       'VisitorGroup_Prior Visitor with Purchase', 'PlatformUsed_Web',\n",
      "       'VisitSource_ThirdPartyAds', 'VisitSource_WebSearch',\n",
      "       'BrowserName_Microsoft Edge', 'BrowserName_Safari', 'OSName_Chrome OS',\n",
      "       'OSName_Linux', 'OSName_Mac OS X', 'OSName_Other/Unknown',\n",
      "       'OSName_Windows', 'OSName_iOS', 'Gender_Male', 'Gender_Unknown'],\n",
      "      dtype='object')\n"
     ]
    },
    {
     "name": "stderr",
     "output_type": "stream",
     "text": [
      "/Users/tung491/workspace/lib/python3.6/site-packages/sklearn/linear_model/_logistic.py:940: ConvergenceWarning: lbfgs failed to converge (status=2):\n",
      "ABNORMAL_TERMINATION_IN_LNSRCH.\n",
      "\n",
      "Increase the number of iterations (max_iter) or scale the data as shown in:\n",
      "    https://scikit-learn.org/stable/modules/preprocessing.html\n",
      "Please also refer to the documentation for alternative solver options:\n",
      "    https://scikit-learn.org/stable/modules/linear_model.html#logistic-regression\n",
      "  extra_warning_msg=_LOGISTIC_SOLVER_CONVERGENCE_MSG)\n"
     ]
    },
    {
     "name": "stdout",
     "output_type": "stream",
     "text": [
      "Warning: Maximum number of iterations has been exceeded.\n",
      "         Current function value: 0.167324\n",
      "         Iterations: 35\n",
      "                           Logit Regression Results                           \n",
      "==============================================================================\n",
      "Dep. Variable:                      y   No. Observations:               110176\n",
      "Model:                          Logit   Df Residuals:                   110175\n",
      "Method:                           MLE   Df Model:                            0\n",
      "Date:                Mon, 13 Jan 2020   Pseudo R-squ.:                  0.3145\n",
      "Time:                        11:33:17   Log-Likelihood:                -18435.\n",
      "converged:                      False   LL-Null:                       -26893.\n",
      "Covariance Type:            nonrobust   LLR p-value:                       nan\n",
      "============================================================================================================\n",
      "                                               coef    std err          z      P>|z|      [0.025      0.975]\n",
      "------------------------------------------------------------------------------------------------------------\n",
      "UniqueVisitID                            -3.784e-20   4.99e-21     -7.581      0.000   -4.76e-20   -2.81e-20\n",
      "ViewedProductInVisit                        -0.5356      0.052    -10.347      0.000      -0.637      -0.434\n",
      "ViewedSaleInVisit                           -0.2191      0.036     -6.134      0.000      -0.289      -0.149\n",
      "TotalPageViews                               0.0038      0.000      9.720      0.000       0.003       0.005\n",
      "PlacedSearch                                -0.0648      0.030     -2.176      0.030      -0.123      -0.006\n",
      "SecondsOnSite                             6.756e-06   3.14e-06      2.153      0.031    6.07e-07    1.29e-05\n",
      "ClickedBanner                               -0.1872      0.061     -3.091      0.002      -0.306      -0.068\n",
      "AddedToBasket                                3.5513      0.044     81.145      0.000       3.466       3.637\n",
      "VisitorGroup_Prior Visitor                  -2.4038      0.063    -38.171      0.000      -2.527      -2.280\n",
      "VisitorGroup_Prior Visitor with Purchase    -3.1862      0.048    -66.181      0.000      -3.281      -3.092\n",
      "PlatformUsed_Web                             0.2853      0.048      5.935      0.000       0.191       0.379\n",
      "VisitSource_ThirdPartyAds                   -0.6100      0.036    -16.982      0.000      -0.680      -0.540\n",
      "VisitSource_WebSearch                       -0.8471      0.034    -25.237      0.000      -0.913      -0.781\n",
      "BrowserName_Microsoft Edge                  -0.2187      0.072     -3.046      0.002      -0.359      -0.078\n",
      "BrowserName_Safari                          -0.2024      0.053     -3.798      0.000      -0.307      -0.098\n",
      "OSName_Chrome OS                            -0.3504      0.170     -2.056      0.040      -0.684      -0.016\n",
      "OSName_Linux                                -1.7845      1.061     -1.682      0.093      -3.864       0.295\n",
      "OSName_Mac OS X                             -0.2467      0.074     -3.332      0.001      -0.392      -0.102\n",
      "OSName_Other/Unknown                       -19.7801   1.73e+04     -0.001      0.999   -3.39e+04    3.38e+04\n",
      "OSName_Windows                              -0.3217      0.067     -4.823      0.000      -0.452      -0.191\n",
      "OSName_iOS                                  -0.4863      0.069     -7.072      0.000      -0.621      -0.352\n",
      "Gender_Male                                  0.0711      0.035      2.018      0.044       0.002       0.140\n",
      "Gender_Unknown                              -0.1785      0.053     -3.374      0.001      -0.282      -0.075\n",
      "============================================================================================================\n",
      "[1.00000000e+00 5.85310177e-01 8.03213321e-01 1.00382762e+00\n",
      " 9.37214755e-01 1.00000676e+00 8.29272603e-01 3.48594426e+01\n",
      " 9.03782251e-02 4.13305803e-02 1.33010401e+00 5.43377874e-01\n",
      " 4.28671575e-01 8.03589543e-01 8.16804694e-01 7.04406212e-01\n",
      " 1.67884435e-01 7.81337496e-01 2.56818718e-09 7.24951146e-01\n",
      " 6.14913277e-01 1.07367658e+00 8.36558762e-01]\n"
     ]
    },
    {
     "name": "stderr",
     "output_type": "stream",
     "text": [
      "/Users/tung491/workspace/lib/python3.6/site-packages/statsmodels/base/model.py:512: ConvergenceWarning: Maximum Likelihood optimization failed to converge. Check mle_retvals\n",
      "  \"Check mle_retvals\", ConvergenceWarning)\n"
     ]
    }
   ],
   "source": [
    "logistic_model(High_income)"
   ]
  },
  {
   "cell_type": "code",
   "execution_count": 16,
   "metadata": {
    "scrolled": true
   },
   "outputs": [
    {
     "name": "stdout",
     "output_type": "stream",
     "text": [
      "Index(['Purchased', 'UniqueVisitID', 'ViewedProductInVisit',\n",
      "       'ViewedSaleInVisit', 'TotalPageViews', 'PlacedSearch', 'SecondsOnSite',\n",
      "       'ClickedBanner', 'AddedToBasket', 'VisitorGroup_Prior Visitor',\n",
      "       'VisitorGroup_Prior Visitor with Purchase', 'PlatformUsed_Web',\n",
      "       'VisitSource_ThirdPartyAds', 'VisitSource_WebSearch',\n",
      "       'BrowserName_Microsoft Edge', 'BrowserName_Safari', 'OSName_Chrome OS',\n",
      "       'OSName_Linux', 'OSName_Mac OS X', 'OSName_Other/Unknown',\n",
      "       'OSName_Windows', 'OSName_iOS', 'Gender_Male', 'Gender_Unknown'],\n",
      "      dtype='object')\n"
     ]
    },
    {
     "name": "stderr",
     "output_type": "stream",
     "text": [
      "/Users/tung491/workspace/lib/python3.6/site-packages/sklearn/linear_model/_logistic.py:940: ConvergenceWarning: lbfgs failed to converge (status=2):\n",
      "ABNORMAL_TERMINATION_IN_LNSRCH.\n",
      "\n",
      "Increase the number of iterations (max_iter) or scale the data as shown in:\n",
      "    https://scikit-learn.org/stable/modules/preprocessing.html\n",
      "Please also refer to the documentation for alternative solver options:\n",
      "    https://scikit-learn.org/stable/modules/linear_model.html#logistic-regression\n",
      "  extra_warning_msg=_LOGISTIC_SOLVER_CONVERGENCE_MSG)\n"
     ]
    },
    {
     "name": "stdout",
     "output_type": "stream",
     "text": [
      "Optimization terminated successfully.\n",
      "         Current function value: 0.163000\n",
      "         Iterations 15\n",
      "                           Logit Regression Results                           \n",
      "==============================================================================\n",
      "Dep. Variable:                      y   No. Observations:               105770\n",
      "Model:                          Logit   Df Residuals:                   105769\n",
      "Method:                           MLE   Df Model:                            0\n",
      "Date:                Mon, 13 Jan 2020   Pseudo R-squ.:                  0.3069\n",
      "Time:                        11:33:18   Log-Likelihood:                -17240.\n",
      "converged:                       True   LL-Null:                       -24875.\n",
      "Covariance Type:            nonrobust   LLR p-value:                       nan\n",
      "============================================================================================================\n",
      "                                               coef    std err          z      P>|z|      [0.025      0.975]\n",
      "------------------------------------------------------------------------------------------------------------\n",
      "UniqueVisitID                            -5.885e-20   5.16e-21    -11.396      0.000    -6.9e-20   -4.87e-20\n",
      "ViewedProductInVisit                        -0.5705      0.052    -10.997      0.000      -0.672      -0.469\n",
      "ViewedSaleInVisit                           -0.2685      0.036     -7.461      0.000      -0.339      -0.198\n",
      "TotalPageViews                               0.0045      0.000     11.090      0.000       0.004       0.005\n",
      "PlacedSearch                                -0.0851      0.031     -2.765      0.006      -0.145      -0.025\n",
      "SecondsOnSite                             9.009e-06   3.17e-06      2.841      0.004    2.79e-06    1.52e-05\n",
      "ClickedBanner                               -0.3033      0.063     -4.786      0.000      -0.428      -0.179\n",
      "AddedToBasket                                3.4780      0.045     77.453      0.000       3.390       3.566\n",
      "VisitorGroup_Prior Visitor                  -2.3056      0.061    -37.891      0.000      -2.425      -2.186\n",
      "VisitorGroup_Prior Visitor with Purchase    -3.2252      0.045    -71.495      0.000      -3.314      -3.137\n",
      "PlatformUsed_Web                             0.3075      0.053      5.816      0.000       0.204       0.411\n",
      "VisitSource_ThirdPartyAds                   -0.8236      0.037    -22.067      0.000      -0.897      -0.750\n",
      "VisitSource_WebSearch                       -0.9312      0.035    -26.786      0.000      -0.999      -0.863\n",
      "BrowserName_Microsoft Edge                  -0.1363      0.068     -1.998      0.046      -0.270      -0.003\n",
      "BrowserName_Safari                          -0.3117      0.062     -5.010      0.000      -0.434      -0.190\n",
      "OSName_Chrome OS                            -0.1372      0.173     -0.795      0.426      -0.475       0.201\n",
      "OSName_Linux                                -0.1358      0.564     -0.241      0.810      -1.242       0.970\n",
      "OSName_Mac OS X                              0.0736      0.079      0.935      0.350      -0.081       0.228\n",
      "OSName_Other/Unknown                       -33.3457   2.47e+07  -1.35e-06      1.000   -4.84e+07    4.84e+07\n",
      "OSName_Windows                              -0.1533      0.067     -2.272      0.023      -0.285      -0.021\n",
      "OSName_iOS                                  -0.1749      0.073     -2.395      0.017      -0.318      -0.032\n",
      "Gender_Male                                  0.0509      0.037      1.383      0.167      -0.021       0.123\n",
      "Gender_Unknown                              -0.2195      0.053     -4.147      0.000      -0.323      -0.116\n",
      "============================================================================================================\n",
      "[1.00000000e+00 5.65270426e-01 7.64525260e-01 1.00450956e+00\n",
      " 9.18446011e-01 1.00000901e+00 7.38370513e-01 3.23941955e+01\n",
      " 9.97000468e-02 3.97462789e-02 1.36003845e+00 4.38834544e-01\n",
      " 3.94074949e-01 8.72587388e-01 7.32185084e-01 8.71771558e-01\n",
      " 8.72984935e-01 1.07632333e+00 3.29713519e-15 8.57896088e-01\n",
      " 8.39505271e-01 1.05219556e+00 8.02894640e-01]\n"
     ]
    }
   ],
   "source": [
    "logistic_model(Med_income)"
   ]
  },
  {
   "cell_type": "code",
   "execution_count": 17,
   "metadata": {},
   "outputs": [],
   "source": [
    "# With Med income people, the Clicked to Banner  is useful in explaining model\n",
    "# Clicking rate increased the odd of purchase by 0.81 ( decrease)\n",
    "# Among Med income people,gender does not matter\n",
    "# Among Med income people, Web is useful in explaining whether you will purchase or not\n",
    "# if you are using Web, the odd that you purchase is 1.2 higher compared to using phone "
   ]
  },
  {
   "cell_type": "code",
   "execution_count": 18,
   "metadata": {},
   "outputs": [
    {
     "name": "stdout",
     "output_type": "stream",
     "text": [
      "Index(['Purchased', 'UniqueVisitID', 'ViewedProductInVisit',\n",
      "       'ViewedSaleInVisit', 'TotalPageViews', 'PlacedSearch', 'SecondsOnSite',\n",
      "       'ClickedBanner', 'AddedToBasket', 'VisitorGroup_Prior Visitor',\n",
      "       'VisitorGroup_Prior Visitor with Purchase', 'PlatformUsed_Web',\n",
      "       'VisitSource_ThirdPartyAds', 'VisitSource_WebSearch',\n",
      "       'BrowserName_Microsoft Edge', 'BrowserName_Safari', 'OSName_Chrome OS',\n",
      "       'OSName_Linux', 'OSName_Mac OS X', 'OSName_Other/Unknown',\n",
      "       'OSName_Windows', 'OSName_iOS', 'Gender_Male', 'Gender_Unknown'],\n",
      "      dtype='object')\n"
     ]
    },
    {
     "name": "stderr",
     "output_type": "stream",
     "text": [
      "/Users/tung491/workspace/lib/python3.6/site-packages/sklearn/linear_model/_logistic.py:940: ConvergenceWarning: lbfgs failed to converge (status=2):\n",
      "ABNORMAL_TERMINATION_IN_LNSRCH.\n",
      "\n",
      "Increase the number of iterations (max_iter) or scale the data as shown in:\n",
      "    https://scikit-learn.org/stable/modules/preprocessing.html\n",
      "Please also refer to the documentation for alternative solver options:\n",
      "    https://scikit-learn.org/stable/modules/linear_model.html#logistic-regression\n",
      "  extra_warning_msg=_LOGISTIC_SOLVER_CONVERGENCE_MSG)\n"
     ]
    },
    {
     "name": "stdout",
     "output_type": "stream",
     "text": [
      "Warning: Maximum number of iterations has been exceeded.\n",
      "         Current function value: 0.166417\n",
      "         Iterations: 35\n",
      "                           Logit Regression Results                           \n",
      "==============================================================================\n",
      "Dep. Variable:                      y   No. Observations:                52343\n",
      "Model:                          Logit   Df Residuals:                    52342\n",
      "Method:                           MLE   Df Model:                            0\n",
      "Date:                Mon, 13 Jan 2020   Pseudo R-squ.:                  0.2923\n",
      "Time:                        11:33:19   Log-Likelihood:                -8710.8\n",
      "converged:                      False   LL-Null:                       -12309.\n",
      "Covariance Type:            nonrobust   LLR p-value:                       nan\n",
      "============================================================================================================\n",
      "                                               coef    std err          z      P>|z|      [0.025      0.975]\n",
      "------------------------------------------------------------------------------------------------------------\n",
      "UniqueVisitID                            -6.327e-20   7.19e-21     -8.798      0.000   -7.74e-20   -4.92e-20\n",
      "ViewedProductInVisit                        -0.4771      0.070     -6.821      0.000      -0.614      -0.340\n",
      "ViewedSaleInVisit                           -0.1552      0.049     -3.189      0.001      -0.251      -0.060\n",
      "TotalPageViews                               0.0034      0.001      6.283      0.000       0.002       0.004\n",
      "PlacedSearch                                -0.0286      0.043     -0.662      0.508      -0.113       0.056\n",
      "SecondsOnSite                            -6.965e-07   4.51e-06     -0.154      0.877   -9.53e-06    8.14e-06\n",
      "ClickedBanner                               -0.3602      0.087     -4.121      0.000      -0.531      -0.189\n",
      "AddedToBasket                                3.3942      0.061     55.412      0.000       3.274       3.514\n",
      "VisitorGroup_Prior Visitor                  -2.3328      0.082    -28.538      0.000      -2.493      -2.173\n",
      "VisitorGroup_Prior Visitor with Purchase    -3.2315      0.059    -54.665      0.000      -3.347      -3.116\n",
      "PlatformUsed_Web                             0.2828      0.081      3.492      0.000       0.124       0.441\n",
      "VisitSource_ThirdPartyAds                   -0.8228      0.052    -15.864      0.000      -0.924      -0.721\n",
      "VisitSource_WebSearch                       -0.9526      0.049    -19.357      0.000      -1.049      -0.856\n",
      "BrowserName_Microsoft Edge                  -0.2115      0.098     -2.149      0.032      -0.404      -0.019\n",
      "BrowserName_Safari                          -0.3412      0.099     -3.446      0.001      -0.535      -0.147\n",
      "OSName_Chrome OS                            -0.1515      0.222     -0.684      0.494      -0.586       0.283\n",
      "OSName_Linux                                -1.4910      1.248     -1.194      0.232      -3.938       0.956\n",
      "OSName_Mac OS X                              0.0835      0.118      0.710      0.478      -0.147       0.314\n",
      "OSName_Other/Unknown                       -14.8861   1840.087     -0.008      0.994   -3621.390    3591.617\n",
      "OSName_Windows                              -0.1475      0.098     -1.502      0.133      -0.340       0.045\n",
      "OSName_iOS                                  -0.0644      0.110     -0.587      0.557      -0.279       0.151\n",
      "Gender_Male                                 -0.0231      0.054     -0.424      0.672      -0.130       0.084\n",
      "Gender_Unknown                              -0.3010      0.070     -4.281      0.000      -0.439      -0.163\n",
      "============================================================================================================\n",
      "[1.00000000e+00 6.20568746e-01 8.56282779e-01 1.00340904e+00\n",
      " 9.71847533e-01 9.99999304e-01 6.97566261e-01 2.97894112e+01\n",
      " 9.70265659e-02 3.94962825e-02 1.32679416e+00 4.39218370e-01\n",
      " 3.85724950e-01 8.09388760e-01 7.10896445e-01 8.59448281e-01\n",
      " 2.25140787e-01 1.08711633e+00 3.42794532e-07 8.62881467e-01\n",
      " 9.37616401e-01 9.77184065e-01 7.40103387e-01]\n"
     ]
    },
    {
     "name": "stderr",
     "output_type": "stream",
     "text": [
      "/Users/tung491/workspace/lib/python3.6/site-packages/statsmodels/base/model.py:512: ConvergenceWarning: Maximum Likelihood optimization failed to converge. Check mle_retvals\n",
      "  \"Check mle_retvals\", ConvergenceWarning)\n"
     ]
    }
   ],
   "source": [
    "logistic_model(Low_income)"
   ]
  },
  {
   "cell_type": "code",
   "execution_count": 19,
   "metadata": {},
   "outputs": [],
   "source": [
    "# With low income people, ViewedSaleinVisit, Seconds on Site, whether they use Web or not, Gender, any OS \n",
    "# are not useful in explaining whether they will purchase or not\n",
    "# With low income people, the Clicked Banner rate increase the odd of purchase by 0.75 ( decrease)\n",
    "# Among Low income people, if you are male, the odd that you purchase is 0.960 compared to women ( lower than women) \n",
    "# Among Low income people, if you are using Web, the odd that you purchase is 1.136 compared to using phone "
   ]
  },
  {
   "cell_type": "code",
   "execution_count": 20,
   "metadata": {
    "scrolled": true
   },
   "outputs": [
    {
     "data": {
      "text/plain": [
       "<matplotlib.axes._subplots.AxesSubplot at 0x1274d8438>"
      ]
     },
     "execution_count": 20,
     "metadata": {},
     "output_type": "execute_result"
    },
    {
     "data": {
      "image/png": "[encoded data removed]",
      "text/plain": [
       "<Figure size 432x288 with 1 Axes>"
      ]
     },
     "metadata": {},
     "output_type": "display_data"
    }
   ],
   "source": [
    "# Assume Viewed Sales meaning more interested in Sales\n",
    "sns.countplot(x = 'ViewedSaleInVisit', data = data_income, hue = 'IncomeRange', palette = 'hls')"
   ]
  },
  {
   "cell_type": "code",
   "execution_count": 21,
   "metadata": {},
   "outputs": [
    {
     "data": {
      "text/plain": [
       "<matplotlib.axes._subplots.AxesSubplot at 0x126454550>"
      ]
     },
     "execution_count": 21,
     "metadata": {},
     "output_type": "execute_result"
    },
    {
     "data": {
      "image/png": "[encoded data removed]",
      "text/plain": [
       "<Figure size 432x288 with 1 Axes>"
      ]
     },
     "metadata": {},
     "output_type": "display_data"
    }
   ],
   "source": [
    "sns.barplot(x = 'IncomeRange', y = 'ViewedSaleInVisit', data = data_income, palette = 'hls')\n",
    "# Low income people are more intested in Sales bc they have higher rate of viewing Sales \n",
    "#( high-income:16.5, Med income: 18.5, low income: 20%"
   ]
  },
  {
   "cell_type": "code",
   "execution_count": 22,
   "metadata": {},
   "outputs": [
    {
     "data": {
      "text/plain": [
       "<matplotlib.axes._subplots.AxesSubplot at 0x1264400f0>"
      ]
     },
     "execution_count": 22,
     "metadata": {},
     "output_type": "execute_result"
    },
    {
     "data": {
      "image/png": "[encoded data removed]",
      "text/plain": [
       "<Figure size 432x288 with 1 Axes>"
      ]
     },
     "metadata": {},
     "output_type": "display_data"
    }
   ],
   "source": [
    "sns.barplot(x = 'IncomeRange', y = 'Purchased', data = data_income, palette = 'hls')\n"
   ]
  },
  {
   "cell_type": "code",
   "execution_count": 23,
   "metadata": {},
   "outputs": [
    {
     "data": {
      "text/plain": [
       "<matplotlib.axes._subplots.AxesSubplot at 0x124ec1588>"
      ]
     },
     "execution_count": 23,
     "metadata": {},
     "output_type": "execute_result"
    },
    {
     "data": {
      "image/png": "[encoded data removed]",
      "text/plain": [
       "<Figure size 432x288 with 1 Axes>"
      ]
     },
     "metadata": {},
     "output_type": "display_data"
    }
   ],
   "source": [
    " sns.barplot(x = 'IncomeRange', y = 'ClickedBanner', data = data_income, palette = 'hls')\n",
    "# Low income people are more likely to Click on the Banner (high-income:5.2%, Med income:5.5%, low income: 6% )\n",
    "# This means the offer sales and using Banner will work better with low income people"
   ]
  },
  {
   "cell_type": "code",
   "execution_count": 24,
   "metadata": {
    "scrolled": true
   },
   "outputs": [
    {
     "data": {
      "text/plain": [
       "<matplotlib.axes._subplots.AxesSubplot at 0x124ecfdd8>"
      ]
     },
     "execution_count": 24,
     "metadata": {},
     "output_type": "execute_result"
    },
    {
     "data": {
      "image/png": "[encoded data removed]",
      "text/plain": [
       "<Figure size 432x288 with 1 Axes>"
      ]
     },
     "metadata": {},
     "output_type": "display_data"
    }
   ],
   "source": [
    "sns.barplot(x = 'PlatformUsed', y = 'ClickedBanner', data = data, palette = 'hls')\n",
    "# People Click more when they are on the Web ( 5% Web vs. 4.1 % Phone)"
   ]
  },
  {
   "cell_type": "code",
   "execution_count": 25,
   "metadata": {
    "scrolled": true
   },
   "outputs": [],
   "source": [
    "#sns.barplot(x = 'PlatformUsed', y = 'AddedToBasket', data = data, palette = 'hls')\n",
    "# Among all people, people Add to Basket almost at the same rate when they are on the phone and on the web, both 14.2 %"
   ]
  },
  {
   "cell_type": "code",
   "execution_count": 26,
   "metadata": {},
   "outputs": [
    {
     "data": {
      "text/plain": [
       "<matplotlib.axes._subplots.AxesSubplot at 0x1272bad30>"
      ]
     },
     "execution_count": 26,
     "metadata": {},
     "output_type": "execute_result"
    },
    {
     "data": {
      "image/png": "[encoded data removed]",
      "text/plain": [
       "<Figure size 432x288 with 1 Axes>"
      ]
     },
     "metadata": {},
     "output_type": "display_data"
    }
   ],
   "source": [
    "sns.barplot(x = 'PlatformUsed', y = 'Purchased', data = data, palette = 'hls')\n",
    "# Among all people, people buy a lot more when they are on the Web( 3.2 %) compared to when they are on the phone (1.9%)\n",
    "# same add to basket rate, but much lower purchase rate"
   ]
  },
  {
   "cell_type": "code",
   "execution_count": 27,
   "metadata": {},
   "outputs": [
    {
     "data": {
      "text/plain": [
       "<matplotlib.axes._subplots.AxesSubplot at 0x1272b4c88>"
      ]
     },
     "execution_count": 27,
     "metadata": {},
     "output_type": "execute_result"
    },
    {
     "data": {
      "image/png": "[encoded data removed]",
      "text/plain": [
       "<Figure size 432x288 with 1 Axes>"
      ]
     },
     "metadata": {},
     "output_type": "display_data"
    }
   ],
   "source": [
    "sns.barplot(x = 'Gender', y = 'Purchased', data = data, palette = 'hls')\n",
    "# Among all, people purchase more when they are Male, 0.055 vs 0.07 ( 5.5% vs 7.1%)"
   ]
  },
  {
   "cell_type": "code",
   "execution_count": 28,
   "metadata": {},
   "outputs": [
    {
     "data": {
      "text/plain": [
       "Index(['Purchased', 'UniqueVisitID', 'VisitorGroup', 'PlatformUsed',\n",
       "       'VisitSource', 'BrowserName', 'OSName', 'Gender', 'IncomeRange',\n",
       "       'ViewedProductInVisit', 'ViewedSaleInVisit', 'TotalPageViews',\n",
       "       'PlacedSearch', 'SecondsOnSite', 'ClickedBanner', 'AddedToBasket'],\n",
       "      dtype='object')"
      ]
     },
     "execution_count": 28,
     "metadata": {},
     "output_type": "execute_result"
    }
   ],
   "source": [
    "data_income.columns"
   ]
  },
  {
   "cell_type": "code",
   "execution_count": 29,
   "metadata": {},
   "outputs": [],
   "source": [
    "# Split data set into phone user and web user\n",
    "phone_user = data[data['PlatformUsed'] == 'Phone']\n",
    "web_user = data[data['PlatformUsed'] == 'Web']"
   ]
  },
  {
   "cell_type": "code",
   "execution_count": 30,
   "metadata": {},
   "outputs": [
    {
     "data": {
      "text/plain": [
       "<matplotlib.axes._subplots.AxesSubplot at 0x127549898>"
      ]
     },
     "execution_count": 30,
     "metadata": {},
     "output_type": "execute_result"
    },
    {
     "data": {
      "image/png": "[encoded data removed]",
      "text/plain": [
       "<Figure size 432x288 with 1 Axes>"
      ]
     },
     "metadata": {},
     "output_type": "display_data"
    }
   ],
   "source": [
    "sns.barplot(x = 'Gender', y = 'Purchased', data = phone_user , palette = 'hls')\n",
    "# Among all phone users, male purchase slightly more than women (0.054 vs. 0.047) or 5.4% vs 4.7%"
   ]
  },
  {
   "cell_type": "code",
   "execution_count": 31,
   "metadata": {},
   "outputs": [
    {
     "data": {
      "text/plain": [
       "<matplotlib.axes._subplots.AxesSubplot at 0x12773f6d8>"
      ]
     },
     "execution_count": 31,
     "metadata": {},
     "output_type": "execute_result"
    },
    {
     "data": {
      "image/png": "[encoded data removed]",
      "text/plain": [
       "<Figure size 432x288 with 1 Axes>"
      ]
     },
     "metadata": {},
     "output_type": "display_data"
    }
   ],
   "source": [
    "sns.barplot(x = 'IncomeRange', y = 'Purchased', data = phone_user , palette = 'hls')\n",
    "# For phone user, low income people buy slightly a little more ( 5.8% compared to 5.2% of high or mid income)"
   ]
  },
  {
   "cell_type": "code",
   "execution_count": 32,
   "metadata": {},
   "outputs": [
    {
     "data": {
      "text/plain": [
       "<matplotlib.axes._subplots.AxesSubplot at 0x127768198>"
      ]
     },
     "execution_count": 32,
     "metadata": {},
     "output_type": "execute_result"
    },
    {
     "data": {
      "image/png": "[encoded data removed]",
      "text/plain": [
       "<Figure size 432x288 with 1 Axes>"
      ]
     },
     "metadata": {},
     "output_type": "display_data"
    }
   ],
   "source": [
    "sns.barplot(x = 'Gender', y = 'ClickedBanner', data = phone_user , palette = 'hls')\n",
    "# Among all phone users, male have the same click banner rate as women, 5%\n",
    "# Male purchase more if they are using phone, they have the same rate of clicking like women on the banner."
   ]
  },
  {
   "cell_type": "code",
   "execution_count": 33,
   "metadata": {},
   "outputs": [],
   "source": [
    "#sns.barplot(x = 'Gender', y = 'ClickedBanner', data = web_user , palette = 'hls')\n",
    "# Among all web users, women click to banner more( 6.1%) while men click on banner less 5.1%\n",
    "# Male purchase more if they are using web, but they don't click Banner on the webas much as women.\n"
   ]
  },
  {
   "cell_type": "code",
   "execution_count": 34,
   "metadata": {},
   "outputs": [],
   "source": [
    "# If you are Female, Clicked to Banner does explain whether you purchase or not.\n",
    "# But clicked to Banner reduces the odd that you will purchase by 0.871 ( decrease)\n",
    "# If you are female, if you are high income, the odd of you buying is 1.113 higher compared to mid income\n",
    "# If you are female, if you are high income, the odd of you buying is 1.1 higher compared to low income\n"
   ]
  },
  {
   "cell_type": "code",
   "execution_count": 35,
   "metadata": {},
   "outputs": [
    {
     "name": "stdout",
     "output_type": "stream",
     "text": [
      "Index(['Purchased', 'UniqueVisitID', 'ViewedProductInVisit',\n",
      "       'ViewedSaleInVisit', 'TotalPageViews', 'PlacedSearch', 'SecondsOnSite',\n",
      "       'ClickedBanner', 'AddedToBasket', 'VisitorGroup_Prior Visitor',\n",
      "       'VisitorGroup_Prior Visitor with Purchase', 'PlatformUsed_Web',\n",
      "       'VisitSource_ThirdPartyAds', 'VisitSource_WebSearch',\n",
      "       'BrowserName_Microsoft Edge', 'BrowserName_Safari', 'OSName_Chrome OS',\n",
      "       'OSName_Linux', 'OSName_Mac OS X', 'OSName_Other/Unknown',\n",
      "       'OSName_Windows', 'OSName_iOS', 'Gender_Male', 'Gender_Unknown',\n",
      "       'IncomeRange_50to100k', 'IncomeRange_Under50k'],\n",
      "      dtype='object')\n"
     ]
    },
    {
     "name": "stderr",
     "output_type": "stream",
     "text": [
      "/Users/tung491/workspace/lib/python3.6/site-packages/sklearn/linear_model/_logistic.py:940: ConvergenceWarning: lbfgs failed to converge (status=2):\n",
      "ABNORMAL_TERMINATION_IN_LNSRCH.\n",
      "\n",
      "Increase the number of iterations (max_iter) or scale the data as shown in:\n",
      "    https://scikit-learn.org/stable/modules/preprocessing.html\n",
      "Please also refer to the documentation for alternative solver options:\n",
      "    https://scikit-learn.org/stable/modules/linear_model.html#logistic-regression\n",
      "  extra_warning_msg=_LOGISTIC_SOLVER_CONVERGENCE_MSG)\n"
     ]
    },
    {
     "name": "stdout",
     "output_type": "stream",
     "text": [
      "Optimization terminated successfully.\n",
      "         Current function value: 0.088626\n",
      "         Iterations 9\n",
      "<F test: F=array([[2690.07825757]]), p=0.0, df_denom=6.95e+05, df_num=24>\n",
      "                           Logit Regression Results                           \n",
      "==============================================================================\n",
      "Dep. Variable:                      y   No. Observations:               695083\n",
      "Model:                          Logit   Df Residuals:                   695082\n",
      "Method:                           MLE   Df Model:                            0\n",
      "Date:                Mon, 13 Jan 2020   Pseudo R-squ.:                  0.2527\n",
      "Time:                        11:34:44   Log-Likelihood:                -61602.\n",
      "converged:                       True   LL-Null:                       -82433.\n",
      "Covariance Type:            nonrobust   LLR p-value:                       nan\n",
      "============================================================================================================\n",
      "                                               coef    std err          z      P>|z|      [0.025      0.975]\n",
      "------------------------------------------------------------------------------------------------------------\n",
      "UniqueVisitID                            -1.934e-19   2.86e-21    -67.722      0.000   -1.99e-19   -1.88e-19\n",
      "ViewedProductInVisit                        -1.0179      0.028    -36.987      0.000      -1.072      -0.964\n",
      "ViewedSaleInVisit                           -0.6490      0.022    -29.231      0.000      -0.692      -0.605\n",
      "TotalPageViews                               0.0061      0.000     24.466      0.000       0.006       0.007\n",
      "PlacedSearch                                -0.1232      0.018     -6.952      0.000      -0.158      -0.088\n",
      "SecondsOnSite                             1.675e-05   2.03e-06      8.262      0.000    1.28e-05    2.07e-05\n",
      "ClickedBanner                               -0.1862      0.038     -4.875      0.000      -0.261      -0.111\n",
      "AddedToBasket                                3.8191      0.026    144.629      0.000       3.767       3.871\n",
      "VisitorGroup_Prior Visitor                  -1.3197      0.027    -48.724      0.000      -1.373      -1.267\n",
      "VisitorGroup_Prior Visitor with Purchase    -1.8824      0.022    -85.227      0.000      -1.926      -1.839\n",
      "PlatformUsed_Web                             0.3788      0.031     12.268      0.000       0.318       0.439\n",
      "VisitSource_ThirdPartyAds                   -2.1352      0.020   -106.910      0.000      -2.174      -2.096\n",
      "VisitSource_WebSearch                       -2.4541      0.019   -130.594      0.000      -2.491      -2.417\n",
      "BrowserName_Microsoft Edge                  -0.3160      0.042     -7.528      0.000      -0.398      -0.234\n",
      "BrowserName_Safari                          -0.4401      0.036    -12.193      0.000      -0.511      -0.369\n",
      "OSName_Chrome OS                            -0.8211      0.098     -8.384      0.000      -1.013      -0.629\n",
      "OSName_Linux                                -1.2665      0.372     -3.403      0.001      -1.996      -0.537\n",
      "OSName_Mac OS X                             -0.2298      0.044     -5.180      0.000      -0.317      -0.143\n",
      "OSName_Other/Unknown                        -1.6914      1.052     -1.608      0.108      -3.753       0.370\n",
      "OSName_Windows                              -0.7859      0.038    -20.731      0.000      -0.860      -0.712\n",
      "OSName_iOS                                  -0.8398      0.041    -20.514      0.000      -0.920      -0.760\n",
      "Gender_Male                                  0.3706      0.024     15.712      0.000       0.324       0.417\n",
      "Gender_Unknown                              -1.2499      0.028    -44.043      0.000      -1.305      -1.194\n",
      "IncomeRange_50to100k                         0.5362      0.021     25.819      0.000       0.495       0.577\n",
      "IncomeRange_Under50k                         0.4413      0.026     17.154      0.000       0.391       0.492\n",
      "============================================================================================================\n",
      "[ 1.          0.36135094  0.52258114  1.00608285  0.8840681   1.00001675\n",
      "  0.83013083 45.56236572  0.26721622  0.15222823  1.46046145  0.11821713\n",
      "  0.08594426  0.72907774  0.64394658  0.43996818  0.28182206  0.79467625\n",
      "  0.18425263  0.45569294  0.43179482  1.44854542  0.28654293  1.7094404\n",
      "  1.55478636]\n"
     ]
    }
   ],
   "source": [
    "def create_dummy_all(df):\n",
    "    category_vars= ['VisitorGroup', 'PlatformUsed', 'VisitSource',\n",
    "       'BrowserName', 'OSName', 'Gender','IncomeRange']\n",
    "    df = pd.get_dummies(df, columns = category_vars, drop_first = True)\n",
    "    return df\n",
    "   \n",
    "def logistic_model_all(df):    \n",
    "    df = create_dummy_all(df)\n",
    "    print(df.columns)\n",
    "    logr = LogisticRegression()\n",
    "    X = df.iloc[:,1:].values\n",
    "    y = df.iloc[:,0].values\n",
    "    X_train, X_test, y_train, y_test = train_test_split(X, y, test_size = .3, random_state = 30)\n",
    "    logr.fit(X_train,y_train)\n",
    "    log_reg = sm.Logit(y_train, X_train)\n",
    "    clf = log_reg.fit()\n",
    "    column_names = list(df.columns)\n",
    "    summary = clf.summary(xname = column_names[1:])\n",
    "    # f test, This tests that each coefficient is jointly statistically significantly different from zero.\n",
    "    A = np.identity(len(clf.params))\n",
    "    A = A[1:,:]\n",
    "    print(clf.f_test(A))\n",
    "    #odd ratios only  \n",
    "    print(summary)\n",
    "    \n",
    "    print(np.exp(clf.params))\n",
    "    \n",
    "logistic_model_all(data)"
   ]
  },
  {
   "cell_type": "code",
   "execution_count": 36,
   "metadata": {},
   "outputs": [],
   "source": [
    "# Clicked Banner is  helpful in explaining the model\n",
    "# decrease the odd of purchase by 0.88\n",
    "# "
   ]
  },
  {
   "cell_type": "code",
   "execution_count": null,
   "metadata": {},
   "outputs": [],
   "source": []
  }
 ],
 "metadata": {
  "kernelspec": {
   "display_name": "Python 3",
   "language": "python",
   "name": "python3"
  },
  "language_info": {
   "codemirror_mode": {
    "name": "ipython",
    "version": 3
   },
   "file_extension": ".py",
   "mimetype": "text/x-python",
   "name": "python",
   "nbconvert_exporter": "python",
   "pygments_lexer": "ipython3",
   "version": "3.6.8"
  },
  "pycharm": {
   "stem_cell": {
    "cell_type": "raw",
    "source": [],
    "metadata": {
     "collapsed": false
    }
   }
  }
 },
 "nbformat": 4,
 "nbformat_minor": 2
}
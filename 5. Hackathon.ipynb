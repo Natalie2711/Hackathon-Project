{
 "cells": [
  {
   "cell_type": "code",
   "execution_count": 5,
   "metadata": {},
   "outputs": [
    {
     "data": {
      "text/plain": [
       "(992977, 18)"
      ]
     },
     "execution_count": 5,
     "metadata": {},
     "output_type": "execute_result"
    }
   ],
   "source": [
    "import numpy as np\n",
    "import pandas as pd\n",
    "#get the data\n",
    "dataset = pd.read_csv(r\"C:\\Users\\gradadm09\\Desktop\\Natalie\\Wayfair-Babson_HackathonData 2019.csv\")\n",
    "dataset.shape"
   ]
  },
  {
   "cell_type": "code",
   "execution_count": 6,
   "metadata": {
    "scrolled": false
   },
   "outputs": [
    {
     "name": "stdout",
     "output_type": "stream",
     "text": [
      "<class 'pandas.core.frame.DataFrame'>\n",
      "RangeIndex: 992977 entries, 0 to 992976\n",
      "Data columns (total 18 columns):\n",
      "VisitDate               992977 non-null object\n",
      "UniqueVisitID           992977 non-null int64\n",
      "VisitorGroup            992977 non-null object\n",
      "PlatformUsed            992977 non-null object\n",
      "VisitSource             992977 non-null object\n",
      "BrowserName             992977 non-null object\n",
      "OSName                  992977 non-null object\n",
      "State                   408261 non-null object\n",
      "Gender                  639596 non-null object\n",
      "IncomeRange             383272 non-null object\n",
      "ViewedProductInVisit    992977 non-null int64\n",
      "ViewedSaleInVisit       992977 non-null int64\n",
      "TotalPageViews          992977 non-null int64\n",
      "PlacedSearch            992977 non-null int64\n",
      "SecondsOnSite           992977 non-null int64\n",
      "ClickedBanner           992977 non-null int64\n",
      "AddedToBasket           992977 non-null int64\n",
      "Purchased               992977 non-null int64\n",
      "dtypes: int64(9), object(9)\n",
      "memory usage: 136.4+ MB\n"
     ]
    }
   ],
   "source": [
    "dataset.info()"
   ]
  },
  {
   "cell_type": "code",
   "execution_count": 7,
   "metadata": {},
   "outputs": [],
   "source": [
    "data_deleted = dataset.drop(['IncomeRange','State','UniqueVisitID','VisitDate'],axis = 1)"
   ]
  },
  {
   "cell_type": "code",
   "execution_count": 8,
   "metadata": {},
   "outputs": [
    {
     "name": "stdout",
     "output_type": "stream",
     "text": [
      "<class 'pandas.core.frame.DataFrame'>\n",
      "RangeIndex: 992977 entries, 0 to 992976\n",
      "Data columns (total 14 columns):\n",
      "VisitorGroup            992977 non-null object\n",
      "PlatformUsed            992977 non-null object\n",
      "VisitSource             992977 non-null object\n",
      "BrowserName             992977 non-null object\n",
      "OSName                  992977 non-null object\n",
      "Gender                  639596 non-null object\n",
      "ViewedProductInVisit    992977 non-null int64\n",
      "ViewedSaleInVisit       992977 non-null int64\n",
      "TotalPageViews          992977 non-null int64\n",
      "PlacedSearch            992977 non-null int64\n",
      "SecondsOnSite           992977 non-null int64\n",
      "ClickedBanner           992977 non-null int64\n",
      "AddedToBasket           992977 non-null int64\n",
      "Purchased               992977 non-null int64\n",
      "dtypes: int64(8), object(6)\n",
      "memory usage: 106.1+ MB\n"
     ]
    }
   ],
   "source": [
    "data_deleted.info()"
   ]
  },
  {
   "cell_type": "code",
   "execution_count": 11,
   "metadata": {},
   "outputs": [],
   "source": [
    "data_fillnan = data_deleted.fillna(method = 'ffill') # fill in the NaN using the row before the row with null value\n",
    "data_fillasunknown = data_deleted.fillna(\"Unknown\") # fill in the NaN using \"Unknown\"\n",
    "data_fillall = data_deleted.replace(\"Unknown\",np.nan).fillna(method = 'ffill') # replace \"Unknown\" using NaN, and fill in the NaN\n",
    "data_deletenan = data_deleted.dropna(axis = 0,how = 'any') # drop all rows with null value\n",
    "data_deleteall = data_deleted.replace(\"Unknown\",np.nan).dropna(axis = 0,how = 'any') # drop all rows with null value or \"Unknown\" value\n",
    "data_deleteage = data_deleted.drop(['Gender'],axis = 1) # drop Gender"
   ]
  },
  {
   "cell_type": "code",
   "execution_count": 17,
   "metadata": {},
   "outputs": [],
   "source": [
    "data_fillall.head()\n",
    "saved_data = data_fillall.to_csv()"
   ]
  },
  {
   "cell_type": "code",
   "execution_count": 6,
   "metadata": {},
   "outputs": [],
   "source": [
    "from sklearn.preprocessing import LabelEncoder\n",
    "label_encode = LabelEncoder()\n",
    "labels = ['VisitorGroup','PlatformUsed','VisitSource','BrowserName','OSName','Gender']"
   ]
  },
  {
   "cell_type": "code",
   "execution_count": 7,
   "metadata": {},
   "outputs": [
    {
     "name": "stdout",
     "output_type": "stream",
     "text": [
      "<class 'pandas.core.frame.DataFrame'>\n",
      "RangeIndex: 992977 entries, 0 to 992976\n",
      "Data columns (total 14 columns):\n",
      "VisitorGroup            992977 non-null object\n",
      "PlatformUsed            992977 non-null object\n",
      "VisitSource             992977 non-null object\n",
      "BrowserName             992977 non-null object\n",
      "OSName                  992977 non-null object\n",
      "Gender                  992977 non-null object\n",
      "ViewedProductInVisit    992977 non-null int64\n",
      "ViewedSaleInVisit       992977 non-null int64\n",
      "TotalPageViews          992977 non-null int64\n",
      "PlacedSearch            992977 non-null int64\n",
      "SecondsOnSite           992977 non-null int64\n",
      "ClickedBanner           992977 non-null int64\n",
      "AddedToBasket           992977 non-null int64\n",
      "Purchased               992977 non-null int64\n",
      "dtypes: int64(8), object(6)\n",
      "memory usage: 106.1+ MB\n"
     ]
    }
   ],
   "source": [
    "train = data_fillall # We only have Male or Female for Gender!\n",
    "train.info()\n",
    "new_labels = []\n",
    "for label in labels:\n",
    "    new_label = label+\"_Code\"\n",
    "    new_labels.append(new_label)\n",
    "    train[new_label] = label_encode.fit_transform(train[label]) # turn labels to digit labels(0,1) or (1,2,3,4)..."
   ]
  },
  {
   "cell_type": "code",
   "execution_count": 8,
   "metadata": {},
   "outputs": [],
   "source": [
    "from sklearn.preprocessing import OneHotEncoder\n",
    "enc = OneHotEncoder() # same as the dummy variables\n",
    "onehot_features = ['VisitorGroup_Code', 'PlatformUsed_Code', 'VisitSource_Code', 'BrowserName_Code', 'OSName_Code']"
   ]
  },
  {
   "cell_type": "code",
   "execution_count": 9,
   "metadata": {},
   "outputs": [
    {
     "name": "stderr",
     "output_type": "stream",
     "text": [
      "c:\\users\\lindi\\appdata\\local\\programs\\python\\python37\\lib\\site-packages\\sklearn\\preprocessing\\_encoders.py:368: FutureWarning: The handling of integer data will change in version 0.22. Currently, the categories are determined based on the range [0, max(values)], while in the future they will be determined based on the unique values.\n",
      "If you want the future behaviour and silence this warning, you can specify \"categories='auto'\".\n",
      "In case you used a LabelEncoder before this OneHotEncoder to convert the categories to integers, then you can now use the OneHotEncoder directly.\n",
      "  warnings.warn(msg, FutureWarning)\n"
     ]
    },
    {
     "data": {
      "text/plain": [
       "OneHotEncoder(categorical_features=None, categories=None,\n",
       "       dtype=<class 'numpy.float64'>, handle_unknown='error',\n",
       "       n_values=None, sparse=True)"
      ]
     },
     "execution_count": 9,
     "metadata": {},
     "output_type": "execute_result"
    }
   ],
   "source": [
    "enc.fit(train[onehot_features])"
   ]
  },
  {
   "cell_type": "code",
   "execution_count": 10,
   "metadata": {},
   "outputs": [
    {
     "data": {
      "text/plain": [
       "[array([0., 1., 2.]),\n",
       " array([0., 1.]),\n",
       " array([0., 1., 2.]),\n",
       " array([0., 1., 2.]),\n",
       " array([0., 1., 2., 3., 4., 5., 6.])]"
      ]
     },
     "execution_count": 10,
     "metadata": {},
     "output_type": "execute_result"
    }
   ],
   "source": [
    "enc.categories_"
   ]
  },
  {
   "cell_type": "code",
   "execution_count": 11,
   "metadata": {},
   "outputs": [],
   "source": [
    "enc_res = enc.transform(train[onehot_features])"
   ]
  },
  {
   "cell_type": "code",
   "execution_count": 12,
   "metadata": {},
   "outputs": [
    {
     "name": "stdout",
     "output_type": "stream",
     "text": [
      "[[0. 0. 1. ... 0. 0. 0.]\n",
      " [1. 0. 0. ... 0. 0. 1.]\n",
      " [1. 0. 0. ... 0. 1. 0.]\n",
      " ...\n",
      " [1. 0. 0. ... 0. 0. 1.]\n",
      " [0. 1. 0. ... 0. 0. 1.]\n",
      " [0. 1. 0. ... 0. 0. 0.]]\n"
     ]
    }
   ],
   "source": [
    "print(enc_res.toarray())"
   ]
  },
  {
   "cell_type": "code",
   "execution_count": 13,
   "metadata": {},
   "outputs": [
    {
     "name": "stdout",
     "output_type": "stream",
     "text": [
      "(992977, 18)\n"
     ]
    }
   ],
   "source": [
    "print(enc_res.toarray().shape)"
   ]
  },
  {
   "cell_type": "code",
   "execution_count": 14,
   "metadata": {},
   "outputs": [
    {
     "data": {
      "text/plain": [
       "['ViewedProductInVisit',\n",
       " 'ViewedSaleInVisit',\n",
       " 'TotalPageViews',\n",
       " 'PlacedSearch',\n",
       " 'SecondsOnSite',\n",
       " 'ClickedBanner',\n",
       " 'AddedToBasket',\n",
       " 'VisitorGroup_Code',\n",
       " 'PlatformUsed_Code',\n",
       " 'VisitSource_Code',\n",
       " 'BrowserName_Code',\n",
       " 'OSName_Code',\n",
       " 'Gender_Code']"
      ]
     },
     "execution_count": 14,
     "metadata": {},
     "output_type": "execute_result"
    }
   ],
   "source": [
    "final_features = ['ViewedProductInVisit','ViewedSaleInVisit','TotalPageViews','PlacedSearch','SecondsOnSite','ClickedBanner','AddedToBasket']\n",
    "for i in new_labels:\n",
    "    final_features.append(i)\n",
    "final_features"
   ]
  },
  {
   "cell_type": "code",
   "execution_count": 15,
   "metadata": {},
   "outputs": [],
   "source": [
    "onehot_final = list(set(final_features) - set(onehot_features))"
   ]
  },
  {
   "cell_type": "code",
   "execution_count": 16,
   "metadata": {},
   "outputs": [
    {
     "data": {
      "text/plain": [
       "['AddedToBasket',\n",
       " 'PlacedSearch',\n",
       " 'SecondsOnSite',\n",
       " 'ViewedProductInVisit',\n",
       " 'TotalPageViews',\n",
       " 'ViewedSaleInVisit',\n",
       " 'ClickedBanner',\n",
       " 'Gender_Code']"
      ]
     },
     "execution_count": 16,
     "metadata": {},
     "output_type": "execute_result"
    }
   ],
   "source": [
    "onehot_final"
   ]
  },
  {
   "cell_type": "code",
   "execution_count": 17,
   "metadata": {},
   "outputs": [
    {
     "data": {
      "text/html": [
       "<div>\n",
       "<style scoped>\n",
       "    .dataframe tbody tr th:only-of-type {\n",
       "        vertical-align: middle;\n",
       "    }\n",
       "\n",
       "    .dataframe tbody tr th {\n",
       "        vertical-align: top;\n",
       "    }\n",
       "\n",
       "    .dataframe thead th {\n",
       "        text-align: right;\n",
       "    }\n",
       "</style>\n",
       "<table border=\"1\" class=\"dataframe\">\n",
       "  <thead>\n",
       "    <tr style=\"text-align: right;\">\n",
       "      <th></th>\n",
       "      <th>ViewedProductInVisit</th>\n",
       "      <th>ViewedSaleInVisit</th>\n",
       "      <th>TotalPageViews</th>\n",
       "      <th>PlacedSearch</th>\n",
       "      <th>SecondsOnSite</th>\n",
       "      <th>ClickedBanner</th>\n",
       "      <th>AddedToBasket</th>\n",
       "      <th>VisitorGroup_Code</th>\n",
       "      <th>PlatformUsed_Code</th>\n",
       "      <th>VisitSource_Code</th>\n",
       "      <th>BrowserName_Code</th>\n",
       "      <th>OSName_Code</th>\n",
       "      <th>Gender_Code</th>\n",
       "    </tr>\n",
       "  </thead>\n",
       "  <tbody>\n",
       "    <tr>\n",
       "      <th>0</th>\n",
       "      <td>0</td>\n",
       "      <td>0</td>\n",
       "      <td>1</td>\n",
       "      <td>0</td>\n",
       "      <td>0</td>\n",
       "      <td>0</td>\n",
       "      <td>0</td>\n",
       "      <td>2</td>\n",
       "      <td>1</td>\n",
       "      <td>1</td>\n",
       "      <td>0</td>\n",
       "      <td>3</td>\n",
       "      <td>0</td>\n",
       "    </tr>\n",
       "    <tr>\n",
       "      <th>1</th>\n",
       "      <td>1</td>\n",
       "      <td>0</td>\n",
       "      <td>9</td>\n",
       "      <td>0</td>\n",
       "      <td>230</td>\n",
       "      <td>0</td>\n",
       "      <td>0</td>\n",
       "      <td>0</td>\n",
       "      <td>0</td>\n",
       "      <td>2</td>\n",
       "      <td>2</td>\n",
       "      <td>6</td>\n",
       "      <td>0</td>\n",
       "    </tr>\n",
       "    <tr>\n",
       "      <th>2</th>\n",
       "      <td>0</td>\n",
       "      <td>0</td>\n",
       "      <td>28</td>\n",
       "      <td>0</td>\n",
       "      <td>10412</td>\n",
       "      <td>0</td>\n",
       "      <td>0</td>\n",
       "      <td>0</td>\n",
       "      <td>1</td>\n",
       "      <td>2</td>\n",
       "      <td>0</td>\n",
       "      <td>5</td>\n",
       "      <td>0</td>\n",
       "    </tr>\n",
       "    <tr>\n",
       "      <th>3</th>\n",
       "      <td>1</td>\n",
       "      <td>1</td>\n",
       "      <td>8</td>\n",
       "      <td>1</td>\n",
       "      <td>430</td>\n",
       "      <td>0</td>\n",
       "      <td>0</td>\n",
       "      <td>2</td>\n",
       "      <td>0</td>\n",
       "      <td>0</td>\n",
       "      <td>2</td>\n",
       "      <td>6</td>\n",
       "      <td>0</td>\n",
       "    </tr>\n",
       "    <tr>\n",
       "      <th>4</th>\n",
       "      <td>1</td>\n",
       "      <td>1</td>\n",
       "      <td>9</td>\n",
       "      <td>0</td>\n",
       "      <td>1158</td>\n",
       "      <td>0</td>\n",
       "      <td>0</td>\n",
       "      <td>0</td>\n",
       "      <td>0</td>\n",
       "      <td>1</td>\n",
       "      <td>2</td>\n",
       "      <td>6</td>\n",
       "      <td>0</td>\n",
       "    </tr>\n",
       "  </tbody>\n",
       "</table>\n",
       "</div>"
      ],
      "text/plain": [
       "   ViewedProductInVisit  ViewedSaleInVisit  TotalPageViews  PlacedSearch  \\\n",
       "0                     0                  0               1             0   \n",
       "1                     1                  0               9             0   \n",
       "2                     0                  0              28             0   \n",
       "3                     1                  1               8             1   \n",
       "4                     1                  1               9             0   \n",
       "\n",
       "   SecondsOnSite  ClickedBanner  AddedToBasket  VisitorGroup_Code  \\\n",
       "0              0              0              0                  2   \n",
       "1            230              0              0                  0   \n",
       "2          10412              0              0                  0   \n",
       "3            430              0              0                  2   \n",
       "4           1158              0              0                  0   \n",
       "\n",
       "   PlatformUsed_Code  VisitSource_Code  BrowserName_Code  OSName_Code  \\\n",
       "0                  1                 1                 0            3   \n",
       "1                  0                 2                 2            6   \n",
       "2                  1                 2                 0            5   \n",
       "3                  0                 0                 2            6   \n",
       "4                  0                 1                 2            6   \n",
       "\n",
       "   Gender_Code  \n",
       "0            0  \n",
       "1            0  \n",
       "2            0  \n",
       "3            0  \n",
       "4            0  "
      ]
     },
     "execution_count": 17,
     "metadata": {},
     "output_type": "execute_result"
    }
   ],
   "source": [
    "all_x = train[final_features]\n",
    "y = train['Purchased']\n",
    "all_x.head()"
   ]
  },
  {
   "cell_type": "code",
   "execution_count": 18,
   "metadata": {},
   "outputs": [
    {
     "data": {
      "text/html": [
       "<div>\n",
       "<style scoped>\n",
       "    .dataframe tbody tr th:only-of-type {\n",
       "        vertical-align: middle;\n",
       "    }\n",
       "\n",
       "    .dataframe tbody tr th {\n",
       "        vertical-align: top;\n",
       "    }\n",
       "\n",
       "    .dataframe thead th {\n",
       "        text-align: right;\n",
       "    }\n",
       "</style>\n",
       "<table border=\"1\" class=\"dataframe\">\n",
       "  <thead>\n",
       "    <tr style=\"text-align: right;\">\n",
       "      <th></th>\n",
       "      <th>AddedToBasket</th>\n",
       "      <th>PlacedSearch</th>\n",
       "      <th>SecondsOnSite</th>\n",
       "      <th>ViewedProductInVisit</th>\n",
       "      <th>TotalPageViews</th>\n",
       "      <th>ViewedSaleInVisit</th>\n",
       "      <th>ClickedBanner</th>\n",
       "      <th>Gender_Code</th>\n",
       "      <th>0</th>\n",
       "      <th>1</th>\n",
       "      <th>...</th>\n",
       "      <th>8</th>\n",
       "      <th>9</th>\n",
       "      <th>10</th>\n",
       "      <th>11</th>\n",
       "      <th>12</th>\n",
       "      <th>13</th>\n",
       "      <th>14</th>\n",
       "      <th>15</th>\n",
       "      <th>16</th>\n",
       "      <th>17</th>\n",
       "    </tr>\n",
       "  </thead>\n",
       "  <tbody>\n",
       "    <tr>\n",
       "      <th>0</th>\n",
       "      <td>0</td>\n",
       "      <td>0</td>\n",
       "      <td>0</td>\n",
       "      <td>0</td>\n",
       "      <td>1</td>\n",
       "      <td>0</td>\n",
       "      <td>0</td>\n",
       "      <td>0</td>\n",
       "      <td>0.0</td>\n",
       "      <td>0.0</td>\n",
       "      <td>...</td>\n",
       "      <td>1.0</td>\n",
       "      <td>0.0</td>\n",
       "      <td>0.0</td>\n",
       "      <td>0.0</td>\n",
       "      <td>0.0</td>\n",
       "      <td>0.0</td>\n",
       "      <td>1.0</td>\n",
       "      <td>0.0</td>\n",
       "      <td>0.0</td>\n",
       "      <td>0.0</td>\n",
       "    </tr>\n",
       "    <tr>\n",
       "      <th>1</th>\n",
       "      <td>0</td>\n",
       "      <td>0</td>\n",
       "      <td>230</td>\n",
       "      <td>1</td>\n",
       "      <td>9</td>\n",
       "      <td>0</td>\n",
       "      <td>0</td>\n",
       "      <td>0</td>\n",
       "      <td>1.0</td>\n",
       "      <td>0.0</td>\n",
       "      <td>...</td>\n",
       "      <td>0.0</td>\n",
       "      <td>0.0</td>\n",
       "      <td>1.0</td>\n",
       "      <td>0.0</td>\n",
       "      <td>0.0</td>\n",
       "      <td>0.0</td>\n",
       "      <td>0.0</td>\n",
       "      <td>0.0</td>\n",
       "      <td>0.0</td>\n",
       "      <td>1.0</td>\n",
       "    </tr>\n",
       "    <tr>\n",
       "      <th>2</th>\n",
       "      <td>0</td>\n",
       "      <td>0</td>\n",
       "      <td>10412</td>\n",
       "      <td>0</td>\n",
       "      <td>28</td>\n",
       "      <td>0</td>\n",
       "      <td>0</td>\n",
       "      <td>0</td>\n",
       "      <td>1.0</td>\n",
       "      <td>0.0</td>\n",
       "      <td>...</td>\n",
       "      <td>1.0</td>\n",
       "      <td>0.0</td>\n",
       "      <td>0.0</td>\n",
       "      <td>0.0</td>\n",
       "      <td>0.0</td>\n",
       "      <td>0.0</td>\n",
       "      <td>0.0</td>\n",
       "      <td>0.0</td>\n",
       "      <td>1.0</td>\n",
       "      <td>0.0</td>\n",
       "    </tr>\n",
       "    <tr>\n",
       "      <th>3</th>\n",
       "      <td>0</td>\n",
       "      <td>1</td>\n",
       "      <td>430</td>\n",
       "      <td>1</td>\n",
       "      <td>8</td>\n",
       "      <td>1</td>\n",
       "      <td>0</td>\n",
       "      <td>0</td>\n",
       "      <td>0.0</td>\n",
       "      <td>0.0</td>\n",
       "      <td>...</td>\n",
       "      <td>0.0</td>\n",
       "      <td>0.0</td>\n",
       "      <td>1.0</td>\n",
       "      <td>0.0</td>\n",
       "      <td>0.0</td>\n",
       "      <td>0.0</td>\n",
       "      <td>0.0</td>\n",
       "      <td>0.0</td>\n",
       "      <td>0.0</td>\n",
       "      <td>1.0</td>\n",
       "    </tr>\n",
       "    <tr>\n",
       "      <th>4</th>\n",
       "      <td>0</td>\n",
       "      <td>0</td>\n",
       "      <td>1158</td>\n",
       "      <td>1</td>\n",
       "      <td>9</td>\n",
       "      <td>1</td>\n",
       "      <td>0</td>\n",
       "      <td>0</td>\n",
       "      <td>1.0</td>\n",
       "      <td>0.0</td>\n",
       "      <td>...</td>\n",
       "      <td>0.0</td>\n",
       "      <td>0.0</td>\n",
       "      <td>1.0</td>\n",
       "      <td>0.0</td>\n",
       "      <td>0.0</td>\n",
       "      <td>0.0</td>\n",
       "      <td>0.0</td>\n",
       "      <td>0.0</td>\n",
       "      <td>0.0</td>\n",
       "      <td>1.0</td>\n",
       "    </tr>\n",
       "  </tbody>\n",
       "</table>\n",
       "<p>5 rows × 26 columns</p>\n",
       "</div>"
      ],
      "text/plain": [
       "   AddedToBasket  PlacedSearch  SecondsOnSite  ViewedProductInVisit  \\\n",
       "0              0             0              0                     0   \n",
       "1              0             0            230                     1   \n",
       "2              0             0          10412                     0   \n",
       "3              0             1            430                     1   \n",
       "4              0             0           1158                     1   \n",
       "\n",
       "   TotalPageViews  ViewedSaleInVisit  ClickedBanner  Gender_Code    0    1  \\\n",
       "0               1                  0              0            0  0.0  0.0   \n",
       "1               9                  0              0            0  1.0  0.0   \n",
       "2              28                  0              0            0  1.0  0.0   \n",
       "3               8                  1              0            0  0.0  0.0   \n",
       "4               9                  1              0            0  1.0  0.0   \n",
       "\n",
       "  ...     8    9   10   11   12   13   14   15   16   17  \n",
       "0 ...   1.0  0.0  0.0  0.0  0.0  0.0  1.0  0.0  0.0  0.0  \n",
       "1 ...   0.0  0.0  1.0  0.0  0.0  0.0  0.0  0.0  0.0  1.0  \n",
       "2 ...   1.0  0.0  0.0  0.0  0.0  0.0  0.0  0.0  1.0  0.0  \n",
       "3 ...   0.0  0.0  1.0  0.0  0.0  0.0  0.0  0.0  0.0  1.0  \n",
       "4 ...   0.0  0.0  1.0  0.0  0.0  0.0  0.0  0.0  0.0  1.0  \n",
       "\n",
       "[5 rows x 26 columns]"
      ]
     },
     "execution_count": 18,
     "metadata": {},
     "output_type": "execute_result"
    }
   ],
   "source": [
    "onehot_added = pd.DataFrame(enc_res.toarray())\n",
    "all_x_2 = pd.concat([train[onehot_final],onehot_added],axis = 1)\n",
    "all_x_2.head()"
   ]
  },
  {
   "cell_type": "code",
   "execution_count": 19,
   "metadata": {},
   "outputs": [
    {
     "data": {
      "text/plain": [
       "ViewedProductInVisit    0\n",
       "ViewedSaleInVisit       0\n",
       "TotalPageViews          0\n",
       "PlacedSearch            0\n",
       "SecondsOnSite           0\n",
       "ClickedBanner           0\n",
       "AddedToBasket           0\n",
       "VisitorGroup_Code       0\n",
       "PlatformUsed_Code       0\n",
       "VisitSource_Code        0\n",
       "BrowserName_Code        0\n",
       "OSName_Code             0\n",
       "Gender_Code             0\n",
       "dtype: int64"
      ]
     },
     "execution_count": 19,
     "metadata": {},
     "output_type": "execute_result"
    }
   ],
   "source": [
    "all_x.isnull().sum()"
   ]
  },
  {
   "cell_type": "code",
   "execution_count": 20,
   "metadata": {},
   "outputs": [],
   "source": [
    "from sklearn.model_selection import train_test_split"
   ]
  },
  {
   "cell_type": "code",
   "execution_count": 21,
   "metadata": {},
   "outputs": [
    {
     "data": {
      "text/plain": [
       "((794381, 13), (198596, 13))"
      ]
     },
     "execution_count": 21,
     "metadata": {},
     "output_type": "execute_result"
    }
   ],
   "source": [
    "xTrain, xTest, yTrain, yTest = train_test_split(all_x, y, test_size = 0.2, random_state = 0)\n",
    "xTrain.shape, xTest.shape"
   ]
  },
  {
   "cell_type": "code",
   "execution_count": 22,
   "metadata": {},
   "outputs": [
    {
     "data": {
      "text/plain": [
       "((794381,), (198596,))"
      ]
     },
     "execution_count": 22,
     "metadata": {},
     "output_type": "execute_result"
    }
   ],
   "source": [
    "yTrain.shape, yTest.shape"
   ]
  },
  {
   "cell_type": "code",
   "execution_count": 23,
   "metadata": {},
   "outputs": [
    {
     "data": {
      "text/plain": [
       "(0.02557085328073053, 0.02494007935708675)"
      ]
     },
     "execution_count": 23,
     "metadata": {},
     "output_type": "execute_result"
    }
   ],
   "source": [
    "yTrain.mean(), yTest.mean()"
   ]
  },
  {
   "cell_type": "code",
   "execution_count": 24,
   "metadata": {},
   "outputs": [],
   "source": [
    "x2Train, x2Test, y2Train, y2Test = train_test_split(all_x_2, y, test_size = 0.2, random_state = 0)"
   ]
  },
  {
   "cell_type": "code",
   "execution_count": 25,
   "metadata": {},
   "outputs": [
    {
     "data": {
      "text/plain": [
       "(AddedToBasket              0.106395\n",
       " PlacedSearch               0.366231\n",
       " SecondsOnSite           1436.790794\n",
       " ViewedProductInVisit       0.509295\n",
       " TotalPageViews            13.979803\n",
       " ViewedSaleInVisit          0.139652\n",
       " ClickedBanner              0.046439\n",
       " Gender_Code                0.187722\n",
       " 0                          0.238780\n",
       " 1                          0.210244\n",
       " 2                          0.550976\n",
       " 3                          0.510987\n",
       " 4                          0.489013\n",
       " 5                          0.180442\n",
       " 6                          0.309195\n",
       " 7                          0.510362\n",
       " 8                          0.457330\n",
       " 9                          0.055224\n",
       " 10                         0.487446\n",
       " 11                         0.212104\n",
       " 12                         0.008459\n",
       " 13                         0.000850\n",
       " 14                         0.113830\n",
       " 15                         0.000147\n",
       " 16                         0.238695\n",
       " 17                         0.425915\n",
       " dtype: float64, AddedToBasket              0.106301\n",
       " PlacedSearch               0.365440\n",
       " SecondsOnSite           1437.461958\n",
       " ViewedProductInVisit       0.508082\n",
       " TotalPageViews            13.958625\n",
       " ViewedSaleInVisit          0.139867\n",
       " ClickedBanner              0.046793\n",
       " Gender_Code                0.186484\n",
       " 0                          0.238565\n",
       " 1                          0.209747\n",
       " 2                          0.551688\n",
       " 3                          0.512885\n",
       " 4                          0.487115\n",
       " 5                          0.180850\n",
       " 6                          0.309895\n",
       " 7                          0.509255\n",
       " 8                          0.456097\n",
       " 9                          0.056517\n",
       " 10                         0.487386\n",
       " 11                         0.212683\n",
       " 12                         0.008107\n",
       " 13                         0.000715\n",
       " 14                         0.112661\n",
       " 15                         0.000126\n",
       " 16                         0.238912\n",
       " 17                         0.426796\n",
       " dtype: float64)"
      ]
     },
     "execution_count": 25,
     "metadata": {},
     "output_type": "execute_result"
    }
   ],
   "source": [
    "x2Train.mean(), x2Test.mean()"
   ]
  },
  {
   "cell_type": "code",
   "execution_count": 26,
   "metadata": {},
   "outputs": [],
   "source": [
    "from sklearn.linear_model import LogisticRegression\n",
    "from sklearn.tree import DecisionTreeClassifier\n",
    "from sklearn.ensemble import RandomForestClassifier"
   ]
  },
  {
   "cell_type": "code",
   "execution_count": 27,
   "metadata": {},
   "outputs": [],
   "source": [
    "logr = LogisticRegression()\n",
    "dtree = DecisionTreeClassifier()\n",
    "rf = RandomForestClassifier()\n",
    "models = [logr,dtree,rf]"
   ]
  },
  {
   "cell_type": "code",
   "execution_count": 28,
   "metadata": {},
   "outputs": [
    {
     "name": "stderr",
     "output_type": "stream",
     "text": [
      "c:\\users\\lindi\\appdata\\local\\programs\\python\\python37\\lib\\site-packages\\sklearn\\linear_model\\logistic.py:433: FutureWarning: Default solver will be changed to 'lbfgs' in 0.22. Specify a solver to silence this warning.\n",
      "  FutureWarning)\n"
     ]
    },
    {
     "data": {
      "text/plain": [
       "LogisticRegression(C=1.0, class_weight=None, dual=False, fit_intercept=True,\n",
       "          intercept_scaling=1, max_iter=100, multi_class='warn',\n",
       "          n_jobs=None, penalty='l2', random_state=None, solver='warn',\n",
       "          tol=0.0001, verbose=0, warm_start=False)"
      ]
     },
     "execution_count": 28,
     "metadata": {},
     "output_type": "execute_result"
    }
   ],
   "source": [
    "logr.fit(x2Train,y2Train)"
   ]
  },
  {
   "cell_type": "code",
   "execution_count": 29,
   "metadata": {},
   "outputs": [],
   "source": [
    "y_pred_test = logr.predict(x2Test)\n",
    "y_pred_train = logr.predict(x2Train)"
   ]
  },
  {
   "cell_type": "code",
   "execution_count": 30,
   "metadata": {},
   "outputs": [
    {
     "data": {
      "text/plain": [
       "0.9748232592801467"
      ]
     },
     "execution_count": 30,
     "metadata": {},
     "output_type": "execute_result"
    }
   ],
   "source": [
    "np.mean(y_pred_test == y2Test)"
   ]
  },
  {
   "cell_type": "code",
   "execution_count": 31,
   "metadata": {},
   "outputs": [
    {
     "data": {
      "text/plain": [
       "0.9742302497164459"
      ]
     },
     "execution_count": 31,
     "metadata": {},
     "output_type": "execute_result"
    }
   ],
   "source": [
    "np.mean(y_pred_train == y2Train)"
   ]
  },
  {
   "cell_type": "code",
   "execution_count": 32,
   "metadata": {},
   "outputs": [
    {
     "data": {
      "text/plain": [
       "array([[ 3.65820064e+00,  1.08670427e-01,  8.69431361e-06,\n",
       "         3.36347986e-01,  4.09465993e-03, -1.68380870e-01,\n",
       "        -1.79987932e-01,  2.81554986e-01, -1.32243530e+00,\n",
       "        -5.51429634e-01, -3.10914021e-01, -1.25121483e+00,\n",
       "        -9.33564117e-01, -3.50472033e-01, -8.62241857e-01,\n",
       "        -9.72065061e-01, -5.88966307e-01, -7.31383005e-01,\n",
       "        -8.64429639e-01, -9.27051099e-01, -1.54581494e-01,\n",
       "        -1.31220722e-02, -1.70143917e-01, -6.20107016e-03,\n",
       "        -4.19208065e-01, -4.94471233e-01]])"
      ]
     },
     "execution_count": 32,
     "metadata": {},
     "output_type": "execute_result"
    }
   ],
   "source": [
    "coefs = logr.coef_\n",
    "coefs"
   ]
  },
  {
   "cell_type": "code",
   "execution_count": 33,
   "metadata": {},
   "outputs": [
    {
     "data": {
      "text/plain": [
       "array([-2.18477895])"
      ]
     },
     "execution_count": 33,
     "metadata": {},
     "output_type": "execute_result"
    }
   ],
   "source": [
    "intercept = logr.intercept_\n",
    "intercept"
   ]
  },
  {
   "cell_type": "code",
   "execution_count": 34,
   "metadata": {},
   "outputs": [
    {
     "name": "stdout",
     "output_type": "stream",
     "text": [
      "Optimization terminated successfully.\n",
      "         Current function value: 0.073912\n",
      "         Iterations 10\n"
     ]
    }
   ],
   "source": [
    "import statsmodels.api as sm\n",
    "log_reg = sm.Logit(y2Train, x2Train)\n",
    "clf = log_reg.fit()"
   ]
  },
  {
   "cell_type": "code",
   "execution_count": 35,
   "metadata": {},
   "outputs": [
    {
     "name": "stderr",
     "output_type": "stream",
     "text": [
      "c:\\users\\lindi\\appdata\\local\\programs\\python\\python37\\lib\\site-packages\\statsmodels\\base\\model.py:1092: RuntimeWarning: invalid value encountered in sqrt\n",
      "  bse_ = np.sqrt(np.diag(self.cov_params()))\n",
      "c:\\users\\lindi\\appdata\\local\\programs\\python\\python37\\lib\\site-packages\\scipy\\stats\\_distn_infrastructure.py:877: RuntimeWarning: invalid value encountered in greater\n",
      "  return (self.a < x) & (x < self.b)\n",
      "c:\\users\\lindi\\appdata\\local\\programs\\python\\python37\\lib\\site-packages\\scipy\\stats\\_distn_infrastructure.py:877: RuntimeWarning: invalid value encountered in less\n",
      "  return (self.a < x) & (x < self.b)\n",
      "c:\\users\\lindi\\appdata\\local\\programs\\python\\python37\\lib\\site-packages\\scipy\\stats\\_distn_infrastructure.py:1831: RuntimeWarning: invalid value encountered in less_equal\n",
      "  cond2 = cond0 & (x <= self.a)\n"
     ]
    },
    {
     "data": {
      "text/html": [
       "<table class=\"simpletable\">\n",
       "<caption>Logit Regression Results</caption>\n",
       "<tr>\n",
       "  <th>Dep. Variable:</th>     <td>Purchased</td>    <th>  No. Observations:  </th>  <td>794381</td> \n",
       "</tr>\n",
       "<tr>\n",
       "  <th>Model:</th>               <td>Logit</td>      <th>  Df Residuals:      </th>  <td>794359</td> \n",
       "</tr>\n",
       "<tr>\n",
       "  <th>Method:</th>               <td>MLE</td>       <th>  Df Model:          </th>  <td>    21</td> \n",
       "</tr>\n",
       "<tr>\n",
       "  <th>Date:</th>          <td>Fri, 01 Mar 2019</td> <th>  Pseudo R-squ.:     </th>  <td>0.3788</td> \n",
       "</tr>\n",
       "<tr>\n",
       "  <th>Time:</th>              <td>11:58:45</td>     <th>  Log-Likelihood:    </th> <td> -58714.</td>\n",
       "</tr>\n",
       "<tr>\n",
       "  <th>converged:</th>           <td>True</td>       <th>  LL-Null:           </th> <td> -94525.</td>\n",
       "</tr>\n",
       "<tr>\n",
       "  <th> </th>                      <td> </td>        <th>  LLR p-value:       </th>  <td> 0.000</td> \n",
       "</tr>\n",
       "</table>\n",
       "<table class=\"simpletable\">\n",
       "<tr>\n",
       "            <td></td>              <th>coef</th>     <th>std err</th>      <th>z</th>      <th>P>|z|</th>  <th>[0.025</th>    <th>0.975]</th>  \n",
       "</tr>\n",
       "<tr>\n",
       "  <th>AddedToBasket</th>        <td>    3.7059</td> <td>    0.026</td> <td>  143.444</td> <td> 0.000</td> <td>    3.655</td> <td>    3.757</td>\n",
       "</tr>\n",
       "<tr>\n",
       "  <th>PlacedSearch</th>         <td>    0.1135</td> <td>    0.017</td> <td>    6.650</td> <td> 0.000</td> <td>    0.080</td> <td>    0.147</td>\n",
       "</tr>\n",
       "<tr>\n",
       "  <th>SecondsOnSite</th>        <td> 8.826e-06</td> <td> 1.75e-06</td> <td>    5.047</td> <td> 0.000</td> <td>  5.4e-06</td> <td> 1.23e-05</td>\n",
       "</tr>\n",
       "<tr>\n",
       "  <th>ViewedProductInVisit</th> <td>    0.2467</td> <td>    0.036</td> <td>    6.940</td> <td> 0.000</td> <td>    0.177</td> <td>    0.316</td>\n",
       "</tr>\n",
       "<tr>\n",
       "  <th>TotalPageViews</th>       <td>    0.0041</td> <td>    0.000</td> <td>   19.609</td> <td> 0.000</td> <td>    0.004</td> <td>    0.004</td>\n",
       "</tr>\n",
       "<tr>\n",
       "  <th>ViewedSaleInVisit</th>    <td>   -0.1618</td> <td>    0.020</td> <td>   -8.106</td> <td> 0.000</td> <td>   -0.201</td> <td>   -0.123</td>\n",
       "</tr>\n",
       "<tr>\n",
       "  <th>ClickedBanner</th>        <td>   -0.1947</td> <td>    0.034</td> <td>   -5.724</td> <td> 0.000</td> <td>   -0.261</td> <td>   -0.128</td>\n",
       "</tr>\n",
       "<tr>\n",
       "  <th>Gender_Code</th>          <td>    0.2779</td> <td>    0.019</td> <td>   14.330</td> <td> 0.000</td> <td>    0.240</td> <td>    0.316</td>\n",
       "</tr>\n",
       "<tr>\n",
       "  <th>0</th>                    <td>   -1.8518</td> <td>      nan</td> <td>      nan</td> <td>   nan</td> <td>      nan</td> <td>      nan</td>\n",
       "</tr>\n",
       "<tr>\n",
       "  <th>1</th>                    <td>   -1.0440</td> <td>      nan</td> <td>      nan</td> <td>   nan</td> <td>      nan</td> <td>      nan</td>\n",
       "</tr>\n",
       "<tr>\n",
       "  <th>2</th>                    <td>   -0.8094</td> <td>      nan</td> <td>      nan</td> <td>   nan</td> <td>      nan</td> <td>      nan</td>\n",
       "</tr>\n",
       "<tr>\n",
       "  <th>3</th>                    <td>   -2.0145</td> <td>      nan</td> <td>      nan</td> <td>   nan</td> <td>      nan</td> <td>      nan</td>\n",
       "</tr>\n",
       "<tr>\n",
       "  <th>4</th>                    <td>   -1.6908</td> <td>      nan</td> <td>      nan</td> <td>   nan</td> <td>      nan</td> <td>      nan</td>\n",
       "</tr>\n",
       "<tr>\n",
       "  <th>5</th>                    <td>   -0.8620</td> <td>      nan</td> <td>      nan</td> <td>   nan</td> <td>      nan</td> <td>      nan</td>\n",
       "</tr>\n",
       "<tr>\n",
       "  <th>6</th>                    <td>   -1.3675</td> <td>      nan</td> <td>      nan</td> <td>   nan</td> <td>      nan</td> <td>      nan</td>\n",
       "</tr>\n",
       "<tr>\n",
       "  <th>7</th>                    <td>   -1.4758</td> <td>      nan</td> <td>      nan</td> <td>   nan</td> <td>      nan</td> <td>      nan</td>\n",
       "</tr>\n",
       "<tr>\n",
       "  <th>8</th>                    <td>   -1.0765</td> <td>      nan</td> <td>      nan</td> <td>   nan</td> <td>      nan</td> <td>      nan</td>\n",
       "</tr>\n",
       "<tr>\n",
       "  <th>9</th>                    <td>   -1.2597</td> <td>      nan</td> <td>      nan</td> <td>   nan</td> <td>      nan</td> <td>      nan</td>\n",
       "</tr>\n",
       "<tr>\n",
       "  <th>10</th>                   <td>   -1.3691</td> <td>      nan</td> <td>      nan</td> <td>   nan</td> <td>      nan</td> <td>      nan</td>\n",
       "</tr>\n",
       "<tr>\n",
       "  <th>11</th>                   <td>   -0.8003</td> <td>      nan</td> <td>      nan</td> <td>   nan</td> <td>      nan</td> <td>      nan</td>\n",
       "</tr>\n",
       "<tr>\n",
       "  <th>12</th>                   <td>   -0.4269</td> <td>      nan</td> <td>      nan</td> <td>   nan</td> <td>      nan</td> <td>      nan</td>\n",
       "</tr>\n",
       "<tr>\n",
       "  <th>13</th>                   <td>   -0.3807</td> <td>      nan</td> <td>      nan</td> <td>   nan</td> <td>      nan</td> <td>      nan</td>\n",
       "</tr>\n",
       "<tr>\n",
       "  <th>14</th>                   <td>   -0.0504</td> <td>      nan</td> <td>      nan</td> <td>   nan</td> <td>      nan</td> <td>      nan</td>\n",
       "</tr>\n",
       "<tr>\n",
       "  <th>15</th>                   <td>   -1.3802</td> <td>      nan</td> <td>      nan</td> <td>   nan</td> <td>      nan</td> <td>      nan</td>\n",
       "</tr>\n",
       "<tr>\n",
       "  <th>16</th>                   <td>   -0.2931</td> <td>      nan</td> <td>      nan</td> <td>   nan</td> <td>      nan</td> <td>      nan</td>\n",
       "</tr>\n",
       "<tr>\n",
       "  <th>17</th>                   <td>   -0.3737</td> <td>      nan</td> <td>      nan</td> <td>   nan</td> <td>      nan</td> <td>      nan</td>\n",
       "</tr>\n",
       "</table>"
      ],
      "text/plain": [
       "<class 'statsmodels.iolib.summary.Summary'>\n",
       "\"\"\"\n",
       "                           Logit Regression Results                           \n",
       "==============================================================================\n",
       "Dep. Variable:              Purchased   No. Observations:               794381\n",
       "Model:                          Logit   Df Residuals:                   794359\n",
       "Method:                           MLE   Df Model:                           21\n",
       "Date:                Fri, 01 Mar 2019   Pseudo R-squ.:                  0.3788\n",
       "Time:                        11:58:45   Log-Likelihood:                -58714.\n",
       "converged:                       True   LL-Null:                       -94525.\n",
       "                                        LLR p-value:                     0.000\n",
       "========================================================================================\n",
       "                           coef    std err          z      P>|z|      [0.025      0.975]\n",
       "----------------------------------------------------------------------------------------\n",
       "AddedToBasket            3.7059      0.026    143.444      0.000       3.655       3.757\n",
       "PlacedSearch             0.1135      0.017      6.650      0.000       0.080       0.147\n",
       "SecondsOnSite         8.826e-06   1.75e-06      5.047      0.000     5.4e-06    1.23e-05\n",
       "ViewedProductInVisit     0.2467      0.036      6.940      0.000       0.177       0.316\n",
       "TotalPageViews           0.0041      0.000     19.609      0.000       0.004       0.004\n",
       "ViewedSaleInVisit       -0.1618      0.020     -8.106      0.000      -0.201      -0.123\n",
       "ClickedBanner           -0.1947      0.034     -5.724      0.000      -0.261      -0.128\n",
       "Gender_Code              0.2779      0.019     14.330      0.000       0.240       0.316\n",
       "0                       -1.8518        nan        nan        nan         nan         nan\n",
       "1                       -1.0440        nan        nan        nan         nan         nan\n",
       "2                       -0.8094        nan        nan        nan         nan         nan\n",
       "3                       -2.0145        nan        nan        nan         nan         nan\n",
       "4                       -1.6908        nan        nan        nan         nan         nan\n",
       "5                       -0.8620        nan        nan        nan         nan         nan\n",
       "6                       -1.3675        nan        nan        nan         nan         nan\n",
       "7                       -1.4758        nan        nan        nan         nan         nan\n",
       "8                       -1.0765        nan        nan        nan         nan         nan\n",
       "9                       -1.2597        nan        nan        nan         nan         nan\n",
       "10                      -1.3691        nan        nan        nan         nan         nan\n",
       "11                      -0.8003        nan        nan        nan         nan         nan\n",
       "12                      -0.4269        nan        nan        nan         nan         nan\n",
       "13                      -0.3807        nan        nan        nan         nan         nan\n",
       "14                      -0.0504        nan        nan        nan         nan         nan\n",
       "15                      -1.3802        nan        nan        nan         nan         nan\n",
       "16                      -0.2931        nan        nan        nan         nan         nan\n",
       "17                      -0.3737        nan        nan        nan         nan         nan\n",
       "========================================================================================\n",
       "\"\"\""
      ]
     },
     "execution_count": 35,
     "metadata": {},
     "output_type": "execute_result"
    }
   ],
   "source": [
    "clf.summary()"
   ]
  },
  {
   "cell_type": "code",
   "execution_count": null,
   "metadata": {},
   "outputs": [],
   "source": []
  },
  {
   "cell_type": "code",
   "execution_count": null,
   "metadata": {},
   "outputs": [],
   "source": []
  }
 ],
 "metadata": {
  "kernelspec": {
   "display_name": "Python 3",
   "language": "python",
   "name": "python3"
  },
  "language_info": {
   "codemirror_mode": {
    "name": "ipython",
    "version": 3
   },
   "file_extension": ".py",
   "mimetype": "text/x-python",
   "name": "python",
   "nbconvert_exporter": "python",
   "pygments_lexer": "ipython3",
   "version": "3.7.1"
  },
  "pycharm": {
   "stem_cell": {
    "cell_type": "raw",
    "source": [],
    "metadata": {
     "collapsed": false
    }
   }
  }
 },
 "nbformat": 4,
 "nbformat_minor": 2
}
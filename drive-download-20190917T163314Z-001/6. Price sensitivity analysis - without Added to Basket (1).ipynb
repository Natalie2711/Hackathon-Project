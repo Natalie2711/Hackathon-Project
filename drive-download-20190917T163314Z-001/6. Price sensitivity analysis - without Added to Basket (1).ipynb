{
 "cells": [
  {
   "cell_type": "code",
   "execution_count": 1,
   "metadata": {},
   "outputs": [],
   "source": [
    "import pandas as pd\n",
    "import numpy as np\n",
    "import matplotlib.pyplot as plt\n",
    "import seaborn as sns\n",
    "sns.set(style = 'white')\n",
    "sns.set (style= 'whitegrid', color_codes = True)\n",
    "from sklearn.linear_model import LogisticRegression\n",
    "from sklearn.model_selection import train_test_split\n",
    "from sklearn.metrics import confusion_matrix\n",
    "from sklearn.metrics import classification_report"
   ]
  },
  {
   "cell_type": "code",
   "execution_count": 4,
   "metadata": {},
   "outputs": [],
   "source": [
    "data = pd.read_csv(r\"C:\\Users\\gradadm09\\Desktop\\Natalie\\Wayfair-Babson_HackathonData 2019.csv\")"
   ]
  },
  {
   "cell_type": "code",
   "execution_count": 5,
   "metadata": {},
   "outputs": [],
   "source": [
    "data_deleted = data.drop(['State','UniqueVisitID','VisitDate','AddedToBasket'],axis = 1)"
   ]
  },
  {
   "cell_type": "code",
   "execution_count": 6,
   "metadata": {},
   "outputs": [],
   "source": [
    "data_fillnan = data_deleted.fillna(method = 'ffill') # fill in the NaN using the row before the row with null value\n",
    "data_fillasunknown = data_deleted.fillna(\"Unknown\") # fill in the NaN using \"Unknown\"\n",
    "data_fillall = data_deleted.replace(\"Unknown\",np.nan).fillna(method = 'ffill') # replace \"Unknown\" using NaN, and fill in the NaN\n",
    "data_deletenan = data_deleted.dropna(axis = 0,how = 'any') # drop all rows with null value\n",
    "data_deleteall = data_deleted.replace(\"Unknown\",np.nan).dropna(axis = 0,how = 'any') # drop all rows with null value or \"Unknown\" value\n",
    "data_deleteage = data_deleted.drop(['Gender'],axis = 1) # drop Gender"
   ]
  },
  {
   "cell_type": "code",
   "execution_count": 7,
   "metadata": {},
   "outputs": [],
   "source": [
    "#data_deleted.info()"
   ]
  },
  {
   "cell_type": "code",
   "execution_count": 8,
   "metadata": {},
   "outputs": [],
   "source": [
    "data = data_deleted"
   ]
  },
  {
   "cell_type": "code",
   "execution_count": 9,
   "metadata": {},
   "outputs": [],
   "source": [
    "#data.isnull().sum()"
   ]
  },
  {
   "cell_type": "code",
   "execution_count": 10,
   "metadata": {},
   "outputs": [],
   "source": [
    "data_income = data.dropna(axis = 0, subset=['IncomeRange'])"
   ]
  },
  {
   "cell_type": "code",
   "execution_count": 11,
   "metadata": {},
   "outputs": [
    {
     "data": {
      "text/plain": [
       "<matplotlib.axes._subplots.AxesSubplot at 0x18e0be53780>"
      ]
     },
     "execution_count": 11,
     "metadata": {},
     "output_type": "execute_result"
    },
    {
     "data": {
      "image/png": "[encoded data removed]",
      "text/plain": [
       "<Figure size 432x288 with 1 Axes>"
      ]
     },
     "metadata": {
      "needs_background": "light"
     },
     "output_type": "display_data"
    }
   ],
   "source": [
    "sns.countplot( x = 'IncomeRange', data = data_income, palette = 'hls')"
   ]
  },
  {
   "cell_type": "code",
   "execution_count": 12,
   "metadata": {},
   "outputs": [],
   "source": [
    "# Divide data set into 3 groups\n",
    "income_group = ['High_income','Med_income','Low_income']\n",
    "\n",
    "High_income = data_income[data_income['IncomeRange'] == '100to250k'].drop(['IncomeRange'],axis = 1)\n",
    "Med_income = data_income[data_income['IncomeRange'] == '50to100k'].drop(['IncomeRange'],axis = 1)\n",
    "Low_income = data_income[data_income['IncomeRange'] == 'Under50k'].drop(['IncomeRange'],axis = 1)"
   ]
  },
  {
   "cell_type": "code",
   "execution_count": 13,
   "metadata": {},
   "outputs": [],
   "source": [
    "#  Analyze price sensitivity of each data set"
   ]
  },
  {
   "cell_type": "code",
   "execution_count": null,
   "metadata": {},
   "outputs": [],
   "source": []
  },
  {
   "cell_type": "code",
   "execution_count": 14,
   "metadata": {},
   "outputs": [],
   "source": [
    "from sklearn.linear_model import LogisticRegression\n",
    "from sklearn.model_selection import train_test_split\n",
    "from sklearn.metrics import confusion_matrix\n",
    "from sklearn.metrics import classification_report\n",
    "from sklearn.linear_model import LogisticRegression\n",
    "from sklearn.tree import DecisionTreeClassifier\n",
    "from sklearn.ensemble import RandomForestClassifier\n",
    "import statsmodels.api as sm"
   ]
  },
  {
   "cell_type": "code",
   "execution_count": 15,
   "metadata": {},
   "outputs": [
    {
     "name": "stdout",
     "output_type": "stream",
     "text": [
      "Index(['Purchased', 'ViewedProductInVisit', 'ViewedSaleInVisit',\n",
      "       'TotalPageViews', 'PlacedSearch', 'SecondsOnSite', 'ClickedBanner',\n",
      "       'VisitorGroup_Prior Visitor',\n",
      "       'VisitorGroup_Prior Visitor with Purchase', 'PlatformUsed_Web',\n",
      "       'VisitSource_ThirdPartyAds', 'VisitSource_WebSearch',\n",
      "       'BrowserName_Microsoft Edge', 'BrowserName_Safari', 'OSName_Chrome OS',\n",
      "       'OSName_Linux', 'OSName_Mac OS X', 'OSName_Other/Unknown',\n",
      "       'OSName_Windows', 'OSName_iOS', 'Gender_Male', 'Gender_Unknown'],\n",
      "      dtype='object')\n"
     ]
    },
    {
     "name": "stderr",
     "output_type": "stream",
     "text": [
      "C:\\Users\\gradadm09\\AppData\\Local\\Continuum\\anaconda3\\lib\\site-packages\\sklearn\\linear_model\\logistic.py:433: FutureWarning: Default solver will be changed to 'lbfgs' in 0.22. Specify a solver to silence this warning.\n",
      "  FutureWarning)\n"
     ]
    },
    {
     "name": "stdout",
     "output_type": "stream",
     "text": [
      "Warning: Maximum number of iterations has been exceeded.\n",
      "         Current function value: 0.218379\n",
      "         Iterations: 35\n",
      "                           Logit Regression Results                           \n",
      "==============================================================================\n",
      "Dep. Variable:                      y   No. Observations:               110176\n",
      "Model:                          Logit   Df Residuals:                   110155\n",
      "Method:                           MLE   Df Model:                           20\n",
      "Date:                Sun, 03 Mar 2019   Pseudo R-squ.:                  0.1053\n",
      "Time:                        08:43:40   Log-Likelihood:                -24060.\n",
      "converged:                      False   LL-Null:                       -26893.\n",
      "                                        LLR p-value:                     0.000\n",
      "============================================================================================================\n",
      "                                               coef    std err          z      P>|z|      [0.025      0.975]\n",
      "------------------------------------------------------------------------------------------------------------\n",
      "ViewedProductInVisit                         1.0156      0.037     27.547      0.000       0.943       1.088\n",
      "ViewedSaleInVisit                           -0.0777      0.033     -2.364      0.018      -0.142      -0.013\n",
      "TotalPageViews                               0.0130      0.000     33.734      0.000       0.012       0.014\n",
      "PlacedSearch                                 0.1039      0.027      3.889      0.000       0.052       0.156\n",
      "SecondsOnSite                             1.424e-05    2.9e-06      4.915      0.000    8.56e-06    1.99e-05\n",
      "ClickedBanner                               -0.1011      0.057     -1.781      0.075      -0.212       0.010\n",
      "VisitorGroup_Prior Visitor                  -2.1875      0.052    -41.814      0.000      -2.290      -2.085\n",
      "VisitorGroup_Prior Visitor with Purchase    -3.0695      0.038    -80.089      0.000      -3.145      -2.994\n",
      "PlatformUsed_Web                             0.1839      0.044      4.140      0.000       0.097       0.271\n",
      "VisitSource_ThirdPartyAds                   -0.6343      0.033    -19.510      0.000      -0.698      -0.571\n",
      "VisitSource_WebSearch                       -1.0184      0.031    -33.275      0.000      -1.078      -0.958\n",
      "BrowserName_Microsoft Edge                  -0.2315      0.066     -3.522      0.000      -0.360      -0.103\n",
      "BrowserName_Safari                          -0.2550      0.049     -5.242      0.000      -0.350      -0.160\n",
      "OSName_Chrome OS                            -0.2754      0.156     -1.764      0.078      -0.581       0.031\n",
      "OSName_Linux                                -1.2894      1.025     -1.258      0.208      -3.298       0.719\n",
      "OSName_Mac OS X                             -0.1606      0.067     -2.413      0.016      -0.291      -0.030\n",
      "OSName_Other/Unknown                       -11.2376    347.625     -0.032      0.974    -692.571     670.096\n",
      "OSName_Windows                              -0.3125      0.060     -5.226      0.000      -0.430      -0.195\n",
      "OSName_iOS                                  -0.4789      0.062     -7.786      0.000      -0.600      -0.358\n",
      "Gender_Male                                  0.0164      0.032      0.515      0.606      -0.046       0.079\n",
      "Gender_Unknown                              -0.1609      0.049     -3.291      0.001      -0.257      -0.065\n",
      "============================================================================================================\n",
      "[2.76110284e+00 9.25255750e-01 1.01310092e+00 1.10948484e+00\n",
      " 1.00001424e+00 9.03827258e-01 1.12195683e-01 4.64459478e-02\n",
      " 1.20191452e+00 5.30321285e-01 3.61161369e-01 7.93337113e-01\n",
      " 7.74914527e-01 7.59265496e-01 2.75439930e-01 8.51649333e-01\n",
      " 1.31695057e-05 7.31640753e-01 6.19434775e-01 1.01654674e+00\n",
      " 8.51375871e-01]\n"
     ]
    },
    {
     "name": "stderr",
     "output_type": "stream",
     "text": [
      "C:\\Users\\gradadm09\\AppData\\Local\\Continuum\\anaconda3\\lib\\site-packages\\statsmodels\\base\\model.py:508: ConvergenceWarning: Maximum Likelihood optimization failed to converge. Check mle_retvals\n",
      "  \"Check mle_retvals\", ConvergenceWarning)\n"
     ]
    }
   ],
   "source": [
    "# Create dummy variables  \n",
    "def create_dummy_income(df):\n",
    "    category_vars= ['VisitorGroup', 'PlatformUsed', 'VisitSource',\n",
    "       'BrowserName', 'OSName', 'Gender']\n",
    "    df = pd.get_dummies(df, columns = category_vars, drop_first = True)\n",
    "    return df\n",
    "   \n",
    "def logistic_model(df):    \n",
    "    df = create_dummy_income(df)\n",
    "    print(df.columns)\n",
    "    logr = LogisticRegression()\n",
    "    X = df.iloc[:,1:].values\n",
    "    y = df.iloc[:,0].values\n",
    "    X_train, X_test, y_train, y_test = train_test_split(X, y, test_size = .3, random_state = 30)\n",
    "    logr.fit(X_train,y_train)\n",
    "    y_pred_test = logr.predict(X_test)\n",
    "    y_pred_train = logr.predict(X_train)\n",
    "    coefs = logr.coef_\n",
    "    intercept = logr.intercept_        \n",
    "    log_reg = sm.Logit(y_train, X_train)\n",
    "    clf = log_reg.fit()\n",
    "    column_names = list(df.columns)\n",
    "    summary = clf.summary(xname = column_names[1:])\n",
    "    #odd ratios only  \n",
    "    print(summary)\n",
    "    print(np.exp(clf.params))\n",
    "\n",
    "logistic_model(High_income)\n",
    "# Clicked Banner 6\n",
    "# Addded to Basket 7"
   ]
  },
  {
   "cell_type": "code",
   "execution_count": 167,
   "metadata": {},
   "outputs": [],
   "source": [
    "# With High-income people, Clicked to Banner is not useful in predicting whether they will purchase or not\n",
    "# It will actuall decrease the odd of purchase by 0.9 ( decrease)\n",
    "# Among high-income people, GENDER is not useful in explaining whether you will buy or not\n",
    "# if you are male, the odd that purchase is 1.0165 higher than a woman\n",
    "# Among High income people, if you are using Web, the odd that you purchase is 1.2 higher compared to using phone \n",
    "# Among High income people, if come from Email, the odd that you purchase is 1.886 higher compared to from Thirparty, \n",
    "# and 2.77 higher compared to Web search  \n",
    "# Profile of the money maker: Male, use Web, come from Email, High Income"
   ]
  },
  {
   "cell_type": "code",
   "execution_count": 16,
   "metadata": {
    "scrolled": true
   },
   "outputs": [
    {
     "name": "stdout",
     "output_type": "stream",
     "text": [
      "Index(['Purchased', 'ViewedProductInVisit', 'ViewedSaleInVisit',\n",
      "       'TotalPageViews', 'PlacedSearch', 'SecondsOnSite', 'ClickedBanner',\n",
      "       'VisitorGroup_Prior Visitor',\n",
      "       'VisitorGroup_Prior Visitor with Purchase', 'PlatformUsed_Web',\n",
      "       'VisitSource_ThirdPartyAds', 'VisitSource_WebSearch',\n",
      "       'BrowserName_Microsoft Edge', 'BrowserName_Safari', 'OSName_Chrome OS',\n",
      "       'OSName_Linux', 'OSName_Mac OS X', 'OSName_Other/Unknown',\n",
      "       'OSName_Windows', 'OSName_iOS', 'Gender_Male', 'Gender_Unknown'],\n",
      "      dtype='object')\n"
     ]
    },
    {
     "name": "stderr",
     "output_type": "stream",
     "text": [
      "C:\\Users\\gradadm09\\AppData\\Local\\Continuum\\anaconda3\\lib\\site-packages\\sklearn\\linear_model\\logistic.py:433: FutureWarning: Default solver will be changed to 'lbfgs' in 0.22. Specify a solver to silence this warning.\n",
      "  FutureWarning)\n"
     ]
    },
    {
     "name": "stdout",
     "output_type": "stream",
     "text": [
      "Warning: Maximum number of iterations has been exceeded.\n",
      "         Current function value: 0.210371\n",
      "         Iterations: 35\n",
      "                           Logit Regression Results                           \n",
      "==============================================================================\n",
      "Dep. Variable:                      y   No. Observations:               105770\n",
      "Model:                          Logit   Df Residuals:                   105749\n",
      "Method:                           MLE   Df Model:                           20\n",
      "Date:                Sun, 03 Mar 2019   Pseudo R-squ.:                  0.1055\n",
      "Time:                        08:48:36   Log-Likelihood:                -22251.\n",
      "converged:                      False   LL-Null:                       -24875.\n",
      "                                        LLR p-value:                     0.000\n",
      "============================================================================================================\n",
      "                                               coef    std err          z      P>|z|      [0.025      0.975]\n",
      "------------------------------------------------------------------------------------------------------------\n",
      "ViewedProductInVisit                         0.9222      0.037     25.215      0.000       0.850       0.994\n",
      "ViewedSaleInVisit                           -0.1382      0.033     -4.170      0.000      -0.203      -0.073\n",
      "TotalPageViews                               0.0126      0.000     32.530      0.000       0.012       0.013\n",
      "PlacedSearch                                 0.0855      0.028      3.089      0.002       0.031       0.140\n",
      "SecondsOnSite                             1.917e-05   2.95e-06      6.500      0.000    1.34e-05     2.5e-05\n",
      "ClickedBanner                               -0.2101      0.060     -3.526      0.000      -0.327      -0.093\n",
      "VisitorGroup_Prior Visitor                  -2.0767      0.051    -41.120      0.000      -2.176      -1.978\n",
      "VisitorGroup_Prior Visitor with Purchase    -3.1417      0.036    -87.901      0.000      -3.212      -3.072\n",
      "PlatformUsed_Web                             0.1844      0.049      3.760      0.000       0.088       0.280\n",
      "VisitSource_ThirdPartyAds                   -0.9077      0.034    -26.505      0.000      -0.975      -0.841\n",
      "VisitSource_WebSearch                       -1.1216      0.032    -35.185      0.000      -1.184      -1.059\n",
      "BrowserName_Microsoft Edge                  -0.1363      0.063     -2.176      0.030      -0.259      -0.014\n",
      "BrowserName_Safari                          -0.2998      0.057     -5.278      0.000      -0.411      -0.188\n",
      "OSName_Chrome OS                            -0.2791      0.158     -1.772      0.076      -0.588       0.030\n",
      "OSName_Linux                                -0.4722      0.557     -0.847      0.397      -1.565       0.620\n",
      "OSName_Mac OS X                              0.0808      0.072      1.129      0.259      -0.060       0.221\n",
      "OSName_Other/Unknown                       -16.0905   4540.034     -0.004      0.997   -8914.394    8882.214\n",
      "OSName_Windows                              -0.1580      0.062     -2.569      0.010      -0.279      -0.037\n",
      "OSName_iOS                                  -0.2783      0.066     -4.207      0.000      -0.408      -0.149\n",
      "Gender_Male                                  0.0140      0.033      0.420      0.675      -0.051       0.079\n",
      "Gender_Unknown                              -0.1542      0.049     -3.135      0.002      -0.251      -0.058\n",
      "============================================================================================================\n",
      "[2.51472212e+00 8.70950536e-01 1.01269689e+00 1.08925802e+00\n",
      " 1.00001917e+00 8.10489590e-01 1.25345296e-01 4.32072836e-02\n",
      " 1.20243963e+00 4.03462606e-01 3.25757168e-01 8.72558200e-01\n",
      " 7.40970709e-01 7.56440222e-01 6.23627080e-01 1.08417639e+00\n",
      " 1.02803081e-07 8.53830312e-01 7.57056135e-01 1.01409263e+00\n",
      " 8.57067731e-01]\n"
     ]
    },
    {
     "name": "stderr",
     "output_type": "stream",
     "text": [
      "C:\\Users\\gradadm09\\AppData\\Local\\Continuum\\anaconda3\\lib\\site-packages\\statsmodels\\base\\model.py:508: ConvergenceWarning: Maximum Likelihood optimization failed to converge. Check mle_retvals\n",
      "  \"Check mle_retvals\", ConvergenceWarning)\n"
     ]
    }
   ],
   "source": [
    "logistic_model(Med_income)"
   ]
  },
  {
   "cell_type": "code",
   "execution_count": 156,
   "metadata": {},
   "outputs": [],
   "source": [
    "# With Med income people, the Clicked to Banner  is useful in explaining model\n",
    "# Clicking rate increased the odd of purchase by 0.81 ( decrease)\n",
    "# Among Med income people,gender does not matter\n",
    "# Among Med income people, Web is useful in explaining whether you will purchase or not\n",
    "# if you are using Web, the odd that you purchase is 1.2 higher compared to using phone "
   ]
  },
  {
   "cell_type": "code",
   "execution_count": 39,
   "metadata": {},
   "outputs": [
    {
     "name": "stdout",
     "output_type": "stream",
     "text": [
      "Index(['Purchased', 'ViewedProductInVisit', 'ViewedSaleInVisit',\n",
      "       'TotalPageViews', 'PlacedSearch', 'SecondsOnSite', 'ClickedBanner',\n",
      "       'VisitorGroup_Prior Visitor',\n",
      "       'VisitorGroup_Prior Visitor with Purchase', 'PlatformUsed_Web',\n",
      "       'VisitSource_ThirdPartyAds', 'VisitSource_WebSearch',\n",
      "       'BrowserName_Microsoft Edge', 'BrowserName_Safari', 'OSName_Chrome OS',\n",
      "       'OSName_Linux', 'OSName_Mac OS X', 'OSName_Other/Unknown',\n",
      "       'OSName_Windows', 'OSName_iOS', 'Gender_Male', 'Gender_Unknown'],\n",
      "      dtype='object')\n"
     ]
    },
    {
     "name": "stderr",
     "output_type": "stream",
     "text": [
      "C:\\Users\\gradadm09\\AppData\\Local\\Continuum\\anaconda3\\lib\\site-packages\\sklearn\\linear_model\\logistic.py:433: FutureWarning: Default solver will be changed to 'lbfgs' in 0.22. Specify a solver to silence this warning.\n",
      "  FutureWarning)\n"
     ]
    },
    {
     "name": "stdout",
     "output_type": "stream",
     "text": [
      "Warning: Maximum number of iterations has been exceeded.\n",
      "         Current function value: 0.213358\n",
      "         Iterations: 35\n",
      "                           Logit Regression Results                           \n",
      "==============================================================================\n",
      "Dep. Variable:                      y   No. Observations:                52343\n",
      "Model:                          Logit   Df Residuals:                    52322\n",
      "Method:                           MLE   Df Model:                           20\n",
      "Date:                Sun, 03 Mar 2019   Pseudo R-squ.:                 0.09272\n",
      "Time:                        09:47:20   Log-Likelihood:                -11168.\n",
      "converged:                      False   LL-Null:                       -12309.\n",
      "                                        LLR p-value:                     0.000\n",
      "============================================================================================================\n",
      "                                               coef    std err          z      P>|z|      [0.025      0.975]\n",
      "------------------------------------------------------------------------------------------------------------\n",
      "ViewedProductInVisit                         0.9172      0.050     18.403      0.000       0.820       1.015\n",
      "ViewedSaleInVisit                           -0.0150      0.045     -0.336      0.737      -0.102       0.072\n",
      "TotalPageViews                               0.0110      0.001     20.694      0.000       0.010       0.012\n",
      "PlacedSearch                                 0.1528      0.039      3.926      0.000       0.076       0.229\n",
      "SecondsOnSite                             8.243e-06   4.19e-06      1.967      0.049    2.93e-08    1.65e-05\n",
      "ClickedBanner                               -0.2864      0.082     -3.487      0.000      -0.447      -0.125\n",
      "VisitorGroup_Prior Visitor                  -2.1207      0.068    -31.144      0.000      -2.254      -1.987\n",
      "VisitorGroup_Prior Visitor with Purchase    -3.1521      0.046    -67.815      0.000      -3.243      -3.061\n",
      "PlatformUsed_Web                             0.1274      0.075      1.692      0.091      -0.020       0.275\n",
      "VisitSource_ThirdPartyAds                   -0.8983      0.048    -18.856      0.000      -0.992      -0.805\n",
      "VisitSource_WebSearch                       -1.1554      0.045    -25.579      0.000      -1.244      -1.067\n",
      "BrowserName_Microsoft Edge                  -0.2298      0.092     -2.510      0.012      -0.409      -0.050\n",
      "BrowserName_Safari                          -0.2937      0.091     -3.225      0.001      -0.472      -0.115\n",
      "OSName_Chrome OS                            -0.0852      0.203     -0.419      0.675      -0.484       0.313\n",
      "OSName_Linux                                -1.5482      1.072     -1.444      0.149      -3.650       0.553\n",
      "OSName_Mac OS X                              0.1219      0.108      1.125      0.261      -0.091       0.334\n",
      "OSName_Other/Unknown                       -14.7958   2579.986     -0.006      0.995   -5071.475    5041.883\n",
      "OSName_Windows                              -0.1278      0.090     -1.413      0.158      -0.305       0.050\n",
      "OSName_iOS                                  -0.1856      0.101     -1.845      0.065      -0.383       0.012\n",
      "Gender_Male                                 -0.0404      0.049     -0.819      0.413      -0.137       0.056\n",
      "Gender_Unknown                              -0.2176      0.065     -3.334      0.001      -0.345      -0.090\n",
      "============================================================================================================\n",
      "[2.50231059e+00 9.85142908e-01 1.01109342e+00 1.16503483e+00\n",
      " 1.00000824e+00 7.50940346e-01 1.19947170e-01 4.27632004e-02\n",
      " 1.13585193e+00 4.07250137e-01 3.14916545e-01 7.94721249e-01\n",
      " 7.45506931e-01 9.18370444e-01 2.12635367e-01 1.12966476e+00\n",
      " 3.75186636e-07 8.80012732e-01 8.30587349e-01 9.60372835e-01\n",
      " 8.04466046e-01]\n"
     ]
    },
    {
     "name": "stderr",
     "output_type": "stream",
     "text": [
      "C:\\Users\\gradadm09\\AppData\\Local\\Continuum\\anaconda3\\lib\\site-packages\\statsmodels\\base\\model.py:508: ConvergenceWarning: Maximum Likelihood optimization failed to converge. Check mle_retvals\n",
      "  \"Check mle_retvals\", ConvergenceWarning)\n"
     ]
    }
   ],
   "source": [
    "logistic_model(Low_income)"
   ]
  },
  {
   "cell_type": "code",
   "execution_count": 18,
   "metadata": {},
   "outputs": [],
   "source": [
    "# With low income people, ViewedSaleinVisit, Seconds on Site, whether they use Web or not, Gender, any OS \n",
    "# are not useful in explaining whether they will purchase or not\n",
    "# With low income people, the Clicked Banner rate increase the odd of purchase by 0.75 ( decrease)\n",
    "# Among Low income people, if you are male, the odd that you purchase is 0.960 compared to women ( lower than women) \n",
    "# Among Low income people, if you are using Web, the odd that you purchase is 1.136 compared to using phone "
   ]
  },
  {
   "cell_type": "code",
   "execution_count": null,
   "metadata": {},
   "outputs": [],
   "source": []
  },
  {
   "cell_type": "code",
   "execution_count": null,
   "metadata": {},
   "outputs": [],
   "source": []
  },
  {
   "cell_type": "code",
   "execution_count": 19,
   "metadata": {},
   "outputs": [
    {
     "data": {
      "text/plain": [
       "<matplotlib.axes._subplots.AxesSubplot at 0x18e2dc35c50>"
      ]
     },
     "execution_count": 19,
     "metadata": {},
     "output_type": "execute_result"
    },
    {
     "data": {
      "image/png": "[encoded data removed]",
      "text/plain": [
       "<Figure size 432x288 with 1 Axes>"
      ]
     },
     "metadata": {
      "needs_background": "light"
     },
     "output_type": "display_data"
    }
   ],
   "source": [
    "# Assume Viewed Sales meaning more interested in Sales\n",
    "sns.countplot(x = 'ViewedSaleInVisit', data = data_income, hue = 'IncomeRange', palette = 'hls')"
   ]
  },
  {
   "cell_type": "code",
   "execution_count": 21,
   "metadata": {},
   "outputs": [
    {
     "data": {
      "text/plain": [
       "<matplotlib.axes._subplots.AxesSubplot at 0x18e2dd1d550>"
      ]
     },
     "execution_count": 21,
     "metadata": {},
     "output_type": "execute_result"
    },
    {
     "data": {
      "image/png": "[encoded data removed]",
      "text/plain": [
       "<Figure size 432x288 with 1 Axes>"
      ]
     },
     "metadata": {
      "needs_background": "light"
     },
     "output_type": "display_data"
    }
   ],
   "source": [
    "sns.barplot( x = 'IncomeRange', y = 'ViewedSaleInVisit',data = data_income, palette = 'hls')\n",
    "# Low income people are more intested in Sales bc they have higher rate of viewing Sales \n",
    "#( high-income:16.5, Med income: 18.5, low income: 20%"
   ]
  },
  {
   "cell_type": "code",
   "execution_count": 24,
   "metadata": {},
   "outputs": [
    {
     "data": {
      "text/plain": [
       "<matplotlib.axes._subplots.AxesSubplot at 0x18e2f50f5c0>"
      ]
     },
     "execution_count": 24,
     "metadata": {},
     "output_type": "execute_result"
    },
    {
     "data": {
      "image/png": "[encoded data removed]",
      "text/plain": [
       "<Figure size 432x288 with 1 Axes>"
      ]
     },
     "metadata": {
      "needs_background": "light"
     },
     "output_type": "display_data"
    }
   ],
   "source": [
    " sns.barplot( x = 'IncomeRange', y = 'ClickedBanner',data = data_income, palette = 'hls')\n",
    "# Low income people are more likely to Click on the Banner (high-income:5.2%, Med income:5.5%, low income: 6% )\n",
    "# This means the offer sales and using Banner will work better with low income people"
   ]
  },
  {
   "cell_type": "code",
   "execution_count": 25,
   "metadata": {
    "scrolled": true
   },
   "outputs": [
    {
     "data": {
      "text/plain": [
       "<matplotlib.axes._subplots.AxesSubplot at 0x18e2f562470>"
      ]
     },
     "execution_count": 25,
     "metadata": {},
     "output_type": "execute_result"
    },
    {
     "data": {
      "image/png": "[encoded data removed]",
      "text/plain": [
       "<Figure size 432x288 with 1 Axes>"
      ]
     },
     "metadata": {
      "needs_background": "light"
     },
     "output_type": "display_data"
    }
   ],
   "source": [
    "sns.barplot( x = 'PlatformUsed', y = 'ClickedBanner',data = data, palette = 'hls')\n",
    "# People Click more when they are on the Web ( 5% Web vs. 4.1 % Phone)"
   ]
  },
  {
   "cell_type": "code",
   "execution_count": null,
   "metadata": {
    "scrolled": true
   },
   "outputs": [],
   "source": [
    "#sns.barplot( x = 'PlatformUsed', y = 'AddedToBasket',data = data, palette = 'hls')\n",
    "# Among all people, people Add to Basket almost at the same rate when they are on the phone and on the web, both 14.2 %"
   ]
  },
  {
   "cell_type": "code",
   "execution_count": 29,
   "metadata": {},
   "outputs": [
    {
     "data": {
      "text/plain": [
       "<matplotlib.axes._subplots.AxesSubplot at 0x18e2f5b3eb8>"
      ]
     },
     "execution_count": 29,
     "metadata": {},
     "output_type": "execute_result"
    },
    {
     "data": {
      "image/png": "[encoded data removed]",
      "text/plain": [
       "<Figure size 432x288 with 1 Axes>"
      ]
     },
     "metadata": {
      "needs_background": "light"
     },
     "output_type": "display_data"
    }
   ],
   "source": [
    "sns.barplot( x = 'PlatformUsed', y = 'Purchased',data = data, palette = 'hls')\n",
    "# Among all people, people buy a lot more when they are on the Web( 3.2 %) compared to when they are on the phone (1.9%)\n",
    "# same add to basket rate, but much lower purchase rate"
   ]
  },
  {
   "cell_type": "code",
   "execution_count": 31,
   "metadata": {},
   "outputs": [
    {
     "data": {
      "text/plain": [
       "<matplotlib.axes._subplots.AxesSubplot at 0x18e2f77ffd0>"
      ]
     },
     "execution_count": 31,
     "metadata": {},
     "output_type": "execute_result"
    },
    {
     "data": {
      "image/png": "[encoded data removed]",
      "text/plain": [
       "<Figure size 432x288 with 1 Axes>"
      ]
     },
     "metadata": {
      "needs_background": "light"
     },
     "output_type": "display_data"
    }
   ],
   "source": [
    "sns.barplot( x = 'Gender', y = 'Purchased',data = data, palette = 'hls')\n",
    "# Among all, people purchase more when they are Male, 0.055 vs 0.07 ( 5.5% vs 7.1%)"
   ]
  },
  {
   "cell_type": "code",
   "execution_count": 32,
   "metadata": {},
   "outputs": [
    {
     "data": {
      "text/plain": [
       "Index(['Purchased', 'VisitorGroup', 'PlatformUsed', 'VisitSource',\n",
       "       'BrowserName', 'OSName', 'Gender', 'IncomeRange',\n",
       "       'ViewedProductInVisit', 'ViewedSaleInVisit', 'TotalPageViews',\n",
       "       'PlacedSearch', 'SecondsOnSite', 'ClickedBanner'],\n",
       "      dtype='object')"
      ]
     },
     "execution_count": 32,
     "metadata": {},
     "output_type": "execute_result"
    }
   ],
   "source": [
    "data_income.columns"
   ]
  },
  {
   "cell_type": "code",
   "execution_count": null,
   "metadata": {},
   "outputs": [],
   "source": []
  },
  {
   "cell_type": "code",
   "execution_count": 33,
   "metadata": {},
   "outputs": [],
   "source": [
    "# Split data set into phone user and web user\n",
    "phone_user = data[data['PlatformUsed'] == 'Phone']\n",
    "web_user = data[data['PlatformUsed'] == 'Web']"
   ]
  },
  {
   "cell_type": "code",
   "execution_count": 34,
   "metadata": {},
   "outputs": [
    {
     "data": {
      "text/plain": [
       "<matplotlib.axes._subplots.AxesSubplot at 0x18e2f7c6898>"
      ]
     },
     "execution_count": 34,
     "metadata": {},
     "output_type": "execute_result"
    },
    {
     "data": {
      "image/png": "[encoded data removed]",
      "text/plain": [
       "<Figure size 432x288 with 1 Axes>"
      ]
     },
     "metadata": {
      "needs_background": "light"
     },
     "output_type": "display_data"
    }
   ],
   "source": [
    "sns.barplot( x = 'Gender', y = 'Purchased',data = phone_user , palette = 'hls')\n",
    "# Among all phone users, male purchase slightly more than women (0.054 vs. 0.047) or 5.4% vs 4.7%"
   ]
  },
  {
   "cell_type": "code",
   "execution_count": 133,
   "metadata": {},
   "outputs": [
    {
     "data": {
      "text/plain": [
       "<matplotlib.axes._subplots.AxesSubplot at 0x21783fa90b8>"
      ]
     },
     "execution_count": 133,
     "metadata": {},
     "output_type": "execute_result"
    },
    {
     "data": {
      "image/png": "[encoded data removed]",
      "text/plain": [
       "<Figure size 432x288 with 1 Axes>"
      ]
     },
     "metadata": {},
     "output_type": "display_data"
    }
   ],
   "source": [
    "sns.barplot( x = 'Gender', y = 'ClickedBanner',data = phone_user , palette = 'hls')\n",
    "# Among all phone users, male have the same click banner rate as women, 5%\n",
    "# Male purchase more if they are using phone, they have the same rate of clicking like women on the banner."
   ]
  },
  {
   "cell_type": "code",
   "execution_count": null,
   "metadata": {},
   "outputs": [],
   "source": []
  },
  {
   "cell_type": "code",
   "execution_count": 189,
   "metadata": {},
   "outputs": [],
   "source": [
    "#sns.barplot( x = 'Gender', y = 'ClickedBanner',data = web_user , palette = 'hls')\n",
    "# Among all web users, women click to banner more( 6.1%) while men click on banner less 5.1%\n",
    "# Male purchase more if they are using web, but they don't click Banner on the webas much as women.\n"
   ]
  },
  {
   "cell_type": "code",
   "execution_count": 188,
   "metadata": {},
   "outputs": [],
   "source": [
    "# sns.barplot( x = 'Gender', y = 'Purchased',data = web_user , palette = 'hls')\n",
    "# Male purchase more if they are using web 8.1% vs. 6.1% ( women)"
   ]
  },
  {
   "cell_type": "code",
   "execution_count": 35,
   "metadata": {},
   "outputs": [],
   "source": [
    "# Split by gender\n",
    "data_gender = data.dropna(axis = 0, subset = ['Gender'])\n",
    "male = data_gender[data_gender['Gender'] == 'Male'].drop(['Gender'], axis = 1)\n",
    "female = data_gender[data_gender['Gender'] == 'Female'].drop(['Gender'], axis =1)"
   ]
  },
  {
   "cell_type": "code",
   "execution_count": 36,
   "metadata": {},
   "outputs": [],
   "source": [
    "def create_dummy_gender(df):\n",
    "    category_vars= ['VisitorGroup', 'PlatformUsed', 'VisitSource','BrowserName', 'OSName','IncomeRange']\n",
    "    df = pd.get_dummies(df, columns = category_vars, drop_first = True)\n",
    "    return df\n",
    "    \n",
    "def logistic_model_gender(df):    \n",
    "    df = create_dummy_gender(df)\n",
    "    print(df.columns)\n",
    "    logr = LogisticRegression()\n",
    "    X = df.iloc[:,1:].values\n",
    "    y = df.iloc[:,0].values\n",
    "    X_train, X_test, y_train, y_test = train_test_split(X, y, test_size = .3, random_state = 30)\n",
    "    logr.fit(X_train,y_train)\n",
    "    y_pred_test = logr.predict(X_test)\n",
    "    y_pred_train = logr.predict(X_train)\n",
    "    coefs = logr.coef_\n",
    "    intercept = logr.intercept_        \n",
    "    log_reg = sm.Logit(y_train, X_train)\n",
    "    clf = log_reg.fit()\n",
    "    column_names = list(df.columns)\n",
    "    summary = clf.summary(xname = column_names[1:])\n",
    "    #odd ratios only    \n",
    "    print(summary)\n",
    "    print(np.exp(clf.params))\n",
    "    "
   ]
  },
  {
   "cell_type": "code",
   "execution_count": 37,
   "metadata": {},
   "outputs": [
    {
     "name": "stdout",
     "output_type": "stream",
     "text": [
      "Index(['Purchased', 'ViewedProductInVisit', 'ViewedSaleInVisit',\n",
      "       'TotalPageViews', 'PlacedSearch', 'SecondsOnSite', 'ClickedBanner',\n",
      "       'VisitorGroup_Prior Visitor',\n",
      "       'VisitorGroup_Prior Visitor with Purchase', 'PlatformUsed_Web',\n",
      "       'VisitSource_ThirdPartyAds', 'VisitSource_WebSearch',\n",
      "       'BrowserName_Microsoft Edge', 'BrowserName_Safari', 'OSName_Chrome OS',\n",
      "       'OSName_Linux', 'OSName_Mac OS X', 'OSName_Other/Unknown',\n",
      "       'OSName_Windows', 'OSName_iOS', 'IncomeRange_50to100k',\n",
      "       'IncomeRange_Under50k'],\n",
      "      dtype='object')\n"
     ]
    },
    {
     "name": "stderr",
     "output_type": "stream",
     "text": [
      "C:\\Users\\gradadm09\\AppData\\Local\\Continuum\\anaconda3\\lib\\site-packages\\sklearn\\linear_model\\logistic.py:433: FutureWarning: Default solver will be changed to 'lbfgs' in 0.22. Specify a solver to silence this warning.\n",
      "  FutureWarning)\n"
     ]
    },
    {
     "name": "stdout",
     "output_type": "stream",
     "text": [
      "Warning: Maximum number of iterations has been exceeded.\n",
      "         Current function value: 0.230497\n",
      "         Iterations: 35\n",
      "                           Logit Regression Results                           \n",
      "==============================================================================\n",
      "Dep. Variable:                      y   No. Observations:                51075\n",
      "Model:                          Logit   Df Residuals:                    51054\n",
      "Method:                           MLE   Df Model:                           20\n",
      "Date:                Sun, 03 Mar 2019   Pseudo R-squ.:                  0.1051\n",
      "Time:                        09:22:00   Log-Likelihood:                -11773.\n",
      "converged:                      False   LL-Null:                       -13155.\n",
      "                                        LLR p-value:                     0.000\n",
      "============================================================================================================\n",
      "                                               coef    std err          z      P>|z|      [0.025      0.975]\n",
      "------------------------------------------------------------------------------------------------------------\n",
      "ViewedProductInVisit                         0.9012      0.047     19.095      0.000       0.809       0.994\n",
      "ViewedSaleInVisit                           -0.2027      0.048     -4.235      0.000      -0.297      -0.109\n",
      "TotalPageViews                               0.0132      0.001     23.217      0.000       0.012       0.014\n",
      "PlacedSearch                                 0.1340      0.037      3.589      0.000       0.061       0.207\n",
      "SecondsOnSite                             1.225e-05   4.18e-06      2.929      0.003    4.05e-06    2.05e-05\n",
      "ClickedBanner                               -0.0338      0.082     -0.412      0.680      -0.195       0.127\n",
      "VisitorGroup_Prior Visitor                  -1.6800      0.060    -28.006      0.000      -1.798      -1.562\n",
      "VisitorGroup_Prior Visitor with Purchase    -2.8852      0.046    -62.957      0.000      -2.975      -2.795\n",
      "PlatformUsed_Web                             0.3194      0.071      4.474      0.000       0.179       0.459\n",
      "VisitSource_ThirdPartyAds                   -0.9187      0.045    -20.314      0.000      -1.007      -0.830\n",
      "VisitSource_WebSearch                       -1.2995      0.044    -29.615      0.000      -1.385      -1.213\n",
      "BrowserName_Microsoft Edge                  -0.3699      0.084     -4.389      0.000      -0.535      -0.205\n",
      "BrowserName_Safari                          -0.3682      0.070     -5.231      0.000      -0.506      -0.230\n",
      "OSName_Chrome OS                            -0.4464      0.213     -2.098      0.036      -0.863      -0.029\n",
      "OSName_Linux                                -0.8397      0.777     -1.081      0.280      -2.362       0.683\n",
      "OSName_Mac OS X                             -0.0668      0.096     -0.697      0.486      -0.254       0.121\n",
      "OSName_Other/Unknown                       -18.2378   1.43e+04     -0.001      0.999   -2.81e+04    2.81e+04\n",
      "OSName_Windows                              -0.3511      0.086     -4.096      0.000      -0.519      -0.183\n",
      "OSName_iOS                                  -0.4052      0.086     -4.712      0.000      -0.574      -0.237\n",
      "IncomeRange_50to100k                        -0.1040      0.038     -2.722      0.006      -0.179      -0.029\n",
      "IncomeRange_Under50k                        -0.1797      0.050     -3.561      0.000      -0.279      -0.081\n",
      "============================================================================================================\n",
      "[2.46252466e+00 8.16512063e-01 1.01329396e+00 1.14339573e+00\n",
      " 1.00001225e+00 9.66744932e-01 1.86381180e-01 5.58417627e-02\n",
      " 1.37629677e+00 3.99045624e-01 2.72671329e-01 6.90828868e-01\n",
      " 6.92002565e-01 6.39921239e-01 4.31820223e-01 9.35405494e-01\n",
      " 1.20070115e-08 7.03939665e-01 6.66811140e-01 9.01270324e-01\n",
      " 8.35518674e-01]\n"
     ]
    },
    {
     "name": "stderr",
     "output_type": "stream",
     "text": [
      "C:\\Users\\gradadm09\\AppData\\Local\\Continuum\\anaconda3\\lib\\site-packages\\statsmodels\\base\\model.py:508: ConvergenceWarning: Maximum Likelihood optimization failed to converge. Check mle_retvals\n",
      "  \"Check mle_retvals\", ConvergenceWarning)\n"
     ]
    }
   ],
   "source": [
    "logistic_model_gender(male)\n",
    "# Among male, Clicking the Banner and Income Range 50to100k,  doesn't help explaning whether they purchase or not\n",
    "# There is a dif. between high income and low income. If one is high income, the odd to buy is 1.20 higher compared to those of low income\n",
    "# Which means Clicking banner doesn't matter to males\n",
    "# Among males, using Web, Windows or iOs explain whether they purchase or not"
   ]
  },
  {
   "cell_type": "code",
   "execution_count": 38,
   "metadata": {},
   "outputs": [
    {
     "name": "stdout",
     "output_type": "stream",
     "text": [
      "Index(['Purchased', 'ViewedProductInVisit', 'ViewedSaleInVisit',\n",
      "       'TotalPageViews', 'PlacedSearch', 'SecondsOnSite', 'ClickedBanner',\n",
      "       'VisitorGroup_Prior Visitor',\n",
      "       'VisitorGroup_Prior Visitor with Purchase', 'PlatformUsed_Web',\n",
      "       'VisitSource_ThirdPartyAds', 'VisitSource_WebSearch',\n",
      "       'BrowserName_Microsoft Edge', 'BrowserName_Safari', 'OSName_Chrome OS',\n",
      "       'OSName_Linux', 'OSName_Mac OS X', 'OSName_Other/Unknown',\n",
      "       'OSName_Windows', 'OSName_iOS', 'IncomeRange_50to100k',\n",
      "       'IncomeRange_Under50k'],\n",
      "      dtype='object')\n"
     ]
    },
    {
     "name": "stderr",
     "output_type": "stream",
     "text": [
      "C:\\Users\\gradadm09\\AppData\\Local\\Continuum\\anaconda3\\lib\\site-packages\\sklearn\\linear_model\\logistic.py:433: FutureWarning: Default solver will be changed to 'lbfgs' in 0.22. Specify a solver to silence this warning.\n",
      "  FutureWarning)\n"
     ]
    },
    {
     "name": "stdout",
     "output_type": "stream",
     "text": [
      "Optimization terminated successfully.\n",
      "         Current function value: 0.194091\n",
      "         Iterations 8\n",
      "                           Logit Regression Results                           \n",
      "==============================================================================\n",
      "Dep. Variable:                      y   No. Observations:               222230\n",
      "Model:                          Logit   Df Residuals:                   222209\n",
      "Method:                           MLE   Df Model:                           20\n",
      "Date:                Sun, 03 Mar 2019   Pseudo R-squ.:                 0.09144\n",
      "Time:                        09:35:48   Log-Likelihood:                -43133.\n",
      "converged:                       True   LL-Null:                       -47474.\n",
      "                                        LLR p-value:                     0.000\n",
      "============================================================================================================\n",
      "                                               coef    std err          z      P>|z|      [0.025      0.975]\n",
      "------------------------------------------------------------------------------------------------------------\n",
      "ViewedProductInVisit                         0.8934      0.026     33.754      0.000       0.842       0.945\n",
      "ViewedSaleInVisit                           -0.1190      0.024     -4.978      0.000      -0.166      -0.072\n",
      "TotalPageViews                               0.0117      0.000     42.099      0.000       0.011       0.012\n",
      "PlacedSearch                                 0.1507      0.020      7.465      0.000       0.111       0.190\n",
      "SecondsOnSite                              2.04e-05   2.16e-06      9.456      0.000    1.62e-05    2.46e-05\n",
      "ClickedBanner                               -0.1372      0.042     -3.265      0.001      -0.220      -0.055\n",
      "VisitorGroup_Prior Visitor                  -2.2768      0.039    -58.694      0.000      -2.353      -2.201\n",
      "VisitorGroup_Prior Visitor with Purchase    -3.1686      0.027   -116.567      0.000      -3.222      -3.115\n",
      "PlatformUsed_Web                             0.1590      0.034      4.647      0.000       0.092       0.226\n",
      "VisitSource_ThirdPartyAds                   -0.8901      0.024    -36.350      0.000      -0.938      -0.842\n",
      "VisitSource_WebSearch                       -1.1569      0.023    -50.299      0.000      -1.202      -1.112\n",
      "BrowserName_Microsoft Edge                  -0.1264      0.047     -2.664      0.008      -0.219      -0.033\n",
      "BrowserName_Safari                          -0.2586      0.041     -6.261      0.000      -0.340      -0.178\n",
      "OSName_Chrome OS                            -0.2717      0.118     -2.310      0.021      -0.502      -0.041\n",
      "OSName_Linux                                -0.8506      0.613     -1.388      0.165      -2.052       0.350\n",
      "OSName_Mac OS X                              0.0666      0.052      1.289      0.198      -0.035       0.168\n",
      "OSName_Other/Unknown                         0.1879      1.041      0.181      0.857      -1.852       2.228\n",
      "OSName_Windows                              -0.1308      0.044     -2.957      0.003      -0.218      -0.044\n",
      "OSName_iOS                                  -0.2704      0.048     -5.621      0.000      -0.365      -0.176\n",
      "IncomeRange_50to100k                        -0.1071      0.021     -5.142      0.000      -0.148      -0.066\n",
      "IncomeRange_Under50k                        -0.0985      0.026     -3.799      0.000      -0.149      -0.048\n",
      "============================================================================================================\n",
      "[2.44338046 0.88779335 1.01172752 1.16268088 1.0000204  0.87177507\n",
      " 0.10261186 0.0420636  1.17232634 0.41059533 0.3144625  0.8812728\n",
      " 0.77209827 0.76209488 0.4271425  1.06886214 1.20674565 0.87737782\n",
      " 0.76309469 0.89842419 0.90623644]\n"
     ]
    }
   ],
   "source": [
    "logistic_model_gender(female)"
   ]
  },
  {
   "cell_type": "code",
   "execution_count": null,
   "metadata": {},
   "outputs": [],
   "source": [
    "# If you are Female, Clicked to Banner does explain whether you purchase or not.\n",
    "# But clicked to Banner reduces the odd that you will purchase by 0.871 ( decrease)\n",
    "# If you are female, if you are high income, the odd of you buying is 1.113 higher compared to mid income\n",
    "# If you are female, if you are high income, the odd of you buying is 1.1 higher compared to low income\n"
   ]
  }
 ],
 "metadata": {
  "kernelspec": {
   "display_name": "Python 3",
   "language": "python",
   "name": "python3"
  },
  "language_info": {
   "codemirror_mode": {
    "name": "ipython",
    "version": 3
   },
   "file_extension": ".py",
   "mimetype": "text/x-python",
   "name": "python",
   "nbconvert_exporter": "python",
   "pygments_lexer": "ipython3",
   "version": "3.7.1"
  }
 },
 "nbformat": 4,
 "nbformat_minor": 2
}

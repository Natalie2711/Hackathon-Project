{
 "cells": [
  {
   "cell_type": "code",
   "execution_count": 1,
   "metadata": {},
   "outputs": [],
   "source": [
    "import pandas as pd\n",
    "import numpy as np\n",
    "import matplotlib.pyplot as plt\n",
    "import seaborn as sns\n",
    "sns.set(style = 'white')\n",
    "sns.set (style= 'whitegrid', color_codes = True)\n",
    "from sklearn.linear_model import LogisticRegression\n",
    "from sklearn.model_selection import train_test_split\n",
    "from sklearn.metrics import confusion_matrix\n",
    "from sklearn.metrics import classification_report"
   ]
  },
  {
   "cell_type": "code",
   "execution_count": 2,
   "metadata": {},
   "outputs": [],
   "source": [
    "data = pd.read_csv(r\"C:\\Users\\gradadm09\\Desktop\\Natalie\\Wayfair-Babson_HackathonData 2019.csv\")"
   ]
  },
  {
   "cell_type": "code",
   "execution_count": 4,
   "metadata": {},
   "outputs": [
    {
     "data": {
      "text/html": [
       "<div>\n",
       "<style scoped>\n",
       "    .dataframe tbody tr th:only-of-type {\n",
       "        vertical-align: middle;\n",
       "    }\n",
       "\n",
       "    .dataframe tbody tr th {\n",
       "        vertical-align: top;\n",
       "    }\n",
       "\n",
       "    .dataframe thead th {\n",
       "        text-align: right;\n",
       "    }\n",
       "</style>\n",
       "<table border=\"1\" class=\"dataframe\">\n",
       "  <thead>\n",
       "    <tr style=\"text-align: right;\">\n",
       "      <th></th>\n",
       "      <th>Purchased</th>\n",
       "      <th>VisitorGroup</th>\n",
       "      <th>PlatformUsed</th>\n",
       "      <th>VisitSource</th>\n",
       "      <th>BrowserName</th>\n",
       "      <th>OSName</th>\n",
       "      <th>Gender</th>\n",
       "      <th>IncomeRange</th>\n",
       "      <th>ViewedProductInVisit</th>\n",
       "      <th>ViewedSaleInVisit</th>\n",
       "      <th>TotalPageViews</th>\n",
       "      <th>PlacedSearch</th>\n",
       "      <th>SecondsOnSite</th>\n",
       "      <th>ClickedBanner</th>\n",
       "      <th>AddedToBasket</th>\n",
       "    </tr>\n",
       "  </thead>\n",
       "  <tbody>\n",
       "    <tr>\n",
       "      <th>0</th>\n",
       "      <td>0</td>\n",
       "      <td>Prior Visitor with Purchase</td>\n",
       "      <td>Web</td>\n",
       "      <td>ThirdPartyAds</td>\n",
       "      <td>Chrome</td>\n",
       "      <td>Mac OS X</td>\n",
       "      <td>Female</td>\n",
       "      <td>100to250k</td>\n",
       "      <td>0</td>\n",
       "      <td>0</td>\n",
       "      <td>1</td>\n",
       "      <td>0</td>\n",
       "      <td>0</td>\n",
       "      <td>0</td>\n",
       "      <td>0</td>\n",
       "    </tr>\n",
       "    <tr>\n",
       "      <th>1</th>\n",
       "      <td>0</td>\n",
       "      <td>New Visitor</td>\n",
       "      <td>Phone</td>\n",
       "      <td>WebSearch</td>\n",
       "      <td>Safari</td>\n",
       "      <td>iOS</td>\n",
       "      <td>NaN</td>\n",
       "      <td>NaN</td>\n",
       "      <td>1</td>\n",
       "      <td>0</td>\n",
       "      <td>9</td>\n",
       "      <td>0</td>\n",
       "      <td>230</td>\n",
       "      <td>0</td>\n",
       "      <td>0</td>\n",
       "    </tr>\n",
       "    <tr>\n",
       "      <th>2</th>\n",
       "      <td>0</td>\n",
       "      <td>New Visitor</td>\n",
       "      <td>Web</td>\n",
       "      <td>WebSearch</td>\n",
       "      <td>Chrome</td>\n",
       "      <td>Windows</td>\n",
       "      <td>NaN</td>\n",
       "      <td>NaN</td>\n",
       "      <td>0</td>\n",
       "      <td>0</td>\n",
       "      <td>28</td>\n",
       "      <td>0</td>\n",
       "      <td>10412</td>\n",
       "      <td>0</td>\n",
       "      <td>0</td>\n",
       "    </tr>\n",
       "    <tr>\n",
       "      <th>3</th>\n",
       "      <td>0</td>\n",
       "      <td>Prior Visitor with Purchase</td>\n",
       "      <td>Phone</td>\n",
       "      <td>EmailFromWayfair</td>\n",
       "      <td>Safari</td>\n",
       "      <td>iOS</td>\n",
       "      <td>Female</td>\n",
       "      <td>100to250k</td>\n",
       "      <td>1</td>\n",
       "      <td>1</td>\n",
       "      <td>8</td>\n",
       "      <td>1</td>\n",
       "      <td>430</td>\n",
       "      <td>0</td>\n",
       "      <td>0</td>\n",
       "    </tr>\n",
       "    <tr>\n",
       "      <th>4</th>\n",
       "      <td>0</td>\n",
       "      <td>New Visitor</td>\n",
       "      <td>Phone</td>\n",
       "      <td>ThirdPartyAds</td>\n",
       "      <td>Safari</td>\n",
       "      <td>iOS</td>\n",
       "      <td>NaN</td>\n",
       "      <td>NaN</td>\n",
       "      <td>1</td>\n",
       "      <td>1</td>\n",
       "      <td>9</td>\n",
       "      <td>0</td>\n",
       "      <td>1158</td>\n",
       "      <td>0</td>\n",
       "      <td>0</td>\n",
       "    </tr>\n",
       "  </tbody>\n",
       "</table>\n",
       "</div>"
      ],
      "text/plain": [
       "   Purchased                 VisitorGroup PlatformUsed       VisitSource  \\\n",
       "0          0  Prior Visitor with Purchase          Web     ThirdPartyAds   \n",
       "1          0                  New Visitor        Phone         WebSearch   \n",
       "2          0                  New Visitor          Web         WebSearch   \n",
       "3          0  Prior Visitor with Purchase        Phone  EmailFromWayfair   \n",
       "4          0                  New Visitor        Phone     ThirdPartyAds   \n",
       "\n",
       "  BrowserName    OSName  Gender IncomeRange  ViewedProductInVisit  \\\n",
       "0      Chrome  Mac OS X  Female   100to250k                     0   \n",
       "1      Safari       iOS     NaN         NaN                     1   \n",
       "2      Chrome   Windows     NaN         NaN                     0   \n",
       "3      Safari       iOS  Female   100to250k                     1   \n",
       "4      Safari       iOS     NaN         NaN                     1   \n",
       "\n",
       "   ViewedSaleInVisit  TotalPageViews  PlacedSearch  SecondsOnSite  \\\n",
       "0                  0               1             0              0   \n",
       "1                  0               9             0            230   \n",
       "2                  0              28             0          10412   \n",
       "3                  1               8             1            430   \n",
       "4                  1               9             0           1158   \n",
       "\n",
       "   ClickedBanner  AddedToBasket  \n",
       "0              0              0  \n",
       "1              0              0  \n",
       "2              0              0  \n",
       "3              0              0  \n",
       "4              0              0  "
      ]
     },
     "execution_count": 4,
     "metadata": {},
     "output_type": "execute_result"
    }
   ],
   "source": [
    "data_deleted = data.drop(['State','UniqueVisitID','VisitDate'],axis = 1)\n",
    "data_deleted.head()"
   ]
  },
  {
   "cell_type": "code",
   "execution_count": 193,
   "metadata": {},
   "outputs": [],
   "source": [
    "data_fillnan = data_deleted.fillna(method = 'ffill') # fill in the NaN using the row before the row with null value\n",
    "data_fillasunknown = data_deleted.fillna(\"Unknown\") # fill in the NaN using \"Unknown\"\n",
    "data_fillall = data_deleted.replace(\"Unknown\",np.nan).fillna(method = 'ffill') # replace \"Unknown\" using NaN, and fill in the NaN\n",
    "data_deletenan = data_deleted.dropna(axis = 0,how = 'any') # drop all rows with null value\n",
    "data_deleteall = data_deleted.replace(\"Unknown\",np.nan).dropna(axis = 0,how = 'any') # drop all rows with null value or \"Unknown\" value\n",
    "data_deleteage = data_deleted.drop(['Gender'],axis = 1) # drop Gender"
   ]
  },
  {
   "cell_type": "code",
   "execution_count": 9,
   "metadata": {},
   "outputs": [],
   "source": [
    "data_fill_as_unknown = data_deleted.fillna(\"Unknown\") # fill in the NaN using \"Unknown\""
   ]
  },
  {
   "cell_type": "code",
   "execution_count": 11,
   "metadata": {},
   "outputs": [
    {
     "data": {
      "text/html": [
       "<div>\n",
       "<style scoped>\n",
       "    .dataframe tbody tr th:only-of-type {\n",
       "        vertical-align: middle;\n",
       "    }\n",
       "\n",
       "    .dataframe tbody tr th {\n",
       "        vertical-align: top;\n",
       "    }\n",
       "\n",
       "    .dataframe thead th {\n",
       "        text-align: right;\n",
       "    }\n",
       "</style>\n",
       "<table border=\"1\" class=\"dataframe\">\n",
       "  <thead>\n",
       "    <tr style=\"text-align: right;\">\n",
       "      <th></th>\n",
       "      <th>Purchased</th>\n",
       "      <th>VisitorGroup</th>\n",
       "      <th>PlatformUsed</th>\n",
       "      <th>VisitSource</th>\n",
       "      <th>BrowserName</th>\n",
       "      <th>OSName</th>\n",
       "      <th>Gender</th>\n",
       "      <th>IncomeRange</th>\n",
       "      <th>ViewedProductInVisit</th>\n",
       "      <th>ViewedSaleInVisit</th>\n",
       "      <th>TotalPageViews</th>\n",
       "      <th>PlacedSearch</th>\n",
       "      <th>SecondsOnSite</th>\n",
       "      <th>ClickedBanner</th>\n",
       "      <th>AddedToBasket</th>\n",
       "    </tr>\n",
       "  </thead>\n",
       "  <tbody>\n",
       "    <tr>\n",
       "      <th>0</th>\n",
       "      <td>0</td>\n",
       "      <td>Prior Visitor with Purchase</td>\n",
       "      <td>Web</td>\n",
       "      <td>ThirdPartyAds</td>\n",
       "      <td>Chrome</td>\n",
       "      <td>Mac OS X</td>\n",
       "      <td>Female</td>\n",
       "      <td>100to250k</td>\n",
       "      <td>0</td>\n",
       "      <td>0</td>\n",
       "      <td>1</td>\n",
       "      <td>0</td>\n",
       "      <td>0</td>\n",
       "      <td>0</td>\n",
       "      <td>0</td>\n",
       "    </tr>\n",
       "    <tr>\n",
       "      <th>1</th>\n",
       "      <td>0</td>\n",
       "      <td>New Visitor</td>\n",
       "      <td>Phone</td>\n",
       "      <td>WebSearch</td>\n",
       "      <td>Safari</td>\n",
       "      <td>iOS</td>\n",
       "      <td>Unknown</td>\n",
       "      <td>Unknown</td>\n",
       "      <td>1</td>\n",
       "      <td>0</td>\n",
       "      <td>9</td>\n",
       "      <td>0</td>\n",
       "      <td>230</td>\n",
       "      <td>0</td>\n",
       "      <td>0</td>\n",
       "    </tr>\n",
       "    <tr>\n",
       "      <th>2</th>\n",
       "      <td>0</td>\n",
       "      <td>New Visitor</td>\n",
       "      <td>Web</td>\n",
       "      <td>WebSearch</td>\n",
       "      <td>Chrome</td>\n",
       "      <td>Windows</td>\n",
       "      <td>Unknown</td>\n",
       "      <td>Unknown</td>\n",
       "      <td>0</td>\n",
       "      <td>0</td>\n",
       "      <td>28</td>\n",
       "      <td>0</td>\n",
       "      <td>10412</td>\n",
       "      <td>0</td>\n",
       "      <td>0</td>\n",
       "    </tr>\n",
       "    <tr>\n",
       "      <th>3</th>\n",
       "      <td>0</td>\n",
       "      <td>Prior Visitor with Purchase</td>\n",
       "      <td>Phone</td>\n",
       "      <td>EmailFromWayfair</td>\n",
       "      <td>Safari</td>\n",
       "      <td>iOS</td>\n",
       "      <td>Female</td>\n",
       "      <td>100to250k</td>\n",
       "      <td>1</td>\n",
       "      <td>1</td>\n",
       "      <td>8</td>\n",
       "      <td>1</td>\n",
       "      <td>430</td>\n",
       "      <td>0</td>\n",
       "      <td>0</td>\n",
       "    </tr>\n",
       "    <tr>\n",
       "      <th>4</th>\n",
       "      <td>0</td>\n",
       "      <td>New Visitor</td>\n",
       "      <td>Phone</td>\n",
       "      <td>ThirdPartyAds</td>\n",
       "      <td>Safari</td>\n",
       "      <td>iOS</td>\n",
       "      <td>Unknown</td>\n",
       "      <td>Unknown</td>\n",
       "      <td>1</td>\n",
       "      <td>1</td>\n",
       "      <td>9</td>\n",
       "      <td>0</td>\n",
       "      <td>1158</td>\n",
       "      <td>0</td>\n",
       "      <td>0</td>\n",
       "    </tr>\n",
       "  </tbody>\n",
       "</table>\n",
       "</div>"
      ],
      "text/plain": [
       "   Purchased                 VisitorGroup PlatformUsed       VisitSource  \\\n",
       "0          0  Prior Visitor with Purchase          Web     ThirdPartyAds   \n",
       "1          0                  New Visitor        Phone         WebSearch   \n",
       "2          0                  New Visitor          Web         WebSearch   \n",
       "3          0  Prior Visitor with Purchase        Phone  EmailFromWayfair   \n",
       "4          0                  New Visitor        Phone     ThirdPartyAds   \n",
       "\n",
       "  BrowserName    OSName   Gender IncomeRange  ViewedProductInVisit  \\\n",
       "0      Chrome  Mac OS X   Female   100to250k                     0   \n",
       "1      Safari       iOS  Unknown     Unknown                     1   \n",
       "2      Chrome   Windows  Unknown     Unknown                     0   \n",
       "3      Safari       iOS   Female   100to250k                     1   \n",
       "4      Safari       iOS  Unknown     Unknown                     1   \n",
       "\n",
       "   ViewedSaleInVisit  TotalPageViews  PlacedSearch  SecondsOnSite  \\\n",
       "0                  0               1             0              0   \n",
       "1                  0               9             0            230   \n",
       "2                  0              28             0          10412   \n",
       "3                  1               8             1            430   \n",
       "4                  1               9             0           1158   \n",
       "\n",
       "   ClickedBanner  AddedToBasket  \n",
       "0              0              0  \n",
       "1              0              0  \n",
       "2              0              0  \n",
       "3              0              0  \n",
       "4              0              0  "
      ]
     },
     "execution_count": 11,
     "metadata": {},
     "output_type": "execute_result"
    }
   ],
   "source": [
    "data = data_fill_as_unknown\n",
    "data.head()"
   ]
  },
  {
   "cell_type": "code",
   "execution_count": 170,
   "metadata": {},
   "outputs": [],
   "source": [
    "#data.isnull().sum()"
   ]
  },
  {
   "cell_type": "code",
   "execution_count": 195,
   "metadata": {},
   "outputs": [],
   "source": [
    "data_income = data.dropna(axis = 0, subset=['IncomeRange'])"
   ]
  },
  {
   "cell_type": "code",
   "execution_count": 171,
   "metadata": {},
   "outputs": [],
   "source": [
    "#sns.countplot( x = 'IncomeRange', data = data_income, palette = 'hls')"
   ]
  },
  {
   "cell_type": "code",
   "execution_count": 62,
   "metadata": {},
   "outputs": [],
   "source": [
    "# Divide data set into 3 groups\n",
    "income_group = ['High_income','Med_income','Low_income']\n",
    "\n",
    "High_income = data_income[data_income['IncomeRange'] == '100to250k'].drop(['IncomeRange'],axis = 1)\n",
    "Med_income = data_income[data_income['IncomeRange'] == '50to100k'].drop(['IncomeRange'],axis = 1)\n",
    "Low_income = data_income[data_income['IncomeRange'] == 'Under50k'].drop(['IncomeRange'],axis = 1)"
   ]
  },
  {
   "cell_type": "code",
   "execution_count": 63,
   "metadata": {},
   "outputs": [],
   "source": [
    "#  Analyze price sensitivity of each data set"
   ]
  },
  {
   "cell_type": "code",
   "execution_count": null,
   "metadata": {},
   "outputs": [],
   "source": []
  },
  {
   "cell_type": "code",
   "execution_count": 69,
   "metadata": {},
   "outputs": [],
   "source": [
    "from sklearn.linear_model import LogisticRegression\n",
    "from sklearn.model_selection import train_test_split\n",
    "from sklearn.metrics import confusion_matrix\n",
    "from sklearn.metrics import classification_report\n",
    "from sklearn.linear_model import LogisticRegression\n",
    "from sklearn.tree import DecisionTreeClassifier\n",
    "from sklearn.ensemble import RandomForestClassifier\n",
    "import statsmodels.api as sm"
   ]
  },
  {
   "cell_type": "code",
   "execution_count": 172,
   "metadata": {},
   "outputs": [],
   "source": [
    "# Create dummy variables  \n",
    "def create_dummy_income(df):\n",
    "    category_vars= ['VisitorGroup', 'PlatformUsed', 'VisitSource',\n",
    "       'BrowserName', 'OSName', 'Gender']\n",
    "    df = pd.get_dummies(df, columns = category_vars, drop_first = True)\n",
    "    return df\n",
    "   \n",
    "def logistic_model(df):    \n",
    "    df = create_dummy_income(df)\n",
    "    print(df.columns)\n",
    "    logr = LogisticRegression()\n",
    "    X = df.iloc[:,1:].values\n",
    "    y = df.iloc[:,0].values\n",
    "    X_train, X_test, y_train, y_test = train_test_split(X, y, test_size = .3, random_state = 30)\n",
    "    logr.fit(X_train,y_train)\n",
    "    y_pred_test = logr.predict(X_test)\n",
    "    y_pred_train = logr.predict(X_train)\n",
    "    coefs = logr.coef_\n",
    "    intercept = logr.intercept_        \n",
    "    log_reg = sm.Logit(y_train, X_train)\n",
    "    clf = log_reg.fit()\n",
    "    column_names = list(df.columns)\n",
    "    summary = clf.summary(xname = column_names[1:])\n",
    "    #odd ratios only  \n",
    "    print(summary)\n",
    "    print(np.exp(clf.params))\n",
    "\n",
    "#logistic_model(High_income)\n",
    "# Clicked Banner 6\n",
    "# Addded to Basket 7"
   ]
  },
  {
   "cell_type": "code",
   "execution_count": 167,
   "metadata": {},
   "outputs": [],
   "source": [
    "# With High-income people, Clicked to Banner increase the odd of purchase by 0.828 ( decrease)\n",
    "# Among high-income people, if you are male, the odd that purchase is 1.06 higher than a woman\n",
    "# Among High income people, if you are using Web, the odd that you purchase is 1.334 higher compared to using phone \n",
    "# Among High income people, if come from Email, the odd that you purchase is 1.869 higher compared to from Thirparty, \n",
    "# and 2.38 higher compared to Web search  \n",
    "# Profile of the money maker: Male, use Web, come from Email, High Income"
   ]
  },
  {
   "cell_type": "code",
   "execution_count": 173,
   "metadata": {
    "scrolled": true
   },
   "outputs": [],
   "source": [
    "#logistic_model(Med_income)"
   ]
  },
  {
   "cell_type": "code",
   "execution_count": 156,
   "metadata": {},
   "outputs": [],
   "source": [
    "# With Med income people, the Clicked to Banner rate increased the odd of purchase by 0.742\n",
    "# Among Med income people, if you are male, the odd that you purchase is 1.03 higher than women \n",
    "# Among Med income people, if you are using Web, the odd that you purchase is 1.370 compared to using phone "
   ]
  },
  {
   "cell_type": "code",
   "execution_count": 174,
   "metadata": {},
   "outputs": [],
   "source": [
    "#logistic_model(Low_income)"
   ]
  },
  {
   "cell_type": "code",
   "execution_count": null,
   "metadata": {},
   "outputs": [],
   "source": [
    "# With low income people, the Clicked Banner rate increase the odd of purchase by 0.695 ( decrease)\n",
    "# Among Low income people, if you are male, the odd that you purchase is 0.956 compared to women ( lower than women) \n",
    "# Among Low income people, if you are using Web, the odd that you purchase is 1.334 compared to using phone "
   ]
  },
  {
   "cell_type": "code",
   "execution_count": null,
   "metadata": {},
   "outputs": [],
   "source": []
  },
  {
   "cell_type": "code",
   "execution_count": null,
   "metadata": {},
   "outputs": [],
   "source": []
  },
  {
   "cell_type": "code",
   "execution_count": 175,
   "metadata": {},
   "outputs": [],
   "source": [
    "# Assume Viewed Sales meaning more interested in Sales\n",
    "#sns.countplot(x = 'ViewedSaleInVisit', data = data_income, hue = 'IncomeRange', palette = 'hls')"
   ]
  },
  {
   "cell_type": "code",
   "execution_count": 176,
   "metadata": {},
   "outputs": [],
   "source": [
    "# sns.barplot( x = 'IncomeRange', y = 'ViewedSaleInVisit',data = data_income, palette = 'hls')\n",
    "# Low income people are more intested in Sales"
   ]
  },
  {
   "cell_type": "code",
   "execution_count": 177,
   "metadata": {},
   "outputs": [],
   "source": [
    "# sns.barplot( x = 'IncomeRange', y = 'ClickedBanner',data = data_income, palette = 'hls')\n",
    "# Low income people are more likely to Click on the Banner\n",
    "# This means the Banner will work better with low income people"
   ]
  },
  {
   "cell_type": "code",
   "execution_count": 181,
   "metadata": {
    "scrolled": true
   },
   "outputs": [],
   "source": [
    "#sns.barplot( x = 'PlatformUsed', y = 'ClickedBanner',data = data, palette = 'hls')\n",
    "# People Click more when they are on the Web ( 6% vs. 5%)"
   ]
  },
  {
   "cell_type": "code",
   "execution_count": 185,
   "metadata": {
    "scrolled": true
   },
   "outputs": [],
   "source": [
    "# sns.barplot( x = 'PlatformUsed', y = 'AddedToBasket',data = data, palette = 'hls')\n",
    "# Among all people, people Add to Basket almost at the same rate when they are on the phone and on the web, both 14.2 %"
   ]
  },
  {
   "cell_type": "code",
   "execution_count": 125,
   "metadata": {},
   "outputs": [
    {
     "data": {
      "text/plain": [
       "<matplotlib.axes._subplots.AxesSubplot at 0x217823be3c8>"
      ]
     },
     "execution_count": 125,
     "metadata": {},
     "output_type": "execute_result"
    },
    {
     "data": {
      "image/png": "[encoded data removed]",
      "text/plain": [
       "<Figure size 432x288 with 1 Axes>"
      ]
     },
     "metadata": {},
     "output_type": "display_data"
    }
   ],
   "source": [
    "sns.barplot( x = 'PlatformUsed', y = 'Purchased',data = data, palette = 'hls')\n",
    "# Among all people, people buy a lot more (3.2 %) when they are on the Web( 3.2 %) compared to when they are on the phone (1.9%)\n",
    "# same add to basket rate, but much lower purchase rate"
   ]
  },
  {
   "cell_type": "code",
   "execution_count": 186,
   "metadata": {},
   "outputs": [],
   "source": [
    "#sns.barplot( x = 'Gender', y = 'Purchased',data = data, palette = 'hls')\n",
    "# Among all, people purchase more when they are Male, 0.055 vs 0.07 ( 5.5% vs 7.1%)"
   ]
  },
  {
   "cell_type": "code",
   "execution_count": 121,
   "metadata": {},
   "outputs": [
    {
     "data": {
      "text/plain": [
       "Index(['Purchased', 'VisitorGroup', 'PlatformUsed', 'VisitSource',\n",
       "       'BrowserName', 'OSName', 'Gender', 'IncomeRange',\n",
       "       'ViewedProductInVisit', 'ViewedSaleInVisit', 'TotalPageViews',\n",
       "       'PlacedSearch', 'SecondsOnSite', 'ClickedBanner', 'AddedToBasket'],\n",
       "      dtype='object')"
      ]
     },
     "execution_count": 121,
     "metadata": {},
     "output_type": "execute_result"
    }
   ],
   "source": [
    "data_income.columns"
   ]
  },
  {
   "cell_type": "code",
   "execution_count": null,
   "metadata": {},
   "outputs": [],
   "source": []
  },
  {
   "cell_type": "code",
   "execution_count": 129,
   "metadata": {},
   "outputs": [],
   "source": [
    "# Split data set into phone user and web user\n",
    "phone_user = data[data['PlatformUsed'] == 'Phone']\n",
    "web_user = data[data['PlatformUsed'] == 'Web']"
   ]
  },
  {
   "cell_type": "code",
   "execution_count": 187,
   "metadata": {},
   "outputs": [],
   "source": [
    "#sns.barplot( x = 'Gender', y = 'Purchased',data = phone_user , palette = 'hls')\n",
    "# Among all phone users, male purchase slightly more than women (0.054 vs. 0.047) or 5.4% vs 4.7%"
   ]
  },
  {
   "cell_type": "code",
   "execution_count": 133,
   "metadata": {},
   "outputs": [
    {
     "data": {
      "text/plain": [
       "<matplotlib.axes._subplots.AxesSubplot at 0x21783fa90b8>"
      ]
     },
     "execution_count": 133,
     "metadata": {},
     "output_type": "execute_result"
    },
    {
     "data": {
      "image/png": "[encoded data removed]",
      "text/plain": [
       "<Figure size 432x288 with 1 Axes>"
      ]
     },
     "metadata": {},
     "output_type": "display_data"
    }
   ],
   "source": [
    "sns.barplot( x = 'Gender', y = 'ClickedBanner',data = phone_user , palette = 'hls')\n",
    "# Among all phone users, male have the same click banner rate as women, 5%\n",
    "# Male purchase more if they are using phone, they have the same rate of clicking like women on the banner."
   ]
  },
  {
   "cell_type": "code",
   "execution_count": null,
   "metadata": {},
   "outputs": [],
   "source": []
  },
  {
   "cell_type": "code",
   "execution_count": 189,
   "metadata": {},
   "outputs": [],
   "source": [
    "#sns.barplot( x = 'Gender', y = 'ClickedBanner',data = web_user , palette = 'hls')\n",
    "# Among all web users, women click to banner more( 6.1%) while men click on banner less 5.1%\n",
    "# Male purchase more if they are using web, but they don't click Banner on the webas much as women.\n"
   ]
  },
  {
   "cell_type": "code",
   "execution_count": 188,
   "metadata": {},
   "outputs": [],
   "source": [
    "# sns.barplot( x = 'Gender', y = 'Purchased',data = web_user , palette = 'hls')\n",
    "# Male purchase more if they are using web 8.1% vs. 6.1% ( women)"
   ]
  },
  {
   "cell_type": "code",
   "execution_count": 146,
   "metadata": {},
   "outputs": [],
   "source": [
    "# Split by gender\n",
    "data_gender = data.dropna(axis = 0, subset = ['Gender'])\n",
    "male = data_gender[data_gender['Gender'] == 'Male'].drop(['Gender'], axis = 1)\n",
    "female = data_gender[data_gender['Gender'] == 'Female'].drop(['Gender'], axis =1)"
   ]
  },
  {
   "cell_type": "code",
   "execution_count": 164,
   "metadata": {},
   "outputs": [],
   "source": [
    "def create_dummy_gender(df):\n",
    "    category_vars= ['VisitorGroup', 'PlatformUsed', 'VisitSource','BrowserName', 'OSName','IncomeRange']\n",
    "    df = pd.get_dummies(df, columns = category_vars, drop_first = True)\n",
    "    return df\n",
    "    \n",
    "def logistic_model_gender(df):    \n",
    "    df = create_dummy_gender(df)\n",
    "    print(df.columns)\n",
    "    logr = LogisticRegression()\n",
    "    X = df.iloc[:,1:].values\n",
    "    y = df.iloc[:,0].values\n",
    "    X_train, X_test, y_train, y_test = train_test_split(X, y, test_size = .3, random_state = 30)\n",
    "    logr.fit(X_train,y_train)\n",
    "    y_pred_test = logr.predict(X_test)\n",
    "    y_pred_train = logr.predict(X_train)\n",
    "    coefs = logr.coef_\n",
    "    intercept = logr.intercept_        \n",
    "    log_reg = sm.Logit(y_train, X_train)\n",
    "    clf = log_reg.fit()\n",
    "    column_names = list(df.columns)\n",
    "    summary = clf.summary(xname = column_names[1:])\n",
    "    #odd ratios only    \n",
    "    print(summary)\n",
    "    print(np.exp(clf.params))\n",
    "    "
   ]
  },
  {
   "cell_type": "code",
   "execution_count": 165,
   "metadata": {},
   "outputs": [
    {
     "name": "stdout",
     "output_type": "stream",
     "text": [
      "Index(['Purchased', 'ViewedProductInVisit', 'ViewedSaleInVisit',\n",
      "       'TotalPageViews', 'PlacedSearch', 'SecondsOnSite', 'ClickedBanner',\n",
      "       'AddedToBasket', 'VisitorGroup_Prior Visitor',\n",
      "       'VisitorGroup_Prior Visitor with Purchase', 'PlatformUsed_Web',\n",
      "       'VisitSource_ThirdPartyAds', 'VisitSource_WebSearch',\n",
      "       'BrowserName_Microsoft Edge', 'BrowserName_Safari', 'OSName_Chrome OS',\n",
      "       'OSName_Linux', 'OSName_Mac OS X', 'OSName_Other/Unknown',\n",
      "       'OSName_Windows', 'OSName_iOS', 'IncomeRange_50to100k',\n",
      "       'IncomeRange_Under50k'],\n",
      "      dtype='object')\n"
     ]
    },
    {
     "name": "stderr",
     "output_type": "stream",
     "text": [
      "C:\\Users\\gradadm09\\AppData\\Local\\Continuum\\anaconda3\\lib\\site-packages\\sklearn\\linear_model\\logistic.py:433: FutureWarning: Default solver will be changed to 'lbfgs' in 0.22. Specify a solver to silence this warning.\n",
      "  FutureWarning)\n"
     ]
    },
    {
     "name": "stdout",
     "output_type": "stream",
     "text": [
      "Warning: Maximum number of iterations has been exceeded.\n",
      "         Current function value: 0.176356\n",
      "         Iterations: 35\n",
      "                           Logit Regression Results                           \n",
      "==============================================================================\n",
      "Dep. Variable:                      y   No. Observations:                51075\n",
      "Model:                          Logit   Df Residuals:                    51053\n",
      "Method:                           MLE   Df Model:                           21\n",
      "Date:                Sun, 03 Mar 2019   Pseudo R-squ.:                  0.3153\n",
      "Time:                        07:57:28   Log-Likelihood:                -9007.4\n",
      "converged:                      False   LL-Null:                       -13155.\n",
      "                                        LLR p-value:                     0.000\n",
      "============================================================================================================\n",
      "                                               coef    std err          z      P>|z|      [0.025      0.975]\n",
      "------------------------------------------------------------------------------------------------------------\n",
      "ViewedProductInVisit                        -0.6726      0.068     -9.866      0.000      -0.806      -0.539\n",
      "ViewedSaleInVisit                           -0.3508      0.053     -6.614      0.000      -0.455      -0.247\n",
      "TotalPageViews                               0.0044      0.001      7.221      0.000       0.003       0.006\n",
      "PlacedSearch                                -0.0814      0.042     -1.919      0.055      -0.165       0.002\n",
      "SecondsOnSite                             6.538e-06   4.61e-06      1.417      0.157   -2.51e-06    1.56e-05\n",
      "ClickedBanner                               -0.0988      0.089     -1.106      0.269      -0.274       0.076\n",
      "AddedToBasket                                3.5440      0.061     58.310      0.000       3.425       3.663\n",
      "VisitorGroup_Prior Visitor                  -1.9484      0.072    -27.210      0.000      -2.089      -1.808\n",
      "VisitorGroup_Prior Visitor with Purchase    -3.0140      0.054    -55.424      0.000      -3.121      -2.907\n",
      "PlatformUsed_Web                             0.4410      0.078      5.641      0.000       0.288       0.594\n",
      "VisitSource_ThirdPartyAds                   -0.9647      0.050    -19.138      0.000      -1.063      -0.866\n",
      "VisitSource_WebSearch                       -1.2338      0.048    -25.455      0.000      -1.329      -1.139\n",
      "BrowserName_Microsoft Edge                  -0.3027      0.093     -3.248      0.001      -0.485      -0.120\n",
      "BrowserName_Safari                          -0.3102      0.079     -3.934      0.000      -0.465      -0.156\n",
      "OSName_Chrome OS                            -0.3517      0.234     -1.502      0.133      -0.810       0.107\n",
      "OSName_Linux                                -0.4125      0.798     -0.517      0.605      -1.976       1.151\n",
      "OSName_Mac OS X                             -0.1812      0.107     -1.695      0.090      -0.391       0.028\n",
      "OSName_Other/Unknown                       -15.6113   5635.014     -0.003      0.998   -1.11e+04     1.1e+04\n",
      "OSName_Windows                              -0.4080      0.095     -4.292      0.000      -0.594      -0.222\n",
      "OSName_iOS                                  -0.4306      0.097     -4.461      0.000      -0.620      -0.241\n",
      "IncomeRange_50to100k                        -0.1201      0.043     -2.817      0.005      -0.204      -0.037\n",
      "IncomeRange_Under50k                        -0.1914      0.056     -3.411      0.001      -0.301      -0.081\n",
      "============================================================================================================\n",
      "[5.10395615e-01 7.04095526e-01 1.00440015e+00 9.21799896e-01\n",
      " 1.00000654e+00 9.05944286e-01 3.46045048e+01 1.42504585e-01\n",
      " 4.90964346e-02 1.55431360e+00 3.81105170e-01 2.91184619e-01\n",
      " 7.38809249e-01 7.33270139e-01 7.03507012e-01 6.62025004e-01\n",
      " 8.34295195e-01 1.65994752e-07 6.65004785e-01 6.50147435e-01\n",
      " 8.86804924e-01 8.25797512e-01]\n"
     ]
    },
    {
     "name": "stderr",
     "output_type": "stream",
     "text": [
      "C:\\Users\\gradadm09\\AppData\\Local\\Continuum\\anaconda3\\lib\\site-packages\\statsmodels\\base\\model.py:508: ConvergenceWarning: Maximum Likelihood optimization failed to converge. Check mle_retvals\n",
      "  \"Check mle_retvals\", ConvergenceWarning)\n"
     ]
    }
   ],
   "source": [
    "logistic_model_gender(male)\n",
    "# Among male, Clicking the Banner and Seconds on site doesn't help explaning whether they purchase or not\n",
    "# Which means Clicking banner doesn't matter to males"
   ]
  },
  {
   "cell_type": "code",
   "execution_count": 166,
   "metadata": {},
   "outputs": [
    {
     "name": "stdout",
     "output_type": "stream",
     "text": [
      "Index(['Purchased', 'ViewedProductInVisit', 'ViewedSaleInVisit',\n",
      "       'TotalPageViews', 'PlacedSearch', 'SecondsOnSite', 'ClickedBanner',\n",
      "       'AddedToBasket', 'VisitorGroup_Prior Visitor',\n",
      "       'VisitorGroup_Prior Visitor with Purchase', 'PlatformUsed_Web',\n",
      "       'VisitSource_ThirdPartyAds', 'VisitSource_WebSearch',\n",
      "       'BrowserName_Microsoft Edge', 'BrowserName_Safari', 'OSName_Chrome OS',\n",
      "       'OSName_Linux', 'OSName_Mac OS X', 'OSName_Other/Unknown',\n",
      "       'OSName_Windows', 'OSName_iOS', 'IncomeRange_50to100k',\n",
      "       'IncomeRange_Under50k'],\n",
      "      dtype='object')\n"
     ]
    },
    {
     "name": "stderr",
     "output_type": "stream",
     "text": [
      "C:\\Users\\gradadm09\\AppData\\Local\\Continuum\\anaconda3\\lib\\site-packages\\sklearn\\linear_model\\logistic.py:433: FutureWarning: Default solver will be changed to 'lbfgs' in 0.22. Specify a solver to silence this warning.\n",
      "  FutureWarning)\n"
     ]
    },
    {
     "name": "stdout",
     "output_type": "stream",
     "text": [
      "Optimization terminated successfully.\n",
      "         Current function value: 0.152032\n",
      "         Iterations 9\n",
      "                           Logit Regression Results                           \n",
      "==============================================================================\n",
      "Dep. Variable:                      y   No. Observations:               222230\n",
      "Model:                          Logit   Df Residuals:                   222208\n",
      "Method:                           MLE   Df Model:                           21\n",
      "Date:                Sun, 03 Mar 2019   Pseudo R-squ.:                  0.2883\n",
      "Time:                        08:01:36   Log-Likelihood:                -33786.\n",
      "converged:                       True   LL-Null:                       -47474.\n",
      "                                        LLR p-value:                     0.000\n",
      "============================================================================================================\n",
      "                                               coef    std err          z      P>|z|      [0.025      0.975]\n",
      "------------------------------------------------------------------------------------------------------------\n",
      "ViewedProductInVisit                        -0.6566      0.037    -17.602      0.000      -0.730      -0.583\n",
      "ViewedSaleInVisit                           -0.2577      0.026     -9.989      0.000      -0.308      -0.207\n",
      "TotalPageViews                               0.0036      0.000     12.622      0.000       0.003       0.004\n",
      "PlacedSearch                                -0.0176      0.022     -0.794      0.427      -0.061       0.026\n",
      "SecondsOnSite                             1.031e-05   2.32e-06      4.446      0.000    5.77e-06    1.49e-05\n",
      "ClickedBanner                               -0.2249      0.044     -5.055      0.000      -0.312      -0.138\n",
      "AddedToBasket                                3.4954      0.033    106.291      0.000       3.431       3.560\n",
      "VisitorGroup_Prior Visitor                  -2.6701      0.045    -59.621      0.000      -2.758      -2.582\n",
      "VisitorGroup_Prior Visitor with Purchase    -3.4611      0.032   -107.614      0.000      -3.524      -3.398\n",
      "PlatformUsed_Web                             0.2895      0.037      7.894      0.000       0.218       0.361\n",
      "VisitSource_ThirdPartyAds                   -0.8502      0.026    -32.152      0.000      -0.902      -0.798\n",
      "VisitSource_WebSearch                       -0.9992      0.025    -40.330      0.000      -1.048      -0.951\n",
      "BrowserName_Microsoft Edge                  -0.1013      0.051     -1.976      0.048      -0.202      -0.001\n",
      "BrowserName_Safari                          -0.2387      0.045     -5.355      0.000      -0.326      -0.151\n",
      "OSName_Chrome OS                            -0.2691      0.126     -2.128      0.033      -0.517      -0.021\n",
      "OSName_Linux                                -0.8106      0.705     -1.151      0.250      -2.191       0.570\n",
      "OSName_Mac OS X                              0.0022      0.056      0.040      0.968      -0.108       0.112\n",
      "OSName_Other/Unknown                        -0.2741      1.104     -0.248      0.804      -2.439       1.891\n",
      "OSName_Windows                              -0.1478      0.048     -3.080      0.002      -0.242      -0.054\n",
      "OSName_iOS                                  -0.2476      0.052     -4.748      0.000      -0.350      -0.145\n",
      "IncomeRange_50to100k                        -0.0771      0.023     -3.414      0.001      -0.121      -0.033\n",
      "IncomeRange_Under50k                        -0.0754      0.028     -2.690      0.007      -0.130      -0.020\n",
      "============================================================================================================\n",
      "[5.18631792e-01 7.72794138e-01 1.00359181e+00 9.82537016e-01\n",
      " 1.00001031e+00 7.98577247e-01 3.29636504e+01 6.92437651e-02\n",
      " 3.13936396e-02 1.33576620e+00 4.27342715e-01 3.68156934e-01\n",
      " 9.03679490e-01 7.87640128e-01 7.64050436e-01 4.44590335e-01\n",
      " 1.00223234e+00 7.60224702e-01 8.62619937e-01 7.80647348e-01\n",
      " 9.25779837e-01 9.27338459e-01]\n"
     ]
    }
   ],
   "source": [
    "logistic_model_gender(female)"
   ]
  },
  {
   "cell_type": "code",
   "execution_count": null,
   "metadata": {},
   "outputs": [],
   "source": [
    "# If you are Female, Clicked to Banner does explain whether you purchase or not.\n",
    "# But clicked to Banner reduces the odd that you will purchase by 0.799\n"
   ]
  }
 ],
 "metadata": {
  "kernelspec": {
   "display_name": "Python 3",
   "language": "python",
   "name": "python3"
  },
  "language_info": {
   "codemirror_mode": {
    "name": "ipython",
    "version": 3
   },
   "file_extension": ".py",
   "mimetype": "text/x-python",
   "name": "python",
   "nbconvert_exporter": "python",
   "pygments_lexer": "ipython3",
   "version": "3.7.1"
  }
 },
 "nbformat": 4,
 "nbformat_minor": 2
}

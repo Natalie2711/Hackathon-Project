{
 "cells": [
  {
   "cell_type": "code",
   "execution_count": 1,
   "metadata": {},
   "outputs": [],
   "source": [
    "import pandas as pd\n",
    "import seaborn as sns\n",
    "sns.set(style = 'white')\n",
    "sns.set (style= 'whitegrid', color_codes = True)"
   ]
  },
  {
   "cell_type": "code",
   "execution_count": 2,
   "metadata": {},
   "outputs": [],
   "source": [
    "data = pd.read_csv(\"Wayfair-Babson_HackathonData 2019.csv\")"
   ]
  },
  {
   "cell_type": "code",
   "execution_count": 3,
   "metadata": {},
   "outputs": [
    {
     "data": {
      "text/html": [
       "<div>\n",
       "<style scoped>\n",
       "    .dataframe tbody tr th:only-of-type {\n",
       "        vertical-align: middle;\n",
       "    }\n",
       "\n",
       "    .dataframe tbody tr th {\n",
       "        vertical-align: top;\n",
       "    }\n",
       "\n",
       "    .dataframe thead th {\n",
       "        text-align: right;\n",
       "    }\n",
       "</style>\n",
       "<table border=\"1\" class=\"dataframe\">\n",
       "  <thead>\n",
       "    <tr style=\"text-align: right;\">\n",
       "      <th></th>\n",
       "      <th>Purchased</th>\n",
       "      <th>VisitDate</th>\n",
       "      <th>UniqueVisitID</th>\n",
       "      <th>VisitorGroup</th>\n",
       "      <th>PlatformUsed</th>\n",
       "      <th>VisitSource</th>\n",
       "      <th>BrowserName</th>\n",
       "      <th>OSName</th>\n",
       "      <th>State</th>\n",
       "      <th>Gender</th>\n",
       "      <th>IncomeRange</th>\n",
       "      <th>ViewedProductInVisit</th>\n",
       "      <th>ViewedSaleInVisit</th>\n",
       "      <th>TotalPageViews</th>\n",
       "      <th>PlacedSearch</th>\n",
       "      <th>SecondsOnSite</th>\n",
       "      <th>ClickedBanner</th>\n",
       "      <th>AddedToBasket</th>\n",
       "    </tr>\n",
       "  </thead>\n",
       "  <tbody>\n",
       "    <tr>\n",
       "      <th>0</th>\n",
       "      <td>0</td>\n",
       "      <td>7/1/2017</td>\n",
       "      <td>2.014240e+15</td>\n",
       "      <td>Prior Visitor with Purchase</td>\n",
       "      <td>Web</td>\n",
       "      <td>ThirdPartyAds</td>\n",
       "      <td>Chrome</td>\n",
       "      <td>Mac OS X</td>\n",
       "      <td>NY</td>\n",
       "      <td>Female</td>\n",
       "      <td>100to250k</td>\n",
       "      <td>0</td>\n",
       "      <td>0</td>\n",
       "      <td>1</td>\n",
       "      <td>0</td>\n",
       "      <td>0</td>\n",
       "      <td>0</td>\n",
       "      <td>0</td>\n",
       "    </tr>\n",
       "    <tr>\n",
       "      <th>1</th>\n",
       "      <td>0</td>\n",
       "      <td>7/1/2017</td>\n",
       "      <td>2.909700e+15</td>\n",
       "      <td>New Visitor</td>\n",
       "      <td>Phone</td>\n",
       "      <td>WebSearch</td>\n",
       "      <td>Safari</td>\n",
       "      <td>iOS</td>\n",
       "      <td>NaN</td>\n",
       "      <td>NaN</td>\n",
       "      <td>NaN</td>\n",
       "      <td>1</td>\n",
       "      <td>0</td>\n",
       "      <td>9</td>\n",
       "      <td>0</td>\n",
       "      <td>230</td>\n",
       "      <td>0</td>\n",
       "      <td>0</td>\n",
       "    </tr>\n",
       "    <tr>\n",
       "      <th>2</th>\n",
       "      <td>0</td>\n",
       "      <td>7/1/2017</td>\n",
       "      <td>2.987400e+15</td>\n",
       "      <td>New Visitor</td>\n",
       "      <td>Web</td>\n",
       "      <td>WebSearch</td>\n",
       "      <td>Chrome</td>\n",
       "      <td>Windows</td>\n",
       "      <td>NaN</td>\n",
       "      <td>NaN</td>\n",
       "      <td>NaN</td>\n",
       "      <td>0</td>\n",
       "      <td>0</td>\n",
       "      <td>28</td>\n",
       "      <td>0</td>\n",
       "      <td>10412</td>\n",
       "      <td>0</td>\n",
       "      <td>0</td>\n",
       "    </tr>\n",
       "    <tr>\n",
       "      <th>3</th>\n",
       "      <td>0</td>\n",
       "      <td>7/1/2017</td>\n",
       "      <td>6.875970e+15</td>\n",
       "      <td>Prior Visitor with Purchase</td>\n",
       "      <td>Phone</td>\n",
       "      <td>EmailFromWayfair</td>\n",
       "      <td>Safari</td>\n",
       "      <td>iOS</td>\n",
       "      <td>WA</td>\n",
       "      <td>Female</td>\n",
       "      <td>100to250k</td>\n",
       "      <td>1</td>\n",
       "      <td>1</td>\n",
       "      <td>8</td>\n",
       "      <td>1</td>\n",
       "      <td>430</td>\n",
       "      <td>0</td>\n",
       "      <td>0</td>\n",
       "    </tr>\n",
       "    <tr>\n",
       "      <th>4</th>\n",
       "      <td>0</td>\n",
       "      <td>7/1/2017</td>\n",
       "      <td>1.153490e+16</td>\n",
       "      <td>New Visitor</td>\n",
       "      <td>Phone</td>\n",
       "      <td>ThirdPartyAds</td>\n",
       "      <td>Safari</td>\n",
       "      <td>iOS</td>\n",
       "      <td>NaN</td>\n",
       "      <td>NaN</td>\n",
       "      <td>NaN</td>\n",
       "      <td>1</td>\n",
       "      <td>1</td>\n",
       "      <td>9</td>\n",
       "      <td>0</td>\n",
       "      <td>1158</td>\n",
       "      <td>0</td>\n",
       "      <td>0</td>\n",
       "    </tr>\n",
       "  </tbody>\n",
       "</table>\n",
       "</div>"
      ],
      "text/plain": [
       "   Purchased VisitDate  UniqueVisitID                 VisitorGroup  \\\n",
       "0          0  7/1/2017   2.014240e+15  Prior Visitor with Purchase   \n",
       "1          0  7/1/2017   2.909700e+15                  New Visitor   \n",
       "2          0  7/1/2017   2.987400e+15                  New Visitor   \n",
       "3          0  7/1/2017   6.875970e+15  Prior Visitor with Purchase   \n",
       "4          0  7/1/2017   1.153490e+16                  New Visitor   \n",
       "\n",
       "  PlatformUsed       VisitSource BrowserName    OSName State  Gender  \\\n",
       "0          Web     ThirdPartyAds      Chrome  Mac OS X    NY  Female   \n",
       "1        Phone         WebSearch      Safari       iOS   NaN     NaN   \n",
       "2          Web         WebSearch      Chrome   Windows   NaN     NaN   \n",
       "3        Phone  EmailFromWayfair      Safari       iOS    WA  Female   \n",
       "4        Phone     ThirdPartyAds      Safari       iOS   NaN     NaN   \n",
       "\n",
       "  IncomeRange  ViewedProductInVisit  ViewedSaleInVisit  TotalPageViews  \\\n",
       "0   100to250k                     0                  0               1   \n",
       "1         NaN                     1                  0               9   \n",
       "2         NaN                     0                  0              28   \n",
       "3   100to250k                     1                  1               8   \n",
       "4         NaN                     1                  1               9   \n",
       "\n",
       "   PlacedSearch  SecondsOnSite  ClickedBanner  AddedToBasket  \n",
       "0             0              0              0              0  \n",
       "1             0            230              0              0  \n",
       "2             0          10412              0              0  \n",
       "3             1            430              0              0  \n",
       "4             0           1158              0              0  "
      ]
     },
     "execution_count": 3,
     "metadata": {},
     "output_type": "execute_result"
    }
   ],
   "source": [
    "data.head()"
   ]
  },
  {
   "cell_type": "code",
   "execution_count": 4,
   "metadata": {},
   "outputs": [
    {
     "data": {
      "text/html": [
       "<div>\n",
       "<style scoped>\n",
       "    .dataframe tbody tr th:only-of-type {\n",
       "        vertical-align: middle;\n",
       "    }\n",
       "\n",
       "    .dataframe tbody tr th {\n",
       "        vertical-align: top;\n",
       "    }\n",
       "\n",
       "    .dataframe thead th {\n",
       "        text-align: right;\n",
       "    }\n",
       "</style>\n",
       "<table border=\"1\" class=\"dataframe\">\n",
       "  <thead>\n",
       "    <tr style=\"text-align: right;\">\n",
       "      <th></th>\n",
       "      <th>Purchased</th>\n",
       "      <th>UniqueVisitID</th>\n",
       "      <th>ViewedProductInVisit</th>\n",
       "      <th>ViewedSaleInVisit</th>\n",
       "      <th>TotalPageViews</th>\n",
       "      <th>PlacedSearch</th>\n",
       "      <th>SecondsOnSite</th>\n",
       "      <th>ClickedBanner</th>\n",
       "      <th>AddedToBasket</th>\n",
       "    </tr>\n",
       "  </thead>\n",
       "  <tbody>\n",
       "    <tr>\n",
       "      <th>count</th>\n",
       "      <td>992977.000000</td>\n",
       "      <td>9.929770e+05</td>\n",
       "      <td>992977.000000</td>\n",
       "      <td>992977.000000</td>\n",
       "      <td>992977.000000</td>\n",
       "      <td>992977.000000</td>\n",
       "      <td>992977.000000</td>\n",
       "      <td>992977.000000</td>\n",
       "      <td>992977.000000</td>\n",
       "    </tr>\n",
       "    <tr>\n",
       "      <th>mean</th>\n",
       "      <td>0.025445</td>\n",
       "      <td>4.608987e+18</td>\n",
       "      <td>0.509052</td>\n",
       "      <td>0.139695</td>\n",
       "      <td>13.975567</td>\n",
       "      <td>0.366073</td>\n",
       "      <td>1436.925027</td>\n",
       "      <td>0.046510</td>\n",
       "      <td>0.106376</td>\n",
       "    </tr>\n",
       "    <tr>\n",
       "      <th>std</th>\n",
       "      <td>0.157472</td>\n",
       "      <td>2.661529e+18</td>\n",
       "      <td>0.499918</td>\n",
       "      <td>0.346671</td>\n",
       "      <td>23.037259</td>\n",
       "      <td>0.481730</td>\n",
       "      <td>3216.872703</td>\n",
       "      <td>0.210586</td>\n",
       "      <td>0.308319</td>\n",
       "    </tr>\n",
       "    <tr>\n",
       "      <th>min</th>\n",
       "      <td>0.000000</td>\n",
       "      <td>1.328640e+13</td>\n",
       "      <td>0.000000</td>\n",
       "      <td>0.000000</td>\n",
       "      <td>1.000000</td>\n",
       "      <td>0.000000</td>\n",
       "      <td>0.000000</td>\n",
       "      <td>0.000000</td>\n",
       "      <td>0.000000</td>\n",
       "    </tr>\n",
       "    <tr>\n",
       "      <th>25%</th>\n",
       "      <td>0.000000</td>\n",
       "      <td>2.304610e+18</td>\n",
       "      <td>0.000000</td>\n",
       "      <td>0.000000</td>\n",
       "      <td>3.000000</td>\n",
       "      <td>0.000000</td>\n",
       "      <td>38.000000</td>\n",
       "      <td>0.000000</td>\n",
       "      <td>0.000000</td>\n",
       "    </tr>\n",
       "    <tr>\n",
       "      <th>50%</th>\n",
       "      <td>0.000000</td>\n",
       "      <td>4.607860e+18</td>\n",
       "      <td>1.000000</td>\n",
       "      <td>0.000000</td>\n",
       "      <td>7.000000</td>\n",
       "      <td>0.000000</td>\n",
       "      <td>237.000000</td>\n",
       "      <td>0.000000</td>\n",
       "      <td>0.000000</td>\n",
       "    </tr>\n",
       "    <tr>\n",
       "      <th>75%</th>\n",
       "      <td>0.000000</td>\n",
       "      <td>6.913870e+18</td>\n",
       "      <td>1.000000</td>\n",
       "      <td>0.000000</td>\n",
       "      <td>16.000000</td>\n",
       "      <td>1.000000</td>\n",
       "      <td>1071.000000</td>\n",
       "      <td>0.000000</td>\n",
       "      <td>0.000000</td>\n",
       "    </tr>\n",
       "    <tr>\n",
       "      <th>max</th>\n",
       "      <td>1.000000</td>\n",
       "      <td>9.223330e+18</td>\n",
       "      <td>1.000000</td>\n",
       "      <td>1.000000</td>\n",
       "      <td>1217.000000</td>\n",
       "      <td>1.000000</td>\n",
       "      <td>86896.000000</td>\n",
       "      <td>1.000000</td>\n",
       "      <td>1.000000</td>\n",
       "    </tr>\n",
       "  </tbody>\n",
       "</table>\n",
       "</div>"
      ],
      "text/plain": [
       "           Purchased  UniqueVisitID  ViewedProductInVisit  ViewedSaleInVisit  \\\n",
       "count  992977.000000   9.929770e+05         992977.000000      992977.000000   \n",
       "mean        0.025445   4.608987e+18              0.509052           0.139695   \n",
       "std         0.157472   2.661529e+18              0.499918           0.346671   \n",
       "min         0.000000   1.328640e+13              0.000000           0.000000   \n",
       "25%         0.000000   2.304610e+18              0.000000           0.000000   \n",
       "50%         0.000000   4.607860e+18              1.000000           0.000000   \n",
       "75%         0.000000   6.913870e+18              1.000000           0.000000   \n",
       "max         1.000000   9.223330e+18              1.000000           1.000000   \n",
       "\n",
       "       TotalPageViews   PlacedSearch  SecondsOnSite  ClickedBanner  \\\n",
       "count   992977.000000  992977.000000  992977.000000  992977.000000   \n",
       "mean        13.975567       0.366073    1436.925027       0.046510   \n",
       "std         23.037259       0.481730    3216.872703       0.210586   \n",
       "min          1.000000       0.000000       0.000000       0.000000   \n",
       "25%          3.000000       0.000000      38.000000       0.000000   \n",
       "50%          7.000000       0.000000     237.000000       0.000000   \n",
       "75%         16.000000       1.000000    1071.000000       0.000000   \n",
       "max       1217.000000       1.000000   86896.000000       1.000000   \n",
       "\n",
       "       AddedToBasket  \n",
       "count  992977.000000  \n",
       "mean        0.106376  \n",
       "std         0.308319  \n",
       "min         0.000000  \n",
       "25%         0.000000  \n",
       "50%         0.000000  \n",
       "75%         0.000000  \n",
       "max         1.000000  "
      ]
     },
     "execution_count": 4,
     "metadata": {},
     "output_type": "execute_result"
    }
   ],
   "source": [
    "data.describe()"
   ]
  },
  {
   "cell_type": "code",
   "execution_count": 5,
   "metadata": {},
   "outputs": [
    {
     "name": "stdout",
     "output_type": "stream",
     "text": [
      "<class 'pandas.core.frame.DataFrame'>\n",
      "RangeIndex: 992977 entries, 0 to 992976\n",
      "Data columns (total 18 columns):\n",
      "Purchased               992977 non-null int64\n",
      "VisitDate               992977 non-null object\n",
      "UniqueVisitID           992977 non-null float64\n",
      "VisitorGroup            992977 non-null object\n",
      "PlatformUsed            992977 non-null object\n",
      "VisitSource             992977 non-null object\n",
      "BrowserName             992977 non-null object\n",
      "OSName                  992977 non-null object\n",
      "State                   408261 non-null object\n",
      "Gender                  639596 non-null object\n",
      "IncomeRange             383272 non-null object\n",
      "ViewedProductInVisit    992977 non-null int64\n",
      "ViewedSaleInVisit       992977 non-null int64\n",
      "TotalPageViews          992977 non-null int64\n",
      "PlacedSearch            992977 non-null int64\n",
      "SecondsOnSite           992977 non-null int64\n",
      "ClickedBanner           992977 non-null int64\n",
      "AddedToBasket           992977 non-null int64\n",
      "dtypes: float64(1), int64(8), object(9)\n",
      "memory usage: 136.4+ MB\n"
     ]
    }
   ],
   "source": [
    "data.info()"
   ]
  },
  {
   "cell_type": "code",
   "execution_count": 6,
   "metadata": {},
   "outputs": [
    {
     "data": {
      "text/plain": [
       "Index(['Purchased', 'VisitDate', 'UniqueVisitID', 'VisitorGroup',\n",
       "       'PlatformUsed', 'VisitSource', 'BrowserName', 'OSName', 'State',\n",
       "       'Gender', 'IncomeRange', 'ViewedProductInVisit', 'ViewedSaleInVisit',\n",
       "       'TotalPageViews', 'PlacedSearch', 'SecondsOnSite', 'ClickedBanner',\n",
       "       'AddedToBasket'],\n",
       "      dtype='object')"
      ]
     },
     "execution_count": 6,
     "metadata": {},
     "output_type": "execute_result"
    }
   ],
   "source": [
    "data.columns"
   ]
  },
  {
   "cell_type": "code",
   "execution_count": 7,
   "metadata": {},
   "outputs": [
    {
     "data": {
      "text/plain": [
       "Purchased                    0\n",
       "VisitDate                    0\n",
       "UniqueVisitID                0\n",
       "VisitorGroup                 0\n",
       "PlatformUsed                 0\n",
       "VisitSource                  0\n",
       "BrowserName                  0\n",
       "OSName                       0\n",
       "State                   584716\n",
       "Gender                  353381\n",
       "IncomeRange             609705\n",
       "ViewedProductInVisit         0\n",
       "ViewedSaleInVisit            0\n",
       "TotalPageViews               0\n",
       "PlacedSearch                 0\n",
       "SecondsOnSite                0\n",
       "ClickedBanner                0\n",
       "AddedToBasket                0\n",
       "dtype: int64"
      ]
     },
     "execution_count": 7,
     "metadata": {},
     "output_type": "execute_result"
    }
   ],
   "source": [
    "data.isnull().sum()"
   ]
  },
  {
   "cell_type": "code",
   "execution_count": 8,
   "metadata": {},
   "outputs": [],
   "source": [
    "# Drop rows where income data is not available\n",
    "data_income = data.dropna(axis = 0, subset=['IncomeRange']) "
   ]
  },
  {
   "cell_type": "markdown",
   "metadata": {},
   "source": [
    "## Split data set into High, Med, Low income groups"
   ]
  },
  {
   "cell_type": "code",
   "execution_count": 9,
   "metadata": {},
   "outputs": [
    {
     "data": {
      "text/plain": [
       "<matplotlib.axes._subplots.AxesSubplot at 0x11675abe0>"
      ]
     },
     "execution_count": 9,
     "metadata": {},
     "output_type": "execute_result"
    },
    {
     "data": {
      "image/png": "[encoded data removed]",
      "text/plain": [
       "<Figure size 432x288 with 1 Axes>"
      ]
     },
     "metadata": {},
     "output_type": "display_data"
    }
   ],
   "source": [
    "sns.countplot( x = 'IncomeRange', data = data_income, palette = 'hls')\n",
    "# There are more high and med income people in the platform compared to low income people"
   ]
  },
  {
   "cell_type": "code",
   "execution_count": 10,
   "metadata": {},
   "outputs": [],
   "source": [
    "# Divide data set into 3 groups\n",
    "income_group = ['High_income','Med_income','Low_income']\n",
    "High_income = data_income[data_income['IncomeRange'] == '100to250k'].drop(['IncomeRange'],axis = 1)\n",
    "Med_income = data_income[data_income['IncomeRange'] == '50to100k'].drop(['IncomeRange'],axis = 1)\n",
    "Low_income = data_income[data_income['IncomeRange'] == 'Under50k'].drop(['IncomeRange'],axis = 1)"
   ]
  },
  {
   "cell_type": "code",
   "execution_count": 11,
   "metadata": {},
   "outputs": [],
   "source": [
    "#  Analyze price sensitivity of each data set"
   ]
  },
  {
   "cell_type": "code",
   "execution_count": 12,
   "metadata": {},
   "outputs": [
    {
     "data": {
      "text/html": [
       "<div>\n",
       "<style scoped>\n",
       "    .dataframe tbody tr th:only-of-type {\n",
       "        vertical-align: middle;\n",
       "    }\n",
       "\n",
       "    .dataframe tbody tr th {\n",
       "        vertical-align: top;\n",
       "    }\n",
       "\n",
       "    .dataframe thead th {\n",
       "        text-align: right;\n",
       "    }\n",
       "</style>\n",
       "<table border=\"1\" class=\"dataframe\">\n",
       "  <thead>\n",
       "    <tr style=\"text-align: right;\">\n",
       "      <th></th>\n",
       "      <th>Purchased</th>\n",
       "      <th>VisitDate</th>\n",
       "      <th>UniqueVisitID</th>\n",
       "      <th>VisitorGroup</th>\n",
       "      <th>PlatformUsed</th>\n",
       "      <th>VisitSource</th>\n",
       "      <th>BrowserName</th>\n",
       "      <th>OSName</th>\n",
       "      <th>State</th>\n",
       "      <th>Gender</th>\n",
       "      <th>ViewedProductInVisit</th>\n",
       "      <th>ViewedSaleInVisit</th>\n",
       "      <th>TotalPageViews</th>\n",
       "      <th>PlacedSearch</th>\n",
       "      <th>SecondsOnSite</th>\n",
       "      <th>ClickedBanner</th>\n",
       "      <th>AddedToBasket</th>\n",
       "    </tr>\n",
       "  </thead>\n",
       "  <tbody>\n",
       "    <tr>\n",
       "      <th>0</th>\n",
       "      <td>0</td>\n",
       "      <td>7/1/2017</td>\n",
       "      <td>2.014240e+15</td>\n",
       "      <td>Prior Visitor with Purchase</td>\n",
       "      <td>Web</td>\n",
       "      <td>ThirdPartyAds</td>\n",
       "      <td>Chrome</td>\n",
       "      <td>Mac OS X</td>\n",
       "      <td>NY</td>\n",
       "      <td>Female</td>\n",
       "      <td>0</td>\n",
       "      <td>0</td>\n",
       "      <td>1</td>\n",
       "      <td>0</td>\n",
       "      <td>0</td>\n",
       "      <td>0</td>\n",
       "      <td>0</td>\n",
       "    </tr>\n",
       "    <tr>\n",
       "      <th>3</th>\n",
       "      <td>0</td>\n",
       "      <td>7/1/2017</td>\n",
       "      <td>6.875970e+15</td>\n",
       "      <td>Prior Visitor with Purchase</td>\n",
       "      <td>Phone</td>\n",
       "      <td>EmailFromWayfair</td>\n",
       "      <td>Safari</td>\n",
       "      <td>iOS</td>\n",
       "      <td>WA</td>\n",
       "      <td>Female</td>\n",
       "      <td>1</td>\n",
       "      <td>1</td>\n",
       "      <td>8</td>\n",
       "      <td>1</td>\n",
       "      <td>430</td>\n",
       "      <td>0</td>\n",
       "      <td>0</td>\n",
       "    </tr>\n",
       "    <tr>\n",
       "      <th>12</th>\n",
       "      <td>0</td>\n",
       "      <td>7/1/2017</td>\n",
       "      <td>4.360120e+16</td>\n",
       "      <td>Prior Visitor</td>\n",
       "      <td>Web</td>\n",
       "      <td>WebSearch</td>\n",
       "      <td>Safari</td>\n",
       "      <td>iOS</td>\n",
       "      <td>CA</td>\n",
       "      <td>Female</td>\n",
       "      <td>1</td>\n",
       "      <td>0</td>\n",
       "      <td>26</td>\n",
       "      <td>1</td>\n",
       "      <td>2785</td>\n",
       "      <td>0</td>\n",
       "      <td>1</td>\n",
       "    </tr>\n",
       "    <tr>\n",
       "      <th>27</th>\n",
       "      <td>0</td>\n",
       "      <td>7/1/2017</td>\n",
       "      <td>1.081290e+17</td>\n",
       "      <td>Prior Visitor with Purchase</td>\n",
       "      <td>Web</td>\n",
       "      <td>ThirdPartyAds</td>\n",
       "      <td>Chrome</td>\n",
       "      <td>Windows</td>\n",
       "      <td>NY</td>\n",
       "      <td>Unknown</td>\n",
       "      <td>0</td>\n",
       "      <td>0</td>\n",
       "      <td>1</td>\n",
       "      <td>0</td>\n",
       "      <td>117</td>\n",
       "      <td>0</td>\n",
       "      <td>0</td>\n",
       "    </tr>\n",
       "    <tr>\n",
       "      <th>29</th>\n",
       "      <td>0</td>\n",
       "      <td>7/1/2017</td>\n",
       "      <td>1.165150e+17</td>\n",
       "      <td>Prior Visitor with Purchase</td>\n",
       "      <td>Phone</td>\n",
       "      <td>WebSearch</td>\n",
       "      <td>Safari</td>\n",
       "      <td>iOS</td>\n",
       "      <td>TX</td>\n",
       "      <td>Female</td>\n",
       "      <td>1</td>\n",
       "      <td>0</td>\n",
       "      <td>78</td>\n",
       "      <td>0</td>\n",
       "      <td>5813</td>\n",
       "      <td>0</td>\n",
       "      <td>0</td>\n",
       "    </tr>\n",
       "  </tbody>\n",
       "</table>\n",
       "</div>"
      ],
      "text/plain": [
       "    Purchased VisitDate  UniqueVisitID                 VisitorGroup  \\\n",
       "0           0  7/1/2017   2.014240e+15  Prior Visitor with Purchase   \n",
       "3           0  7/1/2017   6.875970e+15  Prior Visitor with Purchase   \n",
       "12          0  7/1/2017   4.360120e+16                Prior Visitor   \n",
       "27          0  7/1/2017   1.081290e+17  Prior Visitor with Purchase   \n",
       "29          0  7/1/2017   1.165150e+17  Prior Visitor with Purchase   \n",
       "\n",
       "   PlatformUsed       VisitSource BrowserName    OSName State   Gender  \\\n",
       "0           Web     ThirdPartyAds      Chrome  Mac OS X    NY   Female   \n",
       "3         Phone  EmailFromWayfair      Safari       iOS    WA   Female   \n",
       "12          Web         WebSearch      Safari       iOS    CA   Female   \n",
       "27          Web     ThirdPartyAds      Chrome   Windows    NY  Unknown   \n",
       "29        Phone         WebSearch      Safari       iOS    TX   Female   \n",
       "\n",
       "    ViewedProductInVisit  ViewedSaleInVisit  TotalPageViews  PlacedSearch  \\\n",
       "0                      0                  0               1             0   \n",
       "3                      1                  1               8             1   \n",
       "12                     1                  0              26             1   \n",
       "27                     0                  0               1             0   \n",
       "29                     1                  0              78             0   \n",
       "\n",
       "    SecondsOnSite  ClickedBanner  AddedToBasket  \n",
       "0               0              0              0  \n",
       "3             430              0              0  \n",
       "12           2785              0              1  \n",
       "27            117              0              0  \n",
       "29           5813              0              0  "
      ]
     },
     "execution_count": 12,
     "metadata": {},
     "output_type": "execute_result"
    }
   ],
   "source": [
    "# High income group:\n",
    "High_income.head()"
   ]
  },
  {
   "cell_type": "code",
   "execution_count": 13,
   "metadata": {},
   "outputs": [
    {
     "data": {
      "text/html": [
       "<div>\n",
       "<style scoped>\n",
       "    .dataframe tbody tr th:only-of-type {\n",
       "        vertical-align: middle;\n",
       "    }\n",
       "\n",
       "    .dataframe tbody tr th {\n",
       "        vertical-align: top;\n",
       "    }\n",
       "\n",
       "    .dataframe thead th {\n",
       "        text-align: right;\n",
       "    }\n",
       "</style>\n",
       "<table border=\"1\" class=\"dataframe\">\n",
       "  <thead>\n",
       "    <tr style=\"text-align: right;\">\n",
       "      <th></th>\n",
       "      <th>Purchased</th>\n",
       "      <th>UniqueVisitID</th>\n",
       "      <th>ViewedProductInVisit</th>\n",
       "      <th>ViewedSaleInVisit</th>\n",
       "      <th>TotalPageViews</th>\n",
       "      <th>PlacedSearch</th>\n",
       "      <th>SecondsOnSite</th>\n",
       "      <th>ClickedBanner</th>\n",
       "      <th>AddedToBasket</th>\n",
       "    </tr>\n",
       "  </thead>\n",
       "  <tbody>\n",
       "    <tr>\n",
       "      <th>count</th>\n",
       "      <td>157395.000000</td>\n",
       "      <td>1.573950e+05</td>\n",
       "      <td>157395.000000</td>\n",
       "      <td>157395.000000</td>\n",
       "      <td>157395.000000</td>\n",
       "      <td>157395.000000</td>\n",
       "      <td>157395.000000</td>\n",
       "      <td>157395.000000</td>\n",
       "      <td>157395.000000</td>\n",
       "    </tr>\n",
       "    <tr>\n",
       "      <th>mean</th>\n",
       "      <td>0.066184</td>\n",
       "      <td>4.601535e+18</td>\n",
       "      <td>0.638915</td>\n",
       "      <td>0.167686</td>\n",
       "      <td>18.818673</td>\n",
       "      <td>0.475295</td>\n",
       "      <td>2181.086451</td>\n",
       "      <td>0.052575</td>\n",
       "      <td>0.189828</td>\n",
       "    </tr>\n",
       "    <tr>\n",
       "      <th>std</th>\n",
       "      <td>0.248604</td>\n",
       "      <td>2.663129e+18</td>\n",
       "      <td>0.480317</td>\n",
       "      <td>0.373589</td>\n",
       "      <td>28.503861</td>\n",
       "      <td>0.499391</td>\n",
       "      <td>4010.011055</td>\n",
       "      <td>0.223184</td>\n",
       "      <td>0.392166</td>\n",
       "    </tr>\n",
       "    <tr>\n",
       "      <th>min</th>\n",
       "      <td>0.000000</td>\n",
       "      <td>2.071920e+13</td>\n",
       "      <td>0.000000</td>\n",
       "      <td>0.000000</td>\n",
       "      <td>1.000000</td>\n",
       "      <td>0.000000</td>\n",
       "      <td>0.000000</td>\n",
       "      <td>0.000000</td>\n",
       "      <td>0.000000</td>\n",
       "    </tr>\n",
       "    <tr>\n",
       "      <th>25%</th>\n",
       "      <td>0.000000</td>\n",
       "      <td>2.293050e+18</td>\n",
       "      <td>0.000000</td>\n",
       "      <td>0.000000</td>\n",
       "      <td>4.000000</td>\n",
       "      <td>0.000000</td>\n",
       "      <td>86.000000</td>\n",
       "      <td>0.000000</td>\n",
       "      <td>0.000000</td>\n",
       "    </tr>\n",
       "    <tr>\n",
       "      <th>50%</th>\n",
       "      <td>0.000000</td>\n",
       "      <td>4.591110e+18</td>\n",
       "      <td>1.000000</td>\n",
       "      <td>0.000000</td>\n",
       "      <td>10.000000</td>\n",
       "      <td>0.000000</td>\n",
       "      <td>481.000000</td>\n",
       "      <td>0.000000</td>\n",
       "      <td>0.000000</td>\n",
       "    </tr>\n",
       "    <tr>\n",
       "      <th>75%</th>\n",
       "      <td>0.000000</td>\n",
       "      <td>6.909045e+18</td>\n",
       "      <td>1.000000</td>\n",
       "      <td>0.000000</td>\n",
       "      <td>22.000000</td>\n",
       "      <td>1.000000</td>\n",
       "      <td>2176.000000</td>\n",
       "      <td>0.000000</td>\n",
       "      <td>0.000000</td>\n",
       "    </tr>\n",
       "    <tr>\n",
       "      <th>max</th>\n",
       "      <td>1.000000</td>\n",
       "      <td>9.223280e+18</td>\n",
       "      <td>1.000000</td>\n",
       "      <td>1.000000</td>\n",
       "      <td>895.000000</td>\n",
       "      <td>1.000000</td>\n",
       "      <td>60182.000000</td>\n",
       "      <td>1.000000</td>\n",
       "      <td>1.000000</td>\n",
       "    </tr>\n",
       "  </tbody>\n",
       "</table>\n",
       "</div>"
      ],
      "text/plain": [
       "           Purchased  UniqueVisitID  ViewedProductInVisit  ViewedSaleInVisit  \\\n",
       "count  157395.000000   1.573950e+05         157395.000000      157395.000000   \n",
       "mean        0.066184   4.601535e+18              0.638915           0.167686   \n",
       "std         0.248604   2.663129e+18              0.480317           0.373589   \n",
       "min         0.000000   2.071920e+13              0.000000           0.000000   \n",
       "25%         0.000000   2.293050e+18              0.000000           0.000000   \n",
       "50%         0.000000   4.591110e+18              1.000000           0.000000   \n",
       "75%         0.000000   6.909045e+18              1.000000           0.000000   \n",
       "max         1.000000   9.223280e+18              1.000000           1.000000   \n",
       "\n",
       "       TotalPageViews   PlacedSearch  SecondsOnSite  ClickedBanner  \\\n",
       "count   157395.000000  157395.000000  157395.000000  157395.000000   \n",
       "mean        18.818673       0.475295    2181.086451       0.052575   \n",
       "std         28.503861       0.499391    4010.011055       0.223184   \n",
       "min          1.000000       0.000000       0.000000       0.000000   \n",
       "25%          4.000000       0.000000      86.000000       0.000000   \n",
       "50%         10.000000       0.000000     481.000000       0.000000   \n",
       "75%         22.000000       1.000000    2176.000000       0.000000   \n",
       "max        895.000000       1.000000   60182.000000       1.000000   \n",
       "\n",
       "       AddedToBasket  \n",
       "count  157395.000000  \n",
       "mean        0.189828  \n",
       "std         0.392166  \n",
       "min         0.000000  \n",
       "25%         0.000000  \n",
       "50%         0.000000  \n",
       "75%         0.000000  \n",
       "max         1.000000  "
      ]
     },
     "execution_count": 13,
     "metadata": {},
     "output_type": "execute_result"
    }
   ],
   "source": [
    "High_income.describe()"
   ]
  },
  {
   "cell_type": "code",
   "execution_count": 14,
   "metadata": {
    "scrolled": true
   },
   "outputs": [
    {
     "data": {
      "text/plain": [
       "<matplotlib.axes._subplots.AxesSubplot at 0x1168a55f8>"
      ]
     },
     "execution_count": 14,
     "metadata": {},
     "output_type": "execute_result"
    },
    {
     "data": {
      "image/png": "[encoded data removed]",
      "text/plain": [
       "<Figure size 432x288 with 1 Axes>"
      ]
     },
     "metadata": {},
     "output_type": "display_data"
    }
   ],
   "source": [
    "# Assume Viewed Sales meaning more interested in Sales\n",
    "# Count whether people viewed sales in visit or not, by income group\n",
    "sns.countplot(x = 'ViewedSaleInVisit', data = data_income, hue = 'IncomeRange', palette = 'hls')"
   ]
  },
  {
   "cell_type": "code",
   "execution_count": 15,
   "metadata": {},
   "outputs": [
    {
     "data": {
      "text/plain": [
       "<matplotlib.axes._subplots.AxesSubplot at 0x116bd5f60>"
      ]
     },
     "execution_count": 15,
     "metadata": {},
     "output_type": "execute_result"
    },
    {
     "data": {
      "image/png": "[encoded data removed]",
      "text/plain": [
       "<Figure size 432x288 with 1 Axes>"
      ]
     },
     "metadata": {},
     "output_type": "display_data"
    }
   ],
   "source": [
    "# Count whether people viewed sales in visit or not, by income group \n",
    "sns.barplot( x = 'IncomeRange', y = 'ViewedSaleInVisit',data = data_income, palette = 'hls')\n",
    "# Low income people are more intested in Sales bc they have higher rate of viewing Sales \n",
    "#( high-income:16.5, Med income: 18.5, low income: 20%"
   ]
  },
  {
   "cell_type": "code",
   "execution_count": 16,
   "metadata": {},
   "outputs": [
    {
     "data": {
      "text/plain": [
       "<matplotlib.axes._subplots.AxesSubplot at 0x116d5b4a8>"
      ]
     },
     "execution_count": 16,
     "metadata": {},
     "output_type": "execute_result"
    },
    {
     "data": {
      "image/png": "[encoded data removed]",
      "text/plain": [
       "<Figure size 432x288 with 1 Axes>"
      ]
     },
     "metadata": {},
     "output_type": "display_data"
    }
   ],
   "source": [
    "sns.barplot( x = 'IncomeRange', y = 'Purchased',data = data_income, palette = 'hls')\n"
   ]
  },
  {
   "cell_type": "code",
   "execution_count": 17,
   "metadata": {},
   "outputs": [
    {
     "data": {
      "text/plain": [
       "<matplotlib.axes._subplots.AxesSubplot at 0x116bafb38>"
      ]
     },
     "execution_count": 17,
     "metadata": {},
     "output_type": "execute_result"
    },
    {
     "data": {
      "image/png": "[encoded data removed]",
      "text/plain": [
       "<Figure size 432x288 with 1 Axes>"
      ]
     },
     "metadata": {},
     "output_type": "display_data"
    }
   ],
   "source": [
    "# Percentage of people who clicked banner, by Income Range\n",
    "sns.barplot( x = 'IncomeRange', y = 'ClickedBanner',data = data_income, palette = 'hls')\n",
    "# Low income people are more likely to Click on the Banner (high-income:5.2%, Med income:5.5%, low income: 6% )\n",
    "# This means the offer sales and using Banner will work better with low income people"
   ]
  },
  {
   "cell_type": "code",
   "execution_count": 18,
   "metadata": {
    "scrolled": true
   },
   "outputs": [
    {
     "data": {
      "text/plain": [
       "<matplotlib.axes._subplots.AxesSubplot at 0x116d697b8>"
      ]
     },
     "execution_count": 18,
     "metadata": {},
     "output_type": "execute_result"
    },
    {
     "data": {
      "image/png": "[encoded data removed]",
      "text/plain": [
       "<Figure size 432x288 with 1 Axes>"
      ]
     },
     "metadata": {},
     "output_type": "display_data"
    }
   ],
   "source": [
    "# Percentage of people who clicked banner, by platform they used\n",
    "sns.barplot( x = 'PlatformUsed', y = 'ClickedBanner',data = data, palette = 'hls')\n",
    "# People Click more when they are on the Web ( 5% Web vs. 4.1 % Phone)"
   ]
  },
  {
   "cell_type": "code",
   "execution_count": 19,
   "metadata": {
    "scrolled": true
   },
   "outputs": [
    {
     "data": {
      "text/plain": [
       "<matplotlib.axes._subplots.AxesSubplot at 0x1169d3a58>"
      ]
     },
     "execution_count": 19,
     "metadata": {},
     "output_type": "execute_result"
    },
    {
     "data": {
      "image/png": "[encoded data removed]",
      "text/plain": [
       "<Figure size 432x288 with 1 Axes>"
      ]
     },
     "metadata": {},
     "output_type": "display_data"
    }
   ],
   "source": [
    "# # Percentage of people who clicked banner, by platform they used\n",
    "sns.barplot( x = 'PlatformUsed', y = 'AddedToBasket',data = data, palette = 'hls')\n",
    "# Among all people, people Add to Basket almost at the same rate when they are on the phone and on the web, both 14.2 %"
   ]
  },
  {
   "cell_type": "code",
   "execution_count": 20,
   "metadata": {},
   "outputs": [
    {
     "data": {
      "text/plain": [
       "<matplotlib.axes._subplots.AxesSubplot at 0x1169cc5f8>"
      ]
     },
     "execution_count": 20,
     "metadata": {},
     "output_type": "execute_result"
    },
    {
     "data": {
      "image/png": "[encoded data removed]",
      "text/plain": [
       "<Figure size 432x288 with 1 Axes>"
      ]
     },
     "metadata": {},
     "output_type": "display_data"
    }
   ],
   "source": [
    "# Percentage of people who purchased, by platform they used\n",
    "sns.barplot( x = 'PlatformUsed', y = 'Purchased',data = data, palette = 'hls')\n",
    "# Among all people, people buy a lot more when they are on the Web( 3.2 %) compared to when they are on the phone (1.9%)\n",
    "# same add to basket rate, but much lower purchase rate"
   ]
  },
  {
   "cell_type": "code",
   "execution_count": 21,
   "metadata": {},
   "outputs": [
    {
     "data": {
      "text/plain": [
       "<matplotlib.axes._subplots.AxesSubplot at 0x1179adb70>"
      ]
     },
     "execution_count": 21,
     "metadata": {},
     "output_type": "execute_result"
    },
    {
     "data": {
      "image/png": "[encoded data removed]",
      "text/plain": [
       "<Figure size 432x288 with 1 Axes>"
      ]
     },
     "metadata": {},
     "output_type": "display_data"
    }
   ],
   "source": [
    "# # Percentage of people who purchased, by gender\n",
    "sns.barplot( x = 'Gender', y = 'Purchased',data = data, palette = 'hls')\n",
    "# Among all, people purchase more when they are Male, 0.055 vs 0.07 ( 5.5% vs 7.1%)"
   ]
  },
  {
   "cell_type": "code",
   "execution_count": 22,
   "metadata": {},
   "outputs": [
    {
     "data": {
      "text/plain": [
       "Index(['Purchased', 'VisitDate', 'UniqueVisitID', 'VisitorGroup',\n",
       "       'PlatformUsed', 'VisitSource', 'BrowserName', 'OSName', 'State',\n",
       "       'Gender', 'IncomeRange', 'ViewedProductInVisit', 'ViewedSaleInVisit',\n",
       "       'TotalPageViews', 'PlacedSearch', 'SecondsOnSite', 'ClickedBanner',\n",
       "       'AddedToBasket'],\n",
       "      dtype='object')"
      ]
     },
     "execution_count": 22,
     "metadata": {},
     "output_type": "execute_result"
    }
   ],
   "source": [
    "data_income.columns"
   ]
  },
  {
   "cell_type": "markdown",
   "metadata": {},
   "source": [
    "## Split data set into phone user and web user"
   ]
  },
  {
   "cell_type": "code",
   "execution_count": 23,
   "metadata": {},
   "outputs": [],
   "source": [
    "phone_user = data[data['PlatformUsed'] == 'Phone']\n",
    "web_user = data[data['PlatformUsed'] == 'Web']"
   ]
  },
  {
   "cell_type": "code",
   "execution_count": 24,
   "metadata": {},
   "outputs": [
    {
     "data": {
      "text/plain": [
       "<matplotlib.axes._subplots.AxesSubplot at 0x117a889e8>"
      ]
     },
     "execution_count": 24,
     "metadata": {},
     "output_type": "execute_result"
    },
    {
     "data": {
      "image/png": "[encoded data removed]",
      "text/plain": [
       "<Figure size 432x288 with 1 Axes>"
      ]
     },
     "metadata": {},
     "output_type": "display_data"
    }
   ],
   "source": [
    "sns.barplot( x = 'Gender', y = 'Purchased',data = phone_user , palette = 'hls')\n",
    "# Among all phone users, male purchase slightly more than women (0.054 vs. 0.047) or 5.4% vs 4.7%"
   ]
  },
  {
   "cell_type": "code",
   "execution_count": 25,
   "metadata": {},
   "outputs": [
    {
     "data": {
      "text/plain": [
       "<matplotlib.axes._subplots.AxesSubplot at 0x1178d7f60>"
      ]
     },
     "execution_count": 25,
     "metadata": {},
     "output_type": "execute_result"
    },
    {
     "data": {
      "image/png": "[encoded data removed]",
      "text/plain": [
       "<Figure size 432x288 with 1 Axes>"
      ]
     },
     "metadata": {},
     "output_type": "display_data"
    }
   ],
   "source": [
    "sns.barplot( x = 'IncomeRange', y = 'Purchased',data = phone_user , palette = 'hls')\n",
    "# For phone user, low income people buy slightly a little more ( 5.8% compared to 5.2% of high or mid income)"
   ]
  },
  {
   "cell_type": "code",
   "execution_count": 26,
   "metadata": {},
   "outputs": [
    {
     "data": {
      "text/plain": [
       "<matplotlib.axes._subplots.AxesSubplot at 0x117ade828>"
      ]
     },
     "execution_count": 26,
     "metadata": {},
     "output_type": "execute_result"
    },
    {
     "data": {
      "image/png": "[encoded data removed]",
      "text/plain": [
       "<Figure size 432x288 with 1 Axes>"
      ]
     },
     "metadata": {},
     "output_type": "display_data"
    }
   ],
   "source": [
    "sns.barplot( x = 'Gender', y = 'ClickedBanner',data = phone_user , palette = 'hls')\n",
    "# Among all phone users, male have the same click banner rate as women, 5%\n",
    "# Male purchase more if they are using phone, they have the same rate of clicking like women on the banner."
   ]
  },
  {
   "cell_type": "code",
   "execution_count": 27,
   "metadata": {},
   "outputs": [],
   "source": [
    "#sns.barplot( x = 'Gender', y = 'ClickedBanner',data = web_user , palette = 'hls')\n",
    "# Among all web users, women click to banner more( 6.1%) while men click on banner less 5.1%\n",
    "# Male purchase more if they are using web, but they don't click Banner on the webas much as women.\n"
   ]
  },
  {
   "cell_type": "markdown",
   "metadata": {},
   "source": [
    "## Split by gender"
   ]
  },
  {
   "cell_type": "code",
   "execution_count": 28,
   "metadata": {},
   "outputs": [],
   "source": [
    "# Split into Male and Female group:\n",
    "data_gender = data.dropna(axis = 0, subset = ['Gender'])\n",
    "male = data_gender[data_gender['Gender'] == 'Male'].drop(['Gender'], axis = 1)\n",
    "female = data_gender[data_gender['Gender'] == 'Female'].drop(['Gender'], axis =1)"
   ]
  },
  {
   "cell_type": "code",
   "execution_count": 29,
   "metadata": {},
   "outputs": [],
   "source": [
    "# If you are Female, Clicked to Banner does explain whether you purchase or not.\n",
    "# But clicked to Banner reduces the odd that you will purchase by 0.871 ( decrease)\n",
    "# If you are female, if you are high income, the odd of you buying is 1.113 higher compared to mid income\n",
    "# If you are female, if you are high income, the odd of you buying is 1.1 higher compared to low income\n"
   ]
  },
  {
   "cell_type": "code",
   "execution_count": 30,
   "metadata": {},
   "outputs": [],
   "source": [
    "# Clicked Banner is  helpful in explaining the model\n",
    "# decrease the odd of purchase by 0.88\n",
    "# "
   ]
  },
  {
   "cell_type": "code",
   "execution_count": null,
   "metadata": {},
   "outputs": [],
   "source": []
  }
 ],
 "metadata": {
  "kernelspec": {
   "display_name": "Python 3",
   "language": "python",
   "name": "python3"
  },
  "language_info": {
   "codemirror_mode": {
    "name": "ipython",
    "version": 3
   },
   "file_extension": ".py",
   "mimetype": "text/x-python",
   "name": "python",
   "nbconvert_exporter": "python",
   "pygments_lexer": "ipython3",
   "version": "3.6.8"
  },
  "pycharm": {
   "stem_cell": {
    "cell_type": "raw",
    "metadata": {
     "collapsed": false
    },
    "source": []
   }
  }
 },
 "nbformat": 4,
 "nbformat_minor": 2
}
